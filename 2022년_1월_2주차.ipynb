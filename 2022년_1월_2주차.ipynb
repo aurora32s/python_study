{
  "nbformat": 4,
  "nbformat_minor": 0,
  "metadata": {
    "colab": {
      "name": "2022년 1월 2주차",
      "provenance": [],
      "collapsed_sections": [
        "C9aEYRuFTXed"
      ],
      "authorship_tag": "ABX9TyP62PbnTsq7Jw94akP3Dnvw",
      "include_colab_link": true
    },
    "kernelspec": {
      "name": "python3",
      "display_name": "Python 3"
    },
    "language_info": {
      "name": "python"
    }
  },
  "cells": [
    {
      "cell_type": "markdown",
      "metadata": {
        "id": "view-in-github",
        "colab_type": "text"
      },
      "source": [
        "<a href=\"https://colab.research.google.com/github/aurora32s/python_study/blob/master/2022%EB%85%84_1%EC%9B%94_2%EC%A3%BC%EC%B0%A8.ipynb\" target=\"_parent\"><img src=\"https://colab.research.google.com/assets/colab-badge.svg\" alt=\"Open In Colab\"/></a>"
      ]
    },
    {
      "cell_type": "markdown",
      "source": [
        "# 구슬탈출 2 (13460번)\n",
        "\n",
        "## 문제\n",
        "스타트링크에서 판매하는 어린이용 장난감 중에서 가장 인기가 많은 제품은 구슬 탈출이다. 구슬 탈출은 직사각형 보드에 빨간 구슬과 파란 구슬을 하나씩 넣은 다음, 빨간 구슬을 구멍을 통해 빼내는 게임이다.\n",
        "\n",
        "보드의 세로 크기는 N, 가로 크기는 M이고, 편의상 1x1 크기의 칸으로 나누어져 있다. 가장 바깥 행과 열은 모두 막혀져 있고, 보드에는 구멍이 하나 있다. 빨간 구슬과 파란 구슬의 크기는 보드에서 1x1 크기의 칸을 가득 채우는 사이즈이고, 각각 하나씩 들어가 있다. 게임의 목표는 빨간 구슬을 구멍을 통해서 빼내는 것이다. 이 때, 파란 구슬이 구멍에 들어가면 안 된다.\n",
        "\n",
        "이 때, 구슬을 손으로 건드릴 수는 없고, 중력을 이용해서 이리 저리 굴려야 한다. 왼쪽으로 기울이기, 오른쪽으로 기울이기, 위쪽으로 기울이기, 아래쪽으로 기울이기와 같은 네 가지 동작이 가능하다.\n",
        "\n",
        "각각의 동작에서 공은 동시에 움직인다. 빨간 구슬이 구멍에 빠지면 성공이지만, 파란 구슬이 구멍에 빠지면 실패이다. 빨간 구슬과 파란 구슬이 동시에 구멍에 빠져도 실패이다. 빨간 구슬과 파란 구슬은 동시에 같은 칸에 있을 수 없다. 또, 빨간 구슬과 파란 구슬의 크기는 한 칸을 모두 차지한다. 기울이는 동작을 그만하는 것은 더 이상 구슬이 움직이지 않을 때 까지이다.\n",
        "\n",
        "보드의 상태가 주어졌을 때, 최소 몇 번 만에 빨간 구슬을 구멍을 통해 빼낼 수 있는지 구하는 프로그램을 작성하시오.\n",
        "\n",
        "## 입력\n",
        "첫 번째 줄엔 보드의 세로, 가로 크기를 의미하는 두 정수 N, M (3<=N,M<=10)이 주어진다. 다음 N개의 줄에 보드의 모양을 나타내는 길이 M의 문자열이 주어진다. 이 문자열은 '.', '#', '0', 'R', 'B'로 이루어져 있다. '.'은 빈칸을 의미하고, '#'은 공이 이동할 수 없는 장애물 또는 벽을 의미하여, '0'는 구멍의 위치를 의미한다. 'R'은 빨간 구슬의 위치, 'B'는 파란 구슬의 위치이다.\n",
        "\n",
        "입력되는 모든 보드의 가장자리에는 모두 '#'이 있다. 구멍의 개수는 한 개이며, 빨간 구슬과 파란 구슬은 항상 1개가 주어진다.\n",
        "\n",
        "## 출력\n",
        "최소 몇 번 만에 빨간 구슬을 구멍을 통해 빼낼 수 있는지 출력한다. 만약, 10번 이하로 움직여서 빨간 구슬을 구멍을 통해 빼낼 수 없으며 -1을 출력한다."
      ],
      "metadata": {
        "id": "C9aEYRuFTXed"
      }
    },
    {
      "cell_type": "code",
      "source": [
        "n, m = map(int, input().split()) # 세로, 가로\n",
        "\n",
        "board = []\n",
        "for i in range(n) :\n",
        "  board.append(list(input()))\n",
        "  for j in range(m) :\n",
        "    if board[i][j] == 'R' :\n",
        "      rx, ry = i, j\n",
        "    elif board[i][j] == 'B' :\n",
        "      bx, by = i, j\n",
        "\n",
        "dx = [-1, 0, 1, 0]\n",
        "dy = [0, 1, 0, -1]\n",
        "\n",
        "def bfs (rx, ry, bx, by) :\n",
        "  q = list()\n",
        "  visited = []\n",
        "\n",
        "  q.append((rx,ry,bx,by))\n",
        "  visited.append((rx,ry,bx,by))\n",
        "\n",
        "  count = 0\n",
        "\n",
        "  while len(q) > 0 :\n",
        "    for _ in range(len(q)) :\n",
        "      rx, ry, bx, by = q.pop(0)\n",
        "\n",
        "      if count > 10 :\n",
        "        print(-1)\n",
        "        return\n",
        "      elif board[rx][ry] == 'O' :\n",
        "        print(count)\n",
        "        return\n",
        "\n",
        "      for i in range(4) :\n",
        "        nrx, nry = rx, ry\n",
        "        nbx, nby = bx, by\n",
        "\n",
        "        while True :\n",
        "          nrx += dx[i]\n",
        "          nry += dy[i]\n",
        "          if board[nrx][nry] == '#' :\n",
        "            nrx -= dx[i]\n",
        "            nry -= dy[i]\n",
        "            break\n",
        "          elif board[nrx][nry] == 'O' :\n",
        "            break\n",
        "\n",
        "        while True :\n",
        "          nbx += dx[i]\n",
        "          nby += dy[i]\n",
        "          if board[nbx][nby] == '#' :\n",
        "            nbx -= dx[i]\n",
        "            nby -= dy[i]\n",
        "            break\n",
        "          elif board[nbx][nby] == 'O' :\n",
        "            break\n",
        "\n",
        "        if board[nbx][nby] == 'O' :\n",
        "          continue\n",
        "        if nrx == nbx and nry == nby :\n",
        "          if abs(nrx-rx) + abs(nry-ry) > abs(nbx-bx) + abs(nby-by) :\n",
        "            nrx -= dx[i]\n",
        "            nry -= dy[i]\n",
        "          else :\n",
        "            nbx -= dx[i]\n",
        "            nby -= dy[i]\n",
        "        if (nrx, nry, nbx, nby) not in visited :\n",
        "          q.append((nrx,nry,nbx,nby))\n",
        "          visited.append((nrx,nry,nbx,nby))\n",
        "      # for\n",
        "    # for\n",
        "    count += 1\n",
        "  print(-1)\n",
        "\n",
        "bfs(rx,ry,bx,by)    \n"
      ],
      "metadata": {
        "colab": {
          "base_uri": "https://localhost:8080/"
        },
        "id": "bPkB4j4SWM0O",
        "outputId": "a611cb5c-6f2b-4cc2-f558-c5cb3380919a"
      },
      "execution_count": null,
      "outputs": [
        {
          "output_type": "stream",
          "name": "stdout",
          "text": [
            "7 7\n",
            "#######\n",
            "#...RB#\n",
            "#.#####\n",
            "#.....#\n",
            "#####.#\n",
            "#O....#\n",
            "#######\n",
            "5\n"
          ]
        }
      ]
    },
    {
      "cell_type": "code",
      "source": [
        ""
      ],
      "metadata": {
        "id": "2h9n4xXLY8sa"
      },
      "execution_count": null,
      "outputs": []
    },
    {
      "cell_type": "markdown",
      "source": [
        "# 2048(Easy)(12100번)\n",
        "\n",
        "## 문제\n",
        "2048 게임은 4x4 크기의 보드에서 혼자 즐기는 재미있는 게임이다. \n",
        "\n",
        "이 게임에서 한 번의 이동은 보드 위에 있는 전체 블록을 상하좌우 네 방향 중 하나로 이동시키는 것이다. 이 때, 같은 값을 갖는 두 블록이 충돌하면 두 블록은 하나로 합쳐지게 된다. 한 번의 이동에서 이미 합쳐진 블록은 또 다른 블록과 다시 합쳐질 수 없다. (실제 게임에서는 이동을 한 번 할 때마다 블록이 추가되지만, 이 문제에서 블록이 추가되는 경우는 없다.)\n",
        "\n",
        "이 문제에서 다루는 2048 게임은 보드의 크기가 NxN이다. 보드의 크기와 보드판의 블록 상태가 주어졌을 때, 최대 5번 이동해서 만들 수 있는 가장 큰 블록의 값을 구하는 프로그램을 작성하시오.\n",
        "\n",
        "## 입력\n",
        "첫쨰 줄에 보드의 크기 N(1<=N<=20)이 주어진다. 둘째 줄부터 N개의 줄에는 게임판의 초기 상태가 주어진다. 0은 빈 칸을 나타내며, 이외의 값은 모두 블록을 나타낸다. 블록에 쓰여 있는 수는 2보다 크거나 같고, 1024보다 작거나 같은 2의 제곱꼴이다. 블록은 적어도 하나 주어진다.\n",
        "\n",
        "## 출력\n",
        "최대 5번 이동시켜서 얻을 수 있는 가장 큰 블록을 출력한다.\n",
        "\n"
      ],
      "metadata": {
        "id": "LHur-o_3oVn9"
      }
    },
    {
      "cell_type": "code",
      "source": [
        "import copy\n",
        "\n",
        "n = int(input())\n",
        "maps = [list(map(int, input().split())) for _ in range(n)]\n",
        "def getMax (board) :\n",
        "  result = 0\n",
        "  for row in board :\n",
        "    result = max(result, max(row))\n",
        "  return result\n",
        "\n",
        "def moveTop (board) : # 위로 이동\n",
        "  tmp = copy.deepcopy(board)\n",
        "  for x in range(n) :\n",
        "    idy = 0\n",
        "    for y in range(1, n) :\n",
        "      if tmp[y][x] > 0 :\n",
        "        num = tmp[y][x]\n",
        "        tmp[y][x] = 0\n",
        "\n",
        "        if tmp[idy][x] == 0 :\n",
        "          tmp[idy][x] = num\n",
        "        elif tmp[idy][x] == num :\n",
        "          tmp[idy][x] = num * 2\n",
        "          idy += 1\n",
        "        else :\n",
        "          idy += 1\n",
        "          tmp[idy][x] = num\n",
        "  return tmp\n",
        "\n",
        "def moveLeft (board) : # 왼쪽으로 이동\n",
        "  tmp = copy.deepcopy(board)\n",
        "  for y in range(n) :\n",
        "    idx = 0\n",
        "    for x in range(1, n) :\n",
        "      if tmp[y][x] > 0 :\n",
        "        num = tmp[y][x]\n",
        "        tmp[y][x] = 0\n",
        "\n",
        "        if tmp[y][idx] == 0 :\n",
        "          tmp[y][idx] = num\n",
        "        elif tmp[y][idx] == num :\n",
        "          tmp[y][idx] = num * 2\n",
        "          idx += 1\n",
        "        else :\n",
        "          idx += 1\n",
        "          tmp[y][idx] = num\n",
        "  return tmp\n",
        "\n",
        "def moveRight (board) : # 오른쪽으로 이동\n",
        "  tmp = copy.deepcopy(board)\n",
        "  for y in range(n) :\n",
        "    idx = n - 1\n",
        "    for x in range(n-2, -1, -1) :\n",
        "      if tmp[y][x] > 0 :\n",
        "        num = tmp[y][x]\n",
        "        tmp[y][x] = 0\n",
        "\n",
        "        if tmp[y][idx] == 0 :\n",
        "          tmp[y][idx] = num\n",
        "        elif tmp[y][idx] == num :\n",
        "          tmp[y][idx] = num * 2\n",
        "          idx -= 1\n",
        "        else :\n",
        "          idx -= 1\n",
        "          tmp[y][idx] = num\n",
        "  return tmp\n",
        "\n",
        "def moveBottom (board) : # 밑으로 이동\n",
        "  tmp = copy.deepcopy(board)\n",
        "  for x in range(n) :\n",
        "    idy = n - 1\n",
        "    for y in range(n-2, -1, -1) :\n",
        "      if tmp[y][x] > 0 :\n",
        "        num = tmp[y][x]\n",
        "        tmp[y][x] = 0\n",
        "\n",
        "        if tmp[idy][x] == 0 :\n",
        "          tmp[idy][x] = num\n",
        "        elif tmp[idy][x] == num :\n",
        "          tmp[idy][x] = num * 2\n",
        "          idy -= 1\n",
        "        else :\n",
        "          idy -= 1\n",
        "          tmp[idy][x] = num\n",
        "  return tmp\n",
        "\n",
        "def solve (time, board) :\n",
        "  if time == 5 :\n",
        "    return getMax(board)\n",
        "\n",
        "  # 상하좌우로 이동\n",
        "  t = solve(time + 1, moveTop(board))\n",
        "  r = solve(time + 1, moveRight(board))\n",
        "  b = solve(time + 1, moveBottom(board))\n",
        "  l = solve(time + 1, moveLeft(board))\n",
        "\n",
        "  return max((t,r,b,l))\n",
        "\n",
        "print(solve(0, maps))"
      ],
      "metadata": {
        "colab": {
          "base_uri": "https://localhost:8080/"
        },
        "id": "5ggQKQRnqEfE",
        "outputId": "de19a8aa-ec25-4494-a8d1-51ca5d51896f"
      },
      "execution_count": 15,
      "outputs": [
        {
          "output_type": "stream",
          "name": "stdout",
          "text": [
            "3\n",
            "2 2 2\n",
            "4 4 4\n",
            "8 8 8\n",
            "16\n"
          ]
        }
      ]
    },
    {
      "cell_type": "code",
      "source": [
        ""
      ],
      "metadata": {
        "id": "mGoJF4IgklTK"
      },
      "execution_count": null,
      "outputs": []
    },
    {
      "cell_type": "markdown",
      "source": [
        "# 뱀(3190번)\n",
        "\n",
        "## 문제\n",
        "'Dummy'라는 도스게임이 있다. 이 게임에는 뱀이 나와서 기어다니는데, 사과를 먹으면 뱀 길이가 늘어난다. 뱀이 이리저리 기어다니다가 벽 또는 자기 자신의 몸과 부딪히면 게임이 끝난다.\n",
        "\n",
        "게임은 NxN 정사각 보드위에서 진행되고, 몇몇 칸에는 사과가 놓여져 있다. 보드의 상화좌우 끝에 벽이 있다. 게임이 시작할 때 뱀은 맨위 맨좌측에서 위치하고 뱀의 길이는 1이다. 뱀은 처음에 오른쪽을 향한다.\n",
        "뱀은 매 초마다 이동을 하는데 다음과 같은 규칙을 따른다.\n",
        "\n",
        "- 먼저 뱀은 몸길이를 늘려 머리를 다음칸에 위치시킨다.\n",
        "- 만약 이동한 칸에 사과가 있다면, 그 칸에 있던 사과가 없어지고 꼬리를 움직이지 않는다.\n",
        "- 만약 이동한 칸에 사과가 없다면, 몸길이를 줄여서 꼬리각 위치한 칸을 비워준다. 즉, 몸길이는 변하지 않는다.\n",
        "\n",
        "사과의 위치와 뱀의 이동경로가 주어질 때 이 게임이 몇 초에 끝나는지 계산하라.\n",
        "\n",
        "## 입력\n",
        "첮째 줄에 보드의 크기 N이 주어진다. (2<=N<=100) 다음 줄에 사과의 개수 K가 주어진다. (0<=K<=100)\n",
        "\n",
        "다음 K개의 줄에는 사과의 위치가 주어지는데, 첫 번째 정수는 행, 두번째 정수는 열의 위치를 의미한다. 사과의 위치는 모두 다르며, 맨 위 맨 좌측(1행 1열)에는 사과가 없다.\n",
        "\n",
        "다음 줄에는 뱀의 밤향 변환 횟수 L이 주어진다. (1<=L<=100)\n",
        "\n",
        "다음 L개의 줄에는 뱀의 방향 변환 정보가 주어지는데, 정수 X와 문자 C로 이루어져 있으며, 게임 시작 시간으로부터 X초가 끝난 뒤에 왼쪽(C가 'L') 또는 오른쪽(C가 'D')로 90도 방향을 회전시킨다는 뜻이다. X는 10,000 이하의 양의 정수이며, 방향 전환 정보는 X가 증가하는 순으로 주어진다.\n",
        "\n",
        "## 출력\n",
        "첫째 줄에 게임이 몇 초에 끝나는지 출력한다.\n",
        "\n",
        "## 배운 점\n",
        "head가 지나간 길을 '1'로 표시, 움직일 때마다 꼬리만 pop 시키고 '0'으로 표시해주면 뱀의 몸통을 하나씩 다 움직이는 것보다 더 간편하게 소스를 구현할 수 있다."
      ],
      "metadata": {
        "id": "xlOg00EOlMiN"
      }
    },
    {
      "cell_type": "code",
      "source": [
        "from collections import deque\n",
        "\n",
        "dy = [-1, 0, 1, 0]\n",
        "dx = [0, 1, 0, -1]\n",
        "\n",
        "def changeDir (direction, c) :\n",
        "  if c == 'L' :\n",
        "    direction = (direction - 1) % 4\n",
        "  else :\n",
        "    direction = (direction + 1) % 4\n",
        "  return direction\n",
        "\n",
        "def solve () :\n",
        "  direction = 1\n",
        "  time = 1\n",
        "  x, y = 0, 0\n",
        "  snakes = deque([[y,x]])\n",
        "  board[y][x] = 2\n",
        "\n",
        "  while True :\n",
        "    y, x = y + dy[direction], x + dx[direction]\n",
        "    if 0<= y < n and 0<= x < n and board[y][x] != 2 :\n",
        "      # 벽에 부딪히지 않고, 자신에게 부딪히지 않았을 경우\n",
        "      if not board[y][x] == 1 : # 사과가 없는 칸\n",
        "        tail_y, tail_x = snakes.popleft()\n",
        "        board[tail_y][tail_x] = 0 # 꼬리 제거\n",
        "      board[y][x] = 2\n",
        "      snakes.append([y,x])\n",
        "      if time in times.keys() :\n",
        "        direction = changeDir(direction, times[time])\n",
        "      time += 1\n",
        "    else :\n",
        "      return time\n",
        "\n",
        "n = int(input()) # 보드의 크기\n",
        "k = int(input()) # 사과 개수\n",
        "board= [[0] * n for _ in range(n)]\n",
        "\n",
        "for _ in range(k) :\n",
        "  y, x = map(int, input().split())\n",
        "  board[y-1][x-1] = 1 # 사과\n",
        "\n",
        "l = int(input()) # 방향 전환 횟수\n",
        "times = {} # 반환 전환 정보\n",
        "for _ in range(l) :\n",
        "  time, direction = input().split()\n",
        "  times[int(time)] = direction\n",
        "\n",
        "print(solve())"
      ],
      "metadata": {
        "colab": {
          "base_uri": "https://localhost:8080/"
        },
        "id": "Fn42KMuyqebP",
        "outputId": "2dfa5f1d-508f-461b-a895-678dc7dd9bb7"
      },
      "execution_count": 4,
      "outputs": [
        {
          "output_type": "stream",
          "name": "stdout",
          "text": [
            "10\n",
            "4\n",
            "1 2\n",
            "1 3\n",
            "1 4\n",
            "1 5\n",
            "4\n",
            "8 D\n",
            "10 D\n",
            "11 D\n",
            "13 L\n",
            "21\n"
          ]
        }
      ]
    }
  ]
}