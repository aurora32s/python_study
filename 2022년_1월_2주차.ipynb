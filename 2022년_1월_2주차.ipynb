{
  "nbformat": 4,
  "nbformat_minor": 0,
  "metadata": {
    "colab": {
      "name": "2022년 1월 2주차",
      "provenance": [],
      "collapsed_sections": [],
      "authorship_tag": "ABX9TyN/jLHenP11qxa6TyigxkBP",
      "include_colab_link": true
    },
    "kernelspec": {
      "name": "python3",
      "display_name": "Python 3"
    },
    "language_info": {
      "name": "python"
    }
  },
  "cells": [
    {
      "cell_type": "markdown",
      "metadata": {
        "id": "view-in-github",
        "colab_type": "text"
      },
      "source": [
        "<a href=\"https://colab.research.google.com/github/aurora32s/python_study/blob/master/2022%EB%85%84_1%EC%9B%94_2%EC%A3%BC%EC%B0%A8.ipynb\" target=\"_parent\"><img src=\"https://colab.research.google.com/assets/colab-badge.svg\" alt=\"Open In Colab\"/></a>"
      ]
    },
    {
      "cell_type": "markdown",
      "source": [
        "# 구슬탈출 2 (13460번)\n",
        "\n",
        "## 문제\n",
        "스타트링크에서 판매하는 어린이용 장난감 중에서 가장 인기가 많은 제품은 구슬 탈출이다. 구슬 탈출은 직사각형 보드에 빨간 구슬과 파란 구슬을 하나씩 넣은 다음, 빨간 구슬을 구멍을 통해 빼내는 게임이다.\n",
        "\n",
        "보드의 세로 크기는 N, 가로 크기는 M이고, 편의상 1x1 크기의 칸으로 나누어져 있다. 가장 바깥 행과 열은 모두 막혀져 있고, 보드에는 구멍이 하나 있다. 빨간 구슬과 파란 구슬의 크기는 보드에서 1x1 크기의 칸을 가득 채우는 사이즈이고, 각각 하나씩 들어가 있다. 게임의 목표는 빨간 구슬을 구멍을 통해서 빼내는 것이다. 이 때, 파란 구슬이 구멍에 들어가면 안 된다.\n",
        "\n",
        "이 때, 구슬을 손으로 건드릴 수는 없고, 중력을 이용해서 이리 저리 굴려야 한다. 왼쪽으로 기울이기, 오른쪽으로 기울이기, 위쪽으로 기울이기, 아래쪽으로 기울이기와 같은 네 가지 동작이 가능하다.\n",
        "\n",
        "각각의 동작에서 공은 동시에 움직인다. 빨간 구슬이 구멍에 빠지면 성공이지만, 파란 구슬이 구멍에 빠지면 실패이다. 빨간 구슬과 파란 구슬이 동시에 구멍에 빠져도 실패이다. 빨간 구슬과 파란 구슬은 동시에 같은 칸에 있을 수 없다. 또, 빨간 구슬과 파란 구슬의 크기는 한 칸을 모두 차지한다. 기울이는 동작을 그만하는 것은 더 이상 구슬이 움직이지 않을 때 까지이다.\n",
        "\n",
        "보드의 상태가 주어졌을 때, 최소 몇 번 만에 빨간 구슬을 구멍을 통해 빼낼 수 있는지 구하는 프로그램을 작성하시오.\n",
        "\n",
        "## 입력\n",
        "첫 번째 줄엔 보드의 세로, 가로 크기를 의미하는 두 정수 N, M (3<=N,M<=10)이 주어진다. 다음 N개의 줄에 보드의 모양을 나타내는 길이 M의 문자열이 주어진다. 이 문자열은 '.', '#', '0', 'R', 'B'로 이루어져 있다. '.'은 빈칸을 의미하고, '#'은 공이 이동할 수 없는 장애물 또는 벽을 의미하여, '0'는 구멍의 위치를 의미한다. 'R'은 빨간 구슬의 위치, 'B'는 파란 구슬의 위치이다.\n",
        "\n",
        "입력되는 모든 보드의 가장자리에는 모두 '#'이 있다. 구멍의 개수는 한 개이며, 빨간 구슬과 파란 구슬은 항상 1개가 주어진다.\n",
        "\n",
        "## 출력\n",
        "최소 몇 번 만에 빨간 구슬을 구멍을 통해 빼낼 수 있는지 출력한다. 만약, 10번 이하로 움직여서 빨간 구슬을 구멍을 통해 빼낼 수 없으며 -1을 출력한다."
      ],
      "metadata": {
        "id": "C9aEYRuFTXed"
      }
    },
    {
      "cell_type": "code",
      "source": [
        "n, m = map(int, input().split()) # 세로, 가로\n",
        "\n",
        "board = []\n",
        "for i in range(n) :\n",
        "  board.append(list(input()))\n",
        "  for j in range(m) :\n",
        "    if board[i][j] == 'R' :\n",
        "      rx, ry = i, j\n",
        "    elif board[i][j] == 'B' :\n",
        "      bx, by = i, j\n",
        "\n",
        "dx = [-1, 0, 1, 0]\n",
        "dy = [0, 1, 0, -1]\n",
        "\n",
        "def bfs (rx, ry, bx, by) :\n",
        "  q = list()\n",
        "  visited = []\n",
        "\n",
        "  q.append((rx,ry,bx,by))\n",
        "  visited.append((rx,ry,bx,by))\n",
        "\n",
        "  count = 0\n",
        "\n",
        "  while len(q) > 0 :\n",
        "    for _ in range(len(q)) :\n",
        "      rx, ry, bx, by = q.pop(0)\n",
        "\n",
        "      if count > 10 :\n",
        "        print(-1)\n",
        "        return\n",
        "      elif board[rx][ry] == 'O' :\n",
        "        print(count)\n",
        "        return\n",
        "\n",
        "      for i in range(4) :\n",
        "        nrx, nry = rx, ry\n",
        "        nbx, nby = bx, by\n",
        "\n",
        "        while True :\n",
        "          nrx += dx[i]\n",
        "          nry += dy[i]\n",
        "          if board[nrx][nry] == '#' :\n",
        "            nrx -= dx[i]\n",
        "            nry -= dy[i]\n",
        "            break\n",
        "          elif board[nrx][nry] == 'O' :\n",
        "            break\n",
        "\n",
        "        while True :\n",
        "          nbx += dx[i]\n",
        "          nby += dy[i]\n",
        "          if board[nbx][nby] == '#' :\n",
        "            nbx -= dx[i]\n",
        "            nby -= dy[i]\n",
        "            break\n",
        "          elif board[nbx][nby] == 'O' :\n",
        "            break\n",
        "\n",
        "        if board[nbx][nby] == 'O' :\n",
        "          continue\n",
        "        if nrx == nbx and nry == nby :\n",
        "          if abs(nrx-rx) + abs(nry-ry) > abs(nbx-bx) + abs(nby-by) :\n",
        "            nrx -= dx[i]\n",
        "            nry -= dy[i]\n",
        "          else :\n",
        "            nbx -= dx[i]\n",
        "            nby -= dy[i]\n",
        "        if (nrx, nry, nbx, nby) not in visited :\n",
        "          q.append((nrx,nry,nbx,nby))\n",
        "          visited.append((nrx,nry,nbx,nby))\n",
        "      # for\n",
        "    # for\n",
        "    count += 1\n",
        "  print(-1)\n",
        "\n",
        "bfs(rx,ry,bx,by)    \n"
      ],
      "metadata": {
        "colab": {
          "base_uri": "https://localhost:8080/"
        },
        "id": "bPkB4j4SWM0O",
        "outputId": "a611cb5c-6f2b-4cc2-f558-c5cb3380919a"
      },
      "execution_count": 10,
      "outputs": [
        {
          "output_type": "stream",
          "name": "stdout",
          "text": [
            "7 7\n",
            "#######\n",
            "#...RB#\n",
            "#.#####\n",
            "#.....#\n",
            "#####.#\n",
            "#O....#\n",
            "#######\n",
            "5\n"
          ]
        }
      ]
    },
    {
      "cell_type": "code",
      "source": [
        ""
      ],
      "metadata": {
        "id": "2h9n4xXLY8sa"
      },
      "execution_count": null,
      "outputs": []
    },
    {
      "cell_type": "markdown",
      "source": [
        "# 2048(Easy)(12100번)\n",
        "\n",
        "## 문제\n",
        "2048 게임은 4x4 크기의 보드에서 혼자 즐기는 재미있는 게임이다. \n",
        "\n",
        "이 게임에서 한 번의 이동은 보드 위에 있는 전체 블록을 상하좌우 네 방향 중 하나로 이동시키는 것이다. 이 때, 같은 값을 갖는 두 블록이 충돌하면 두 블록은 하나로 합쳐지게 된다. 한 번의 이동에서 이미 합쳐진 블록은 또 다른 블록과 다시 합쳐질 수 없다. (실제 게임에서는 이동을 한 번 할 때마다 블록이 추가되지만, 이 문제에서 블록이 추가되는 경우는 없다.)\n",
        "\n",
        "이 문제에서 다루는 2048 게임은 보드의 크기가 NxN이다. 보드의 크기와 보드판의 블록 상태가 주어졌을 때, 최대 5번 이동해서 만들 수 있는 가장 큰 블록의 값을 구하는 프로그램을 작성하시오.\n",
        "\n",
        "## 입력\n",
        "첫쨰 줄에 보드의 크기 N(1<=N<=20)이 주어진다. 둘째 줄부터 N개의 줄에는 게임판의 초기 상태가 주어진다. 0은 빈 칸을 나타내며, 이외의 값은 모두 블록을 나타낸다. 블록에 쓰여 있는 수는 2보다 크거나 같고, 1024보다 작거나 같은 2의 제곱꼴이다. 블록은 적어도 하나 주어진다.\n",
        "\n",
        "## 출력\n",
        "최대 5번 이동시켜서 얻을 수 있는 가장 큰 블록을 출력한다.\n",
        "\n"
      ],
      "metadata": {
        "id": "LHur-o_3oVn9"
      }
    }
  ]
}