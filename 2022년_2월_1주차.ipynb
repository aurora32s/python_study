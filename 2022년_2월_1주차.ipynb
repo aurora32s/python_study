{
  "nbformat": 4,
  "nbformat_minor": 0,
  "metadata": {
    "colab": {
      "name": "2022년 2월 1주차",
      "provenance": [],
      "authorship_tag": "ABX9TyN/FmmS3veyXBGXPvIsPqht",
      "include_colab_link": true
    },
    "kernelspec": {
      "name": "python3",
      "display_name": "Python 3"
    },
    "language_info": {
      "name": "python"
    }
  },
  "cells": [
    {
      "cell_type": "markdown",
      "metadata": {
        "id": "view-in-github",
        "colab_type": "text"
      },
      "source": [
        "<a href=\"https://colab.research.google.com/github/aurora32s/python_study/blob/master/2022%EB%85%84_2%EC%9B%94_1%EC%A3%BC%EC%B0%A8.ipynb\" target=\"_parent\"><img src=\"https://colab.research.google.com/assets/colab-badge.svg\" alt=\"Open In Colab\"/></a>"
      ]
    },
    {
      "cell_type": "markdown",
      "source": [
        "# 괄호 추가하기 (16637번)\n",
        "\n",
        "## 문제\n",
        "길이가 N인 수식이 있다. 수식은 0보다 크거나 같고, 9보다 작거나 같은 정수와 연산자 (+,-,x)로 이루어져 있다. 연산자 우선순위는 모두 동일하기 때문에, 수식을 계산할 때는 왼쪽에서부터 순서대로 계산해야 한다. 예를 들어, 3+8x7-9x2의 결과는 136이다.\n",
        "\n",
        "수식에 괄호를 추가하면, 괄호 안에 들어있는 식은 먼저 계산해야 한다. 단, 괄호 안에는 연산자가 하나만 들어 있어야 한다. 예를 들어, 3+8x7-9x2에 괄호를 3+(8x7)-(9x2)와 같이 추가했으면, 식의 결과는 41이 된다. 하지만, 중첩된 괄호는 사용할 수 없다. 즉, 3+((8x7)-9)x2, 3+((8x7)-(9x2))은 모두 괄호 안에 괄호가 있기 떄문에, 올바른 식이 아니다.\n",
        "\n",
        "수식이 주어졌을 때, 괄호를 적절히 추가해 만들 수 있는 식의 결과의 최댓값을 구하는 프로그래을 작성하시오. 추가하는 괄호 개수의 제한은 없으며, 추가하지 않아도 된다.\n",
        "\n",
        "## 입력\n",
        "첫째 줄에 수식의 길이 N(1<=N<=19)가 주어진다. 둘째 줄에는 수식이 주어진다. 수식에 포함된 정수는 모두 0보다 크거나 같고, 9보다 작거나 같다. 문자열은 정수로 시작하고, 연산자와 정수가 번갈아가면서 나온다. 연산자는 (+,-,x) 중 하나이며, 여기서 *는 곱하기 연산을 나타내는 x 연산이다. 항상 올바른 수식만 주어지기 떄문에, N은 홀수이다.\n",
        "\n",
        "## 출력\n",
        "첫째 줄에 괄호를 적절히 추가해서 얻을 수 있는 결과의 최댓값을 출력한다. 정답은 2^31보다 작고, -2^31보다 크다.\n",
        "\n",
        "\n",
        "\n"
      ],
      "metadata": {
        "id": "xJWXKOp0lIB4"
      }
    },
    {
      "cell_type": "code",
      "source": [
        "n = int(input()) // 2 + 1\n",
        "\n",
        "numbers = []\n",
        "operator = []\n",
        "for index, s in enumerate(input()) :\n",
        "  if index % 2 == 0 :\n",
        "    numbers.append(int(s))\n",
        "  else :\n",
        "    operator.append(s)\n",
        "\n",
        "def calculator (a, b, op) :\n",
        "  if operator[op] == '+' :\n",
        "    return a+b\n",
        "  elif operator[op] == '-' :\n",
        "    return a-b\n",
        "  else :\n",
        "    return a*b\n",
        "\n",
        "if n == 1 :\n",
        "  print(numbers[0])\n",
        "elif n == 2 :\n",
        "  print(calculator(numbers[0],numbers[1],0))\n",
        "else :\n",
        "  dp = [[0]*2 for _ in range(n)]\n",
        "  dp[0][0] = dp[0][1] = numbers[0]\n",
        "  dp[1][0] = dp[1][1] = calculator(numbers[0], numbers[1], 0)\n",
        "\n",
        "  for i in range(2 , n) :\n",
        "    result = []\n",
        "    result.append(calculator(dp[i-2][0], calculator(numbers[i-1],numbers[i], i-1), i-2))\n",
        "    result.append(calculator(dp[i-2][1], calculator(numbers[i-1],numbers[i], i-1), i-2))\n",
        "    result.append(calculator(dp[i-1][0], numbers[i], i-1))\n",
        "    result.append(calculator(dp[i-1][1], numbers[i], i-1))\n",
        "    dp[i][0] = min(result)\n",
        "    dp[i][1] = max(result)\n",
        "\n",
        "print(dp[n-1][1])"
      ],
      "metadata": {
        "colab": {
          "base_uri": "https://localhost:8080/"
        },
        "id": "gKNxg2UXvEY8",
        "outputId": "5c908a13-b6cd-427a-88c3-72f1d398efc3"
      },
      "execution_count": 37,
      "outputs": [
        {
          "output_type": "stream",
          "name": "stdout",
          "text": [
            "19\n",
            "1*2+3*4*5-6*7*8*9*9\n",
            "[[1, 1], [2, 2], [5, 5], [14, 20], [70, 100], [-20, 94], [-140, 658], [-1120, 5264], [-10080, 47376], [-90720, 426384]]\n"
          ]
        }
      ]
    },
    {
      "cell_type": "code",
      "source": [
        "dp"
      ],
      "metadata": {
        "colab": {
          "base_uri": "https://localhost:8080/"
        },
        "id": "YPMMnIvkveAv",
        "outputId": "d9659533-860f-4935-e599-27bfbecdfa30"
      },
      "execution_count": 29,
      "outputs": [
        {
          "output_type": "execute_result",
          "data": {
            "text/plain": [
              "[1, -8, -7, 0, -1, 8, 7, 16, 15, 24]"
            ]
          },
          "metadata": {},
          "execution_count": 29
        }
      ]
    },
    {
      "cell_type": "code",
      "source": [
        ""
      ],
      "metadata": {
        "id": "xRbib8fzvlLN"
      },
      "execution_count": null,
      "outputs": []
    }
  ]
}