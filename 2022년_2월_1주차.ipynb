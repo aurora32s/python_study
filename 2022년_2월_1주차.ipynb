{
  "nbformat": 4,
  "nbformat_minor": 0,
  "metadata": {
    "colab": {
      "name": "2022년 2월 1주차",
      "provenance": [],
      "collapsed_sections": [
        "xJWXKOp0lIB4",
        "vIoc3jHmIZAu"
      ],
      "authorship_tag": "ABX9TyOeGI7kYcOGDD7YKtk4EOiU",
      "include_colab_link": true
    },
    "kernelspec": {
      "name": "python3",
      "display_name": "Python 3"
    },
    "language_info": {
      "name": "python"
    }
  },
  "cells": [
    {
      "cell_type": "markdown",
      "metadata": {
        "id": "view-in-github",
        "colab_type": "text"
      },
      "source": [
        "<a href=\"https://colab.research.google.com/github/aurora32s/python_study/blob/master/2022%EB%85%84_2%EC%9B%94_1%EC%A3%BC%EC%B0%A8.ipynb\" target=\"_parent\"><img src=\"https://colab.research.google.com/assets/colab-badge.svg\" alt=\"Open In Colab\"/></a>"
      ]
    },
    {
      "cell_type": "markdown",
      "source": [
        "# 괄호 추가하기 (16637번)\n",
        "\n",
        "## 문제\n",
        "길이가 N인 수식이 있다. 수식은 0보다 크거나 같고, 9보다 작거나 같은 정수와 연산자 (+,-,x)로 이루어져 있다. 연산자 우선순위는 모두 동일하기 때문에, 수식을 계산할 때는 왼쪽에서부터 순서대로 계산해야 한다. 예를 들어, 3+8x7-9x2의 결과는 136이다.\n",
        "\n",
        "수식에 괄호를 추가하면, 괄호 안에 들어있는 식은 먼저 계산해야 한다. 단, 괄호 안에는 연산자가 하나만 들어 있어야 한다. 예를 들어, 3+8x7-9x2에 괄호를 3+(8x7)-(9x2)와 같이 추가했으면, 식의 결과는 41이 된다. 하지만, 중첩된 괄호는 사용할 수 없다. 즉, 3+((8x7)-9)x2, 3+((8x7)-(9x2))은 모두 괄호 안에 괄호가 있기 떄문에, 올바른 식이 아니다.\n",
        "\n",
        "수식이 주어졌을 때, 괄호를 적절히 추가해 만들 수 있는 식의 결과의 최댓값을 구하는 프로그래을 작성하시오. 추가하는 괄호 개수의 제한은 없으며, 추가하지 않아도 된다.\n",
        "\n",
        "## 입력\n",
        "첫째 줄에 수식의 길이 N(1<=N<=19)가 주어진다. 둘째 줄에는 수식이 주어진다. 수식에 포함된 정수는 모두 0보다 크거나 같고, 9보다 작거나 같다. 문자열은 정수로 시작하고, 연산자와 정수가 번갈아가면서 나온다. 연산자는 (+,-,x) 중 하나이며, 여기서 *는 곱하기 연산을 나타내는 x 연산이다. 항상 올바른 수식만 주어지기 떄문에, N은 홀수이다.\n",
        "\n",
        "## 출력\n",
        "첫째 줄에 괄호를 적절히 추가해서 얻을 수 있는 결과의 최댓값을 출력한다. 정답은 2^31보다 작고, -2^31보다 크다.\n",
        "\n",
        "\n",
        "\n"
      ],
      "metadata": {
        "id": "xJWXKOp0lIB4"
      }
    },
    {
      "cell_type": "code",
      "source": [
        "n = int(input()) // 2 + 1\n",
        "\n",
        "numbers = []\n",
        "operator = []\n",
        "for index, s in enumerate(input()) :\n",
        "  if index % 2 == 0 :\n",
        "    numbers.append(int(s))\n",
        "  else :\n",
        "    operator.append(s)\n",
        "\n",
        "def calculator (a, b, op) :\n",
        "  if operator[op] == '+' :\n",
        "    return a+b\n",
        "  elif operator[op] == '-' :\n",
        "    return a-b\n",
        "  else :\n",
        "    return a*b\n",
        "\n",
        "if n == 1 :\n",
        "  print(numbers[0])\n",
        "elif n == 2 :\n",
        "  print(calculator(numbers[0],numbers[1],0))\n",
        "else :\n",
        "  dp = [[0]*2 for _ in range(n)]\n",
        "  dp[0][0] = dp[0][1] = numbers[0]\n",
        "  dp[1][0] = dp[1][1] = calculator(numbers[0], numbers[1], 0)\n",
        "\n",
        "  for i in range(2 , n) :\n",
        "    result = []\n",
        "    result.append(calculator(dp[i-2][0], calculator(numbers[i-1],numbers[i], i-1), i-2))\n",
        "    result.append(calculator(dp[i-2][1], calculator(numbers[i-1],numbers[i], i-1), i-2))\n",
        "    result.append(calculator(dp[i-1][0], numbers[i], i-1))\n",
        "    result.append(calculator(dp[i-1][1], numbers[i], i-1))\n",
        "    dp[i][0] = min(result)\n",
        "    dp[i][1] = max(result)\n",
        "\n",
        "print(dp[n-1][1])"
      ],
      "metadata": {
        "colab": {
          "base_uri": "https://localhost:8080/"
        },
        "id": "gKNxg2UXvEY8",
        "outputId": "5c908a13-b6cd-427a-88c3-72f1d398efc3"
      },
      "execution_count": null,
      "outputs": [
        {
          "output_type": "stream",
          "name": "stdout",
          "text": [
            "19\n",
            "1*2+3*4*5-6*7*8*9*9\n",
            "[[1, 1], [2, 2], [5, 5], [14, 20], [70, 100], [-20, 94], [-140, 658], [-1120, 5264], [-10080, 47376], [-90720, 426384]]\n"
          ]
        }
      ]
    },
    {
      "cell_type": "markdown",
      "source": [
        "# 캐슬 디펜스 (17135번)\n",
        "\n",
        "## 문제\n",
        "캐슬 디펜스는 성을 향해 몰려오는 적을 잡는 턴 방식의 게임이다. 게임이 진행되는 곳은 크기가 N X M인 격자판으로 나타낼 수 있다. 격자판은 1X1 크기의 칸으로 나누어져 있고, 각 칸에 포함된 적의 수는 최대 하나이다. 격자판의 N번행의 바로 아래 (N+1번 행)의 모든 칸에는 성이 있다.\n",
        "\n",
        "성을 적에게서 지키기 위해 궁수 3명을 배치하려고 한다. 궁수는 성이 있는 칸에 배치할 수 있고, 하나의 칸에는 최대 1명의 궁수만 있을 수 있다.\n",
        "- 각각의 턴마다 궁수는 적 하나를 공격할 수 있고, 모든 궁수는 동시에 공격한다.\n",
        "- 궁수가 공격하는 적은 거리가 D 이하인 적 중에서 가장 가까운 적이고, 그러한 적이 여럿일 경우에는 가장 왼쪽에 있는 적을 공격한다.\n",
        "- 같은 적이 여러 궁수에게 공격당할 수 있다.\n",
        "- 공격받은 적은 게임에서 제외된다.\n",
        "- 궁수의 공격이 끝나면, 적이 이동한다.\n",
        "- 적은 아래로 한칸 이동하며, 성이 있는 칸으로 이동한 경우에는 게임에서 제외된다. 모든 적이 격자판에서 제외되면 게임이 끝난다.\n",
        "\n",
        "게임 설명에서 보다시피 궁수를 배치한 이후의 게임 진행은 정해져있다. 따라서, 이 게임은 궁수의 위치가 중요하다. 격자판의 상태가 주어졌을 때, 궁수의 공격으로 제거할 수 있는 적의 최대 수를 계산하보자.\n",
        "\n",
        "격자판의 두 위치 (r1,c1),(r2,c2)의 거리는 |r1-r2|+|c1-c2|이다.\n",
        "\n",
        "## 입력\n",
        "첫째 줄에 격자판의 행의 수 N, 열의 수 M, 궁수의 공격 거리 제한 D가 주어진다. 둘째 줄부터 N개의 줄에는 격자판의 상태가 주어진다. 0은 빈 칸, 1은 적이 있는 칸이다.\n",
        "\n",
        "## 출력\n",
        "첫째 줄에 궁수의 공격으로 제거할 수 있는 적의 최대 수를 출력한다."
      ],
      "metadata": {
        "id": "vIoc3jHmIZAu"
      }
    },
    {
      "cell_type": "code",
      "source": [
        "from itertools import combinations\n",
        "\n",
        "n,m,k = map(int, input().split())\n",
        "maps = [list(map(int, input().split())) for _ in range(n)]\n",
        "achors = list(combinations(range(0,m),3))\n",
        "\n",
        "def countAttack (attack) :\n",
        "  tmp = 0\n",
        "  for i in range(n) :\n",
        "    for j in range(m) :\n",
        "      if attack[i][j] >= 1 :\n",
        "        tmp += 1\n",
        "        attack[i][j] = -1\n",
        "  return tmp\n",
        "\n",
        "answer = 0\n",
        "def shot (row, a, attack) :\n",
        "  for scope in range(1,k+1) :\n",
        "    for j in range(-scope+1, scope) :\n",
        "      i = scope - abs(j) - 1\n",
        "      ny, nx = row - i, a + j\n",
        "      if ny >= 0 and 0 <= nx < m :\n",
        "        if maps[ny][nx] == 1 and attack[ny][nx] >= 0 :\n",
        "          attack[ny][nx] += 1\n",
        "          return\n",
        "\n",
        "for achor in achors :\n",
        "  result = 0\n",
        "  attack = [[0] * m for _ in range(n)]\n",
        "  for row in range(n-1,-11,-1) :\n",
        "    for index, a in enumerate(achor) :\n",
        "      shot(row, a, attack)\n",
        "    result += countAttack(attack)\n",
        "  answer = max(answer, result)\n",
        "\n",
        "print(answer)"
      ],
      "metadata": {
        "id": "xRbib8fzvlLN",
        "colab": {
          "base_uri": "https://localhost:8080/"
        },
        "outputId": "dfde3643-7701-4b0e-a1e1-2cabf745b9f0"
      },
      "execution_count": null,
      "outputs": [
        {
          "output_type": "stream",
          "name": "stdout",
          "text": [
            "6 5 2\n",
            "1 0 1 0 1\n",
            "0 1 0 1 0\n",
            "1 1 0 0 0\n",
            "0 0 0 1 1\n",
            "1 1 0 1 1\n",
            "0 0 1 0 0\n",
            "14\n"
          ]
        }
      ]
    },
    {
      "cell_type": "markdown",
      "source": [
        "# 2146. 다리 만들기\n",
        "|시간 제한|메모리 제한|\n",
        "|-----|-----|\n",
        "|2초|192MB|\n",
        "\n",
        "## 문제\n",
        "여러 섬으로 이루어진 나라가 있다. 이 나라의 대통령은 섬을 잇는 다리를 만들겠다는 공약으로 인기몰이를 해 당선될 수 있었다. 하지만 막상 대통령에 취임하자, 다리를 놓는다는 것이 아깝다는 생각을 하게 되었다. 그래서 그는, 생생내는 식으로 한 섬과 다른 섬을 잇는 다리 하나만을 만들기로 하였고, 그 또한 다리를 가장 짧게 하여 돈을 아끼려 하였다.\n",
        "\n",
        "이 나라는 NxN 크기의 이차원 평면상에 존재한다. 이 나라는 여러 섬으로 이루어져 있으며, 섬이란 동서남북으로 육지가 붙어있는 덩어리를 말한다. 다음은 세 개의 섬으로 이루어진 나라의 지도이다.\n",
        "\n",
        "![image.png](data:image/png;base64,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)"
      ],
      "metadata": {
        "id": "Tp0E5ZbczuG5"
      }
    },
    {
      "cell_type": "markdown",
      "source": [
        "위의 그림에서 색이 있는 부분이 육지이고, 색이 없는 부분이 바다이다. 이 바다에 가장 짧은 다리를 놓아 두 대륙을 연결하고자 한다 가장 짧은 다리란, 다리가 격자에서 차지하는 칸의 수가 가장 작은 다리를 말한다. 다음 그림에서 두 대륙을 연결하는 다리를 볼 수 있다.\n",
        "\n",
        "![image.png](data:image/png;base64,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)"
      ],
      "metadata": {
        "id": "F2KeKUOu1ZDB"
      }
    },
    {
      "cell_type": "markdown",
      "source": [
        "물론 위의 방법 외에도 다리를 놓는 방법이 여러 가지 있으나, 위의 경우가 놓는 다리의 길이가 3으로 가장 짧다(물론 길이가 3인 다른 다리를 놓을 수 있는 방법도 몇 가지 있다.)\n",
        "\n",
        "지도가 주어질 때, 가장 짧은 다리 하나를 놓아 두 대륙을 연결하는 방법을 찾으시오.\n",
        "\n",
        "## 입력\n",
        "첫 줄에는 지도의 크기 N(1<=N<=100)가 주어진다. 그 다음 N줄에는 N개의 숫자가 빈칸을 사이에 두고 주어지며, 0은 바다, 1은 육지를 나타낸다. 항상 두 개 이상의 섬이 있는 데이터만 입력으로 주어진다.\n",
        "\n",
        "## 출력\n",
        "첫째 줄에 가장 짧은 다리의 길이를 출력한다."
      ],
      "metadata": {
        "id": "PEnzB14X4MKx"
      }
    },
    {
      "cell_type": "code",
      "source": [
        "n = int(input())\n",
        "maps = [list(map(int,input().split())) for _ in range(n)]\n",
        "\n",
        "INF = int(1e9)\n",
        "dx = [0,1]\n",
        "dy = [1,0]\n",
        "dp = [[INF] * n for _ in range(n)]\n",
        "q = []\n",
        "q.append((0,0))\n",
        "dp[0][0]  = 0 if maps[0][0] == 1 else 1\n",
        "\n",
        "answer = INF\n",
        "while q :\n",
        "  y,x = q.pop(0)\n",
        "\n",
        "  for dir in range(2) :\n",
        "    nx, ny = x + dx[dir], y + dy[dir]\n",
        "    if nx < 0 or n <= nx or ny < 0 or n <= ny :\n",
        "      continue\n",
        "\n",
        "    if maps[y][x] == 1 :\n",
        "      if maps[ny][nx] == 1 and dp[ny][nx] != -1 :\n",
        "        dp[ny][nx] = -1\n",
        "        q.append((ny,nx))\n",
        "      elif maps[ny][nx] == 0 :\n",
        "        dp[ny][nx] = 1\n",
        "        q.append((ny,nx))\n",
        "    else :\n",
        "      if maps[ny][nx] == 1 and dp[ny][nx] != -1 :\n",
        "        dp[ny][nx] = -1\n",
        "        q.append((ny,nx))\n",
        "        answer = min(answer, dp[y][x])\n",
        "      elif maps[ny][nx] == 0 and dp[ny][nx] > dp[y][x] + 1:\n",
        "        dp[ny][nx] = dp[y][x] + 1\n",
        "        q.append((ny,nx))\n",
        "\n",
        "print(dp)\n",
        "print(answer)"
      ],
      "metadata": {
        "id": "FXlsVm3WRYjF",
        "colab": {
          "base_uri": "https://localhost:8080/"
        },
        "outputId": "d9601c9a-5045-408a-8a76-b73ebef0be3b"
      },
      "execution_count": null,
      "outputs": [
        {
          "output_type": "stream",
          "name": "stdout",
          "text": [
            "10\n",
            "1 1 1 0 0 0 0 1 1 1\n",
            "1 1 1 1 0 0 0 0 1 1\n",
            "1 0 1 1 0 0 0 0 1 1\n",
            "0 0 1 1 1 0 0 0 0 1\n",
            "0 0 0 1 0 0 0 0 0 1\n",
            "0 0 0 0 0 0 0 0 0 1\n",
            "0 0 0 0 0 0 0 0 0 0\n",
            "0 0 0 0 1 1 0 0 0 0\n",
            "0 0 0 0 1 1 1 0 0 0\n",
            "0 0 0 0 0 0 0 0 0 0\n",
            "[[0, -1, -1, 1, 2, 3, 4, -1, -1, -1], [-1, -1, -1, -1, 1, 2, 3, 1, -1, -1], [-1, 1, -1, -1, 1, 2, 3, 2, -1, -1], [1, 2, -1, -1, -1, 1, 2, 3, 1, -1], [2, 3, 1, -1, 1, 2, 3, 4, 2, -1], [3, 4, 2, 1, 2, 3, 4, 5, 3, -1], [4, 5, 3, 2, 3, 4, 5, 6, 4, 1], [5, 6, 4, 3, -1, -1, 1, 2, 3, 2], [6, 7, 5, 4, -1, -1, -1, 1, 2, 3], [7, 8, 6, 5, 1, 1, 1, 2, 3, 4]]\n",
            "1\n"
          ]
        }
      ]
    },
    {
      "cell_type": "code",
      "source": [
        ""
      ],
      "metadata": {
        "id": "R0FIUJa-GKYv"
      },
      "execution_count": null,
      "outputs": []
    },
    {
      "cell_type": "markdown",
      "source": [
        "# 색종이 붙이기 (17136번)\n",
        "\n",
        "|시간 제한|메모리 제한|\n",
        "|-----|-----|\n",
        "|1초|512MB|\n",
        "\n",
        "## 문제\n",
        "<그림 1>과 같이 정사각형 모양을 한 다섯 종류의 색종이가 있다.색종이의 크기는 1x1, 2x2, 3x3, 4x4, 5x5로 총 다섯 종류가 있으며, 각 종류의 색종이는 5개씩 가지고 있다.\n",
        "\n",
        "![image.png](data:image/png;base64,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)"
      ],
      "metadata": {
        "id": "n3iZIt5yGo-d"
      }
    },
    {
      "cell_type": "markdown",
      "source": [
        "색종이를 크기가 10x10인 종이 위에 붙이려고 한다. 종이는 1x1 크기의 칸으로 나누어져 있으며, 각각의 칸에는 0 또는 1이 적혀 있다. 1이 적인 칸은 모두 색종이로 덮어져야 한다. 색종이를 붙일 때는 종이의 경게 밖으로 나가서는 안되고, 겹쳐도 안 된다. 또, 칸의 경계와 일치하게 붙여야 한다. 0 이 적힌 칸에는 색종이가 있으면 안 된다.\n",
        "\n",
        "종이가 주어졌을 때, 1이 적인 모든 칸을 붙이는데 필요한 색종이의 최소 개수를 구해보자.\n",
        "\n",
        "## 입력\n",
        "총 10개의 줄에 종이의 각 칸에 적힌 수가 주어진다.\n",
        "\n",
        "## 출력\n",
        "모든 1을 덮는데 필요한 색종이의 최소 개수를 출력한다. 1을 모두 덮는 것이 불가능한 경우에는 -1을 출력한다."
      ],
      "metadata": {
        "id": "6Wagg8sjHEU0"
      }
    },
    {
      "cell_type": "code",
      "source": [
        "maps = [list(map(int, input().split())) for _ in range(10)]\n",
        "\n",
        "def check (x,y,scope) :\n",
        "  if x + scope >= 10 or y + scope >= 10 :\n",
        "    return False\n",
        "  \n",
        "  for i in range(scope + 1) :\n",
        "    for j in range(i + 1) :\n",
        "      if maps[x+i][y+j] != 1 or maps[x+j][y+i] != 1 :\n",
        "        return False\n",
        "  return True\n",
        "\n",
        "answer = 26\n",
        "paper = [5,5,5,5,5]\n",
        "\n",
        "def use (x,y,scope, num) :\n",
        "  for i in range(scope+1) :\n",
        "    for j in range(scope+1) :\n",
        "      maps[x+i][y+j] = num\n",
        "  paper[scope] += -1 if num == 0 else 1\n",
        "\n",
        "def solve (x,y) :\n",
        "  global answer\n",
        "  if y >= 10 : x, y = x+1, 0\n",
        "  if x >= 10 :\n",
        "    answer = min(answer, 25 - sum(paper))\n",
        "    return\n",
        "  if maps[x][y] == 0 :\n",
        "    solve(x,y+1)\n",
        "  else :\n",
        "    for i in range(0,5) :\n",
        "      if paper[i] > 0:\n",
        "        if check(x,y,i) :\n",
        "          use(x,y,i,0)\n",
        "          solve(x,y+1)\n",
        "          use(x,y,i,1)\n",
        "        else :\n",
        "          break\n",
        "solve(0,0)\n",
        "print(-1) if answer == 26 else print(answer)"
      ],
      "metadata": {
        "colab": {
          "base_uri": "https://localhost:8080/"
        },
        "id": "pDQ4Ez7ONf00",
        "outputId": "0e985cd9-2739-49c2-d2df-734355915178"
      },
      "execution_count": 48,
      "outputs": [
        {
          "output_type": "stream",
          "name": "stdout",
          "text": [
            "0 0 0 0 0 0 0 0 0 0\n",
            "0 0 0 0 0 0 0 0 0 0\n",
            "0 0 0 0 0 0 0 0 0 0\n",
            "0 0 0 0 0 0 0 0 0 0\n",
            "0 0 0 0 0 0 0 0 0 0\n",
            "0 0 0 0 0 0 0 0 0 0\n",
            "0 0 0 0 0 0 0 0 0 0\n",
            "0 0 0 0 0 0 0 0 0 0\n",
            "0 0 0 0 0 0 0 0 0 0\n",
            "0 0 0 0 0 0 0 0 0 0\n",
            "0\n"
          ]
        }
      ]
    },
    {
      "cell_type": "code",
      "source": [
        "maps"
      ],
      "metadata": {
        "id": "9fFaSG6FNl8y"
      },
      "execution_count": null,
      "outputs": []
    },
    {
      "cell_type": "code",
      "source": [
        ""
      ],
      "metadata": {
        "id": "gblkYL1hNzDw"
      },
      "execution_count": null,
      "outputs": []
    }
  ]
}