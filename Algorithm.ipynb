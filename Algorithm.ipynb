{
  "nbformat": 4,
  "nbformat_minor": 0,
  "metadata": {
    "colab": {
      "name": "Algorithm.ipynb",
      "provenance": [],
      "collapsed_sections": [
        "edrz6tV1c-Zz",
        "ZHk13L17jXmY",
        "6mUM0urgp9SR"
      ],
      "authorship_tag": "ABX9TyNaxIJbrwTc+DEplBhfTSAX",
      "include_colab_link": true
    },
    "kernelspec": {
      "name": "python3",
      "display_name": "Python 3"
    },
    "language_info": {
      "name": "python"
    }
  },
  "cells": [
    {
      "cell_type": "markdown",
      "metadata": {
        "id": "view-in-github",
        "colab_type": "text"
      },
      "source": [
        "<a href=\"https://colab.research.google.com/github/aurora32s/python_study/blob/master/Algorithm.ipynb\" target=\"_parent\"><img src=\"https://colab.research.google.com/assets/colab-badge.svg\" alt=\"Open In Colab\"/></a>"
      ]
    },
    {
      "cell_type": "markdown",
      "metadata": {
        "id": "edrz6tV1c-Zz"
      },
      "source": [
        "# Chapter 12. 버블 정렬"
      ]
    },
    {
      "cell_type": "markdown",
      "metadata": {
        "id": "HqkR8dq-iGch"
      },
      "source": [
        "\n",
        "### 0. 알고리즘 연습 방법\n",
        "- 연습장에 문제를 분석\n",
        "- 필요한 알고리즘을 정하고, 로직을 구성\n",
        "- 필요한 데이터 구조와 변수 정리\n",
        "- 각 문장을 코드 레벨로 작성\n",
        "- 각 코드 레벨 별 변수와 데이터 구조의 변화를 작성\n",
        "- 임의의 데이터로 코드가 정상 작동하는지 검증"
      ]
    },
    {
      "cell_type": "markdown",
      "metadata": {
        "id": "eLbBSH4niImi"
      },
      "source": [
        "### 1. 정렬(sorting)이란?\n",
        "- 어떤 데이터들이 주어졌을 때 정해진 순서대로 나열하는 것"
      ]
    },
    {
      "cell_type": "markdown",
      "metadata": {
        "id": "ZHk13L17jXmY"
      },
      "source": [
        "### 2. 버블 정렬(bubble sort)\n",
        "- 두 인접한 데이터를 비교해서, 앞에 있는 데이터가 뒤에 있는 데이터보다 크면, 자리를 바꾸는 정렬 알고리즘\n"
      ]
    },
    {
      "cell_type": "code",
      "metadata": {
        "id": "Xr3Whp9QcdKN"
      },
      "source": [
        "def bufflesort(data) :\n",
        "  for i in range(len(data) - 1) :\n",
        "    swap = False\n",
        "    for j in range(len(data) - i - 1) :\n",
        "      if data[j] > data[j+1] :\n",
        "        data[j], data[j+1] = data[j+1], data[j]\n",
        "        swap = True\n",
        "\n",
        "    if swap == False :\n",
        "      break\n",
        "  return data"
      ],
      "execution_count": 4,
      "outputs": []
    },
    {
      "cell_type": "code",
      "metadata": {
        "id": "EGaZRVaQoyXg"
      },
      "source": [
        "import random\n",
        "\n",
        "data_list = random.sample(range(100), 50)\n",
        "bufflesort(data_list)"
      ],
      "execution_count": null,
      "outputs": []
    },
    {
      "cell_type": "markdown",
      "metadata": {
        "id": "mZWa1aJcpXdx"
      },
      "source": [
        "### 3. 알고리즘 시간 분석\n",
        "- 반복문이 두 개이므로 : O(n^2)\n",
        "- 이미 정렬되어 있는 경우 : O(n)"
      ]
    },
    {
      "cell_type": "markdown",
      "metadata": {
        "id": "6mUM0urgp9SR"
      },
      "source": [
        "# Chapter 13. 선택정렬\n"
      ]
    },
    {
      "cell_type": "markdown",
      "metadata": {
        "id": "fMefrInMuYW-"
      },
      "source": [
        "### 1. 선택정렬이란?\n",
        "- 주어진 데이터 중, 최소값을 찾는다.\n",
        "- 해당 최소값을 데이터 맨 앞에 위치한 값과 교체한다.\n",
        "- 맨 앞의 위치를 뺀 나머지 데이터를 동일한 방법으로 반복한다."
      ]
    },
    {
      "cell_type": "code",
      "metadata": {
        "id": "BCcd2IuPsR4R"
      },
      "source": [
        "def selectionSort (data) :\n",
        "  for i in range(len(data) - 1) :\n",
        "    min_index = i\n",
        "    for j in range(i, len(data)) :\n",
        "      if data[min_index] > data[j] :\n",
        "        min_index = j\n",
        "    data[i], data[min_index] = data[min_index], data[i]\n",
        "\n",
        "  return data"
      ],
      "execution_count": 16,
      "outputs": []
    },
    {
      "cell_type": "code",
      "metadata": {
        "id": "qXPT9hR3snNC"
      },
      "source": [
        "import random\n",
        "\n",
        "data_list = random.sample(range(100), 50)\n",
        "selectionSort(data_list)"
      ],
      "execution_count": null,
      "outputs": []
    },
    {
      "cell_type": "markdown",
      "metadata": {
        "id": "TvyOVa7XuHdd"
      },
      "source": [
        "### 2. 알고리즘 분석\n",
        "- 반복문이 두 개이므로 O(n^2)"
      ]
    },
    {
      "cell_type": "markdown",
      "metadata": {
        "id": "nqij9pKaukvY"
      },
      "source": [
        "# Chapter 14. 삽입정렬"
      ]
    },
    {
      "cell_type": "markdown",
      "metadata": {
        "id": "wODcPX0a4xTS"
      },
      "source": [
        "### 1. 알고리즘 분석\n",
        "- 반복문이 두 개이므로 O(n^2)\n",
        "- 완전히 정렬되어 있는 경우에는 O(n)"
      ]
    },
    {
      "cell_type": "code",
      "metadata": {
        "id": "QhYNmbnhuqhT"
      },
      "source": [
        "def insert_sort (data) :\n",
        "  for i in range(len(data)) :\n",
        "    temp = data[i]\n",
        "    j = i\n",
        "    while j-1 >= 0 and data[j-1] > temp :\n",
        "      data[j], data[j-1] = data[j-1], data[j]\n",
        "      j -= 1\n",
        "    data[j] = temp\n",
        "  return data"
      ],
      "execution_count": 13,
      "outputs": []
    },
    {
      "cell_type": "code",
      "metadata": {
        "id": "iTXG5g9b1o08"
      },
      "source": [
        "import random\n",
        "\n",
        "data_list = random.sample(range(100), 50)\n",
        "insert_sort(data_list)"
      ],
      "execution_count": null,
      "outputs": []
    }
  ]
}