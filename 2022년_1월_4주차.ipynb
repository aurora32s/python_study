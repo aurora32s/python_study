{
  "nbformat": 4,
  "nbformat_minor": 0,
  "metadata": {
    "colab": {
      "name": "2022년 1월 4주차",
      "provenance": [],
      "authorship_tag": "ABX9TyMx+vTSkXYIxOZKS0RphwR3",
      "include_colab_link": true
    },
    "kernelspec": {
      "name": "python3",
      "display_name": "Python 3"
    },
    "language_info": {
      "name": "python"
    }
  },
  "cells": [
    {
      "cell_type": "markdown",
      "metadata": {
        "id": "view-in-github",
        "colab_type": "text"
      },
      "source": [
        "<a href=\"https://colab.research.google.com/github/aurora32s/python_study/blob/master/2022%EB%85%84_1%EC%9B%94_4%EC%A3%BC%EC%B0%A8.ipynb\" target=\"_parent\"><img src=\"https://colab.research.google.com/assets/colab-badge.svg\" alt=\"Open In Colab\"/></a>"
      ]
    },
    {
      "cell_type": "markdown",
      "source": [
        "# 수들의 합(1789번)\n",
        "\n",
        "## 문제\n",
        "서로 다른 N개의 자연수의 합이 S라고 한다. S를 알 때, 자연수 N의 최댓값은 얼마일까?\n",
        "\n",
        "## 입력\n",
        "첫째 줄에 자연수 S(1<=S<=4,294,967,295)가 주어진다.\n",
        "\n",
        "## 출력\n",
        "첫째 줄에 자연수 N의 최댓값을 출력한다."
      ],
      "metadata": {
        "id": "3KhjdRNCDoK4"
      }
    },
    {
      "cell_type": "code",
      "source": [
        "s = int(input()) # 합 S\n",
        "\n",
        "sum = 0\n",
        "answer = 0\n",
        "while sum <= s :\n",
        "  answer += 1\n",
        "  sum += answer\n",
        "\n",
        "print(answer-1)"
      ],
      "metadata": {
        "colab": {
          "base_uri": "https://localhost:8080/"
        },
        "id": "WSqq2WZYD_xJ",
        "outputId": "4f6389c7-8dd8-483c-814b-2b0f22e1e748"
      },
      "execution_count": null,
      "outputs": [
        {
          "output_type": "stream",
          "name": "stdout",
          "text": [
            "200\n",
            "19\n"
          ]
        }
      ]
    },
    {
      "cell_type": "markdown",
      "source": [
        "# 사탕 게임(3085번)\n",
        "\n",
        "## 문제\n",
        "상근이는 어렸을 적에 \"봄보니(Bomboni)\" 게임을 즐겨했다.\n",
        "\n",
        "가장 처음에 NxN 크기에 사탕을 채워 놓는다. 사탕의 색은 모두 같지 않을 수도 있다. 상근이는 사탕의 색이 다른 인접한 두 칸을 고른다. 그 다음 고른 칸에 들어있는 사탕을 서로 교환한다. 이제 모두 같은 색으로 이루어져 있는 가장 긴 연속 부분(행 또는 열)을 고르 다음 그 사탕을 모두 먹는다.\n",
        "\n",
        "사탕이 채워진 상태가 주어졌을 때, 상근이가 먹을 수 있는 사탕의 최대 개수를 구하는 프로그램을 작성하시오.\n",
        "\n",
        "## 입력\n",
        "첫째 줄에 보드의 크기 N이 주어진다. (3<=N<=50)\n",
        "\n",
        "다음 N개 줄에는 보드에 채워져 있는 사탕의 색상이 주어진다. 빨간색은 C, 파란색은 P, 초록색은 Z, 노란색은 Y로 주어진다.\n",
        "\n",
        "사탕의 색이 다른 인접한 두 칸이 존재하는 입력만 주어진다.\n",
        "\n",
        "## 출력\n",
        "첫째 줄에 상근이가 먹을 수 있는 사탕의 최대 개수를 출력한다."
      ],
      "metadata": {
        "id": "4fTLnZAJKSbi"
      }
    },
    {
      "cell_type": "code",
      "source": [
        "n = int(input())\n",
        "maps = [[] for _ in range(n)]\n",
        "\n",
        "for i in range(n) :\n",
        "  row = input()\n",
        "  for column in row :\n",
        "    maps[i].append(column)\n",
        "\n",
        "# 자리를 바꿀 수 있는 경우 true 반환\n",
        "def diff (x,y,nx,ny) :\n",
        "  if nx<0 or n<=nx or ny<0 or n<=ny :\n",
        "    return False\n",
        "  return (maps[y][x] != maps[ny][nx])\n",
        "\n",
        "def maxRows (y) : # 행의 최대 길이\n",
        "  color = maps[y][0]\n",
        "  result = 0\n",
        "  length = 1\n",
        "  for x in range(1,n) :\n",
        "    if maps[y][x] == color :\n",
        "      length += 1\n",
        "    else :\n",
        "      result = max(result, length)\n",
        "      length = 1\n",
        "      color = maps[y][x]\n",
        "  result = max(result, length)\n",
        "  return result\n",
        "\n",
        "def maxColumns (x) : # 열의 최대 길이\n",
        "  color = maps[0][x]\n",
        "  result = 0\n",
        "  length = 1\n",
        "  for y in range(1,n) :\n",
        "    if maps[y][x] == color :\n",
        "      length += 1\n",
        "    else :\n",
        "      result = max(result, length)\n",
        "      length = 1\n",
        "      color = maps[y][x]\n",
        "  result = max(result, length)\n",
        "  return result\n",
        "\n",
        "# 행의 최대 값 구해두기\n",
        "rows = []\n",
        "for y in range(n) :\n",
        "  rows.append(maxRows(y))\n",
        "# 열의 최대 값 구해두기\n",
        "columns = []\n",
        "for x in range(n) :\n",
        "  columns.append(maxColumns(x))\n",
        "\n",
        "# 변경된 행, 열 재계산\n",
        "def switch (x,y,nx,ny) :\n",
        "  rows[y] = maxRows(y)\n",
        "  rows[ny] = maxRows(ny)\n",
        "  columns[x] = maxColumns(x)\n",
        "  columns[nx] = maxColumns(nx)\n",
        "\n",
        "answer = 0\n",
        "dx = [1,0]\n",
        "dy = [0,1]\n",
        "for y in range(n) :\n",
        "  for x in range(n) :\n",
        "    for dic in range(2) :\n",
        "      nx = x + dx[dic]\n",
        "      ny = y + dy[dic]\n",
        "      if diff(x,y,nx,ny) :\n",
        "        maps[y][x],maps[ny][nx] = maps[ny][nx],maps[y][x]\n",
        "        switch(x,y,nx,ny)\n",
        "        maxRow, maxColumn = max(rows),max(columns)\n",
        "        answer = max(answer, maxRow, maxColumn)\n",
        "        maps[y][x],maps[ny][nx] = maps[ny][nx],maps[y][x]\n",
        "        switch(x,y,nx,ny)\n",
        "\n",
        "print(answer)"
      ],
      "metadata": {
        "colab": {
          "base_uri": "https://localhost:8080/"
        },
        "id": "bijHgub-Ftx-",
        "outputId": "b8af4495-9a38-46a1-9351-511d08e7a81b"
      },
      "execution_count": null,
      "outputs": [
        {
          "output_type": "stream",
          "name": "stdout",
          "text": [
            "5\n",
            "YCPZY\n",
            "CYZZP\n",
            "CCPPP\n",
            "YCYZC\n",
            "CPPZZ\n",
            "4\n"
          ]
        }
      ]
    },
    {
      "cell_type": "markdown",
      "source": [
        "# A->B(16953번)\n",
        "\n",
        "## 문제\n",
        "정수 A를 B로 바꾸려고 한다. 가능한 연산은 다음과 같은 두 가지이다.\n",
        "- 2를 곱한다.\n",
        "- 1을 수의 가장 오른쪽에 추가한다.\n",
        "\n",
        "A를 B로 바꾸는데 필요한 연산의 최솟값을 구해보자.\n",
        "\n",
        "## 입력\n",
        "첫째 줄에 A,B(1<= A < B <= 10^9)가 주어진다.\n",
        "\n",
        "## 출력\n",
        "A를 B로 바꾸는데 필요한 연산의 최솟값에 1을 더한 값을 출력한다. 만들 수 없는 경우에는 -1을 출력한다."
      ],
      "metadata": {
        "id": "0pweJOnJjkp8"
      }
    },
    {
      "cell_type": "code",
      "source": [
        "a,b = map(int, input().split())\n",
        "\n",
        "def bfs () :\n",
        "  q = list()\n",
        "  q.append((0,a))\n",
        "\n",
        "  while q :\n",
        "    count, num = q.pop(-1)\n",
        "\n",
        "    if num == b :\n",
        "      return count + 1\n",
        "    elif num > b :\n",
        "      continue\n",
        "    \n",
        "    # 1. 2 곱하기\n",
        "    q.append((count + 1, num * 2))\n",
        "    # 2. 1을 수의 가장 오른쪽에 추가한다.\n",
        "    q.append((count + 1, num * 10 + 1))\n",
        "  \n",
        "  return -1\n",
        "\n",
        "print(bfs())"
      ],
      "metadata": {
        "colab": {
          "base_uri": "https://localhost:8080/"
        },
        "id": "jhKeZGt9kfKz",
        "outputId": "63e628ba-a269-412a-9cbf-d6544e2e2c4b"
      },
      "execution_count": 6,
      "outputs": [
        {
          "output_type": "stream",
          "name": "stdout",
          "text": [
            "100 40021\n",
            "5\n"
          ]
        }
      ]
    },
    {
      "cell_type": "markdown",
      "source": [
        "# 동전 1(2293번)\n",
        "\n",
        "## 문제\n",
        "n가지 종류의 동전이 있다. 각각의 동전이 나타내는 가치는 다르다. 이 동전을 적당히 사용해서, 그 가치의 합이 k원이 되도록 하고 싶다. 그 경우의 수를 구하시오, 각각의 동전은 몇 개라도 사용할 수 있다.\n",
        "\n",
        "사용한 동전의 구성이 같은데, 순서만 다른 것은 같은 경우이다.\n",
        "\n",
        "## 입력\n",
        "첫째 줄에 n,k가 주어진다. (1<=n<=100, 1<=k<=10,000) 다음 n개의 줄에는 각각의 동전의 가치가 주어진다. 동전의 가치는 100,000보다 작거나 같은 자연수이다.\n",
        "\n",
        "## 출력\n",
        "첫째 줄에 경우의 수를 출력한다. 경우의 수는 2^31보다 작다."
      ],
      "metadata": {
        "id": "8fG8YrLZmqXv"
      }
    },
    {
      "cell_type": "code",
      "source": [
        "n, k = map(int, input().split())\n",
        "nums = [ int(input()) for _ in range(n) ]\n",
        "dp = [0 for _ in range(k+1)]\n",
        "dp[0] = 1\n",
        "for num in nums :\n",
        "  for i in range(1, k+1) :\n",
        "    if i-num >= 0 :\n",
        "      dp[i] += dp[i-num]\n",
        "\n",
        "print(dp[k])"
      ],
      "metadata": {
        "colab": {
          "base_uri": "https://localhost:8080/"
        },
        "id": "nMqKkQuOlqbp",
        "outputId": "a258e1a2-57cc-4215-b75f-5f982d99d24b"
      },
      "execution_count": 19,
      "outputs": [
        {
          "output_type": "stream",
          "name": "stdout",
          "text": [
            "3 10\n",
            "1\n",
            "2\n",
            "5\n",
            "10\n"
          ]
        }
      ]
    }
  ]
}