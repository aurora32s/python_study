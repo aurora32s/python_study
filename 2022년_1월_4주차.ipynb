{
  "nbformat": 4,
  "nbformat_minor": 0,
  "metadata": {
    "colab": {
      "name": "2022년 1월 4주차",
      "provenance": [],
      "authorship_tag": "ABX9TyNhoPpjOg6X3mAU+GEiyXGG",
      "include_colab_link": true
    },
    "kernelspec": {
      "name": "python3",
      "display_name": "Python 3"
    },
    "language_info": {
      "name": "python"
    }
  },
  "cells": [
    {
      "cell_type": "markdown",
      "metadata": {
        "id": "view-in-github",
        "colab_type": "text"
      },
      "source": [
        "<a href=\"https://colab.research.google.com/github/aurora32s/python_study/blob/master/2022%EB%85%84_1%EC%9B%94_4%EC%A3%BC%EC%B0%A8.ipynb\" target=\"_parent\"><img src=\"https://colab.research.google.com/assets/colab-badge.svg\" alt=\"Open In Colab\"/></a>"
      ]
    },
    {
      "cell_type": "markdown",
      "source": [
        "# 수들의 합(1789번)\n",
        "\n",
        "## 문제\n",
        "서로 다른 N개의 자연수의 합이 S라고 한다. S를 알 때, 자연수 N의 최댓값은 얼마일까?\n",
        "\n",
        "## 입력\n",
        "첫째 줄에 자연수 S(1<=S<=4,294,967,295)가 주어진다.\n",
        "\n",
        "## 출력\n",
        "첫째 줄에 자연수 N의 최댓값을 출력한다."
      ],
      "metadata": {
        "id": "3KhjdRNCDoK4"
      }
    },
    {
      "cell_type": "code",
      "source": [
        "s = int(input()) # 합 S\n",
        "\n",
        "sum = 0\n",
        "answer = 0\n",
        "while sum <= s :\n",
        "  answer += 1\n",
        "  sum += answer\n",
        "\n",
        "print(answer-1)"
      ],
      "metadata": {
        "colab": {
          "base_uri": "https://localhost:8080/"
        },
        "id": "WSqq2WZYD_xJ",
        "outputId": "4f6389c7-8dd8-483c-814b-2b0f22e1e748"
      },
      "execution_count": 2,
      "outputs": [
        {
          "output_type": "stream",
          "name": "stdout",
          "text": [
            "200\n",
            "19\n"
          ]
        }
      ]
    },
    {
      "cell_type": "code",
      "source": [
        ""
      ],
      "metadata": {
        "id": "bijHgub-Ftx-"
      },
      "execution_count": null,
      "outputs": []
    }
  ]
}