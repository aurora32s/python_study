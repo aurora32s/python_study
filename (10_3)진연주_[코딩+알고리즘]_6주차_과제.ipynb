{
  "nbformat": 4,
  "nbformat_minor": 0,
  "metadata": {
    "colab": {
      "name": "(10-3)진연주 - [코딩+알고리즘] 6주차 과제.ipynb",
      "provenance": [],
      "collapsed_sections": [],
      "include_colab_link": true
    },
    "kernelspec": {
      "display_name": "Python 3",
      "language": "python",
      "name": "python3"
    },
    "language_info": {
      "codemirror_mode": {
        "name": "ipython",
        "version": 3
      },
      "file_extension": ".py",
      "mimetype": "text/x-python",
      "name": "python",
      "nbconvert_exporter": "python",
      "pygments_lexer": "ipython3",
      "version": "3.8.5"
    }
  },
  "cells": [
    {
      "cell_type": "markdown",
      "metadata": {
        "id": "view-in-github",
        "colab_type": "text"
      },
      "source": [
        "<a href=\"https://colab.research.google.com/github/aurora32s/python_study/blob/master/(10_3)%EC%A7%84%EC%97%B0%EC%A3%BC_%5B%EC%BD%94%EB%94%A9%2B%EC%95%8C%EA%B3%A0%EB%A6%AC%EC%A6%98%5D_6%EC%A3%BC%EC%B0%A8_%EA%B3%BC%EC%A0%9C.ipynb\" target=\"_parent\"><img src=\"https://colab.research.google.com/assets/colab-badge.svg\" alt=\"Open In Colab\"/></a>"
      ]
    },
    {
      "cell_type": "markdown",
      "metadata": {
        "id": "wS0WJ3F9SoRp"
      },
      "source": [
        "# 6주차 과제 공지사항\n",
        "\n",
        "----\n",
        "\n",
        "1. 아래의 과제를 보고 코드를 작성하시면 됩니다.\n",
        "2. 멘토님께서 과제에 대한 코드를 실행한 후에 정량적/정성적으로 평가가 됩니다.\n",
        "3. 멘토님께서는 과제평가에 대한 체크리스트를 작성한 뒤에 객관적으로 코드에 대한 평가를 할 예정입니다.\n",
        "4. 과제에 대한 점수는 100점 만점으로 진행이 됩니다.\n",
        "5. 퀴즈 및 과제에 대한 평가는 모든 수강생들의 평가가 완료되면 확인할 수 있습니다. 참고부탁드립니다.\n",
        "6. 퀴즈 및 과제기한은 일요일 저녁 10시 까지 입니다. 10시 이후에는 코드작성이 불가하오니 이 점 참고부탁드립니다.\n",
        "7. 반드시 코드 작성란에만 코드를 작성하시고, 그 외에는 절대로 내용을 수정하지 마세요.\n",
        "8. 작성란에 작성된 코드가 동작하는지 반드시 확인하세요. 코드가 동작하지 않으면 0점처리됩니다.\n",
        "9. 과제의 채점 시 입력은 달라질 수 있습니다. 다른 입력에도 동작할 수 있는 코드를 작성해 주세요.\n",
        "10. ***예시 입출력이 주어진 경우, 최소한 예시 입력에 대해 출력이 정상적으로 이루어져야 점수가 주어집니다. 예시 입력에 대해 동작시키는 것은 과제 제출의 최소 조건입니다.***\n",
        "11. ***예시 입력에 대해 출력이 정상적으로 되더라도, 코드의 내용이 적합하지 않은 경우 감점이 이루어집니다.***\n",
        "\n",
        "- 문제 출처\n",
        "  - 과제1, 과제3: Leetcode\n",
        "  - 과제2: 프로그래머스\n",
        "  - 과제5: BOJ\n",
        "\n",
        "----"
      ]
    },
    {
      "cell_type": "markdown",
      "metadata": {
        "id": "O4MMgk1OTzmH"
      },
      "source": [
        "----\n",
        "\n",
        "## 종합 점수 (/100)\n",
        "\n",
        "----"
      ]
    },
    {
      "cell_type": "markdown",
      "metadata": {
        "id": "JoFcF8ljTR6p"
      },
      "source": [
        "## 과제1.\n",
        "\n",
        "----\n",
        "리스트 `[1,2,3,...,n]` 를 섞는 방법은 총 `n!` 가지이다. `n = 3`일 때 `3! = 6`개의 섞은 결과는 아래와 같은 순서를 가진다고 하자.\n",
        "\n",
        "```python\n",
        "[1, 2, 3]\n",
        "[1, 3, 2]\n",
        "[2, 1, 3]\n",
        "[2, 3, 1]\n",
        "[3, 1, 2]\n",
        "[3, 2, 1]\n",
        "```\n",
        "\n",
        "n과 k가 주어졌을 때, k번째 섞은 결과를 반환하시오. (단, `1 <= n <= 9`, `1 <= k <= n!`)\n",
        "\n",
        "예시입력\n",
        "\n",
        "|n|k|return|\n",
        "|-|-|--|\n",
        "|3|3|`[2, 1, 3]`|\n",
        "|4|9|`[2, 3, 1, 4]`|\n",
        "\n",
        "```python\n",
        "def solution(n, k):\n",
        "    return []\n",
        "```\n",
        "----"
      ]
    },
    {
      "cell_type": "code",
      "metadata": {
        "id": "MpNgU-Ftq8Oh"
      },
      "source": [
        "# 과제1번 코드란\n",
        "import math\n",
        "\n",
        "def solve (numbers, answer, n, k):\n",
        "  if n == 1 :\n",
        "    answer.append(numbers[-1])\n",
        "    return\n",
        "  \n",
        "  # print(n, k)\n",
        "  caseNo = math.factorial(n) // n # 한 케이스에 속한 경우의 수\n",
        "  targetSeq = math.ceil(k / caseNo) # k번째 케이스가 속한 seq 번호\n",
        "  # print(caseNo, targetSeq)\n",
        "  answer.append(numbers.pop(targetSeq))\n",
        "\n",
        "  # print(numbers)\n",
        "  solve(numbers, answer, n-1, k - (caseNo * (targetSeq - 1)))\n",
        "\n",
        "def solution (n, k):\n",
        "  numbers = [i for i in range(n+1)]\n",
        "  answer = []\n",
        "  solve(numbers, answer, n, k)\n",
        "  print(answer)"
      ],
      "execution_count": null,
      "outputs": []
    },
    {
      "cell_type": "code",
      "metadata": {
        "colab": {
          "base_uri": "https://localhost:8080/"
        },
        "id": "u4uNKBL0WVQX",
        "outputId": "5bb188d9-42ef-41d7-ae62-e7ae4eb99d49"
      },
      "source": [
        "solution(3, 3)"
      ],
      "execution_count": null,
      "outputs": [
        {
          "output_type": "stream",
          "name": "stdout",
          "text": [
            "[2, 1, 3]\n"
          ]
        }
      ]
    },
    {
      "cell_type": "code",
      "metadata": {
        "colab": {
          "base_uri": "https://localhost:8080/"
        },
        "id": "Ddk7WzVhZTWr",
        "outputId": "55cb91a8-b13f-4e7c-dd2c-990fd62e67f4"
      },
      "source": [
        "solution(4, 9)"
      ],
      "execution_count": null,
      "outputs": [
        {
          "output_type": "stream",
          "name": "stdout",
          "text": [
            "[2, 3, 1, 4]\n"
          ]
        }
      ]
    },
    {
      "cell_type": "markdown",
      "metadata": {
        "id": "jmayiflbYYW6"
      },
      "source": [
        "## 과제2.\n",
        "\n",
        "----\n",
        "아래와 같이 5와 사칙연산만으로 12를 표현할 수 있습니다.\n",
        "\n",
        "```\n",
        "12 = 5 + 5 + (5 / 5) + (5 / 5)\n",
        "12 = 55 / 5 + 5 / 5\n",
        "12 = (55 + 5) / 5\n",
        "```\n",
        "\n",
        "5를 사용한 횟수는 각각 6,5,4 입니다. 그리고 이중 가장 작은 경우는 4입니다.\n",
        "이처럼 숫자 N과 number가 주어질 때, N과 사칙연산만 사용해서 표현 할 수 있는 방법 중 N 사용횟수의 최솟값을 return 하도록 solution 함수를 작성하세요.\n",
        "\n",
        "제한사항\n",
        "\n",
        "- N은 1 이상 9 이하입니다.\n",
        "- number는 1 이상 32,000 이하입니다.\n",
        "- 수식에는 괄호와 사칙연산만 가능하며 나누기 연산에서 나머지는 무시합니다.\n",
        "- 최솟값이 8보다 크면 -1을 return 합니다.\n",
        "\n",
        "입출력 예\n",
        "\n",
        "|N|number|return|\n",
        "|-|------|-----|\n",
        "|5|12|4|\n",
        "|2|11|3|\n",
        "\n",
        "입출력 예 설명\n",
        "\n",
        "- 예제 #1: 문제에 나온 예와 같습니다.\n",
        "- 예제 #2: `11 = 22 / 2`와 같이 2를 3번만 사용하여 표현할 수 있습니다.\n",
        "\n",
        "```python\n",
        "def solution(N, number)\n",
        "    return 0\n",
        "```\n",
        "----"
      ]
    },
    {
      "cell_type": "code",
      "metadata": {
        "id": "bmA6c6EMYY7o"
      },
      "source": [
        "# 과제 2번 코드란\n",
        "answer = -1\n",
        "def solve (n, number, step, result) :\n",
        "  global answer\n",
        "  if step > 8 :\n",
        "    return\n",
        "  if result == number :\n",
        "    if answer == -1 or answer > step :\n",
        "      answer = step\n",
        "      return\n",
        "  \n",
        "  curNo = 0\n",
        "  for i in range(1,9) :\n",
        "    curNo = curNo * 10 + n\n",
        "    curStep = step + i\n",
        "    solve(n, number, curStep, result+curNo) # +\n",
        "    solve(n, number, curStep, result-curNo) # -\n",
        "    solve(n, number, curStep, result*curNo) # *\n",
        "    solve(n, number, curStep, result//curNo) # /\n",
        "  return\n",
        "\n",
        "def solution (N, number) :\n",
        "  solve(N, number, 0, 0)\n",
        "  print(answer)\n"
      ],
      "execution_count": null,
      "outputs": []
    },
    {
      "cell_type": "code",
      "metadata": {
        "colab": {
          "base_uri": "https://localhost:8080/"
        },
        "id": "ZZiydNaQeK-l",
        "outputId": "5c091258-b2d7-416d-f6cf-5dabc64fdfca"
      },
      "source": [
        "solution(5, 12)"
      ],
      "execution_count": null,
      "outputs": [
        {
          "output_type": "stream",
          "name": "stdout",
          "text": [
            "4\n"
          ]
        }
      ]
    },
    {
      "cell_type": "code",
      "metadata": {
        "colab": {
          "base_uri": "https://localhost:8080/"
        },
        "id": "YwI6pBG6gpgt",
        "outputId": "d408a77b-d36d-4c04-af71-c891ac507f91"
      },
      "source": [
        "solution(2, 11)"
      ],
      "execution_count": null,
      "outputs": [
        {
          "output_type": "stream",
          "name": "stdout",
          "text": [
            "3\n"
          ]
        }
      ]
    },
    {
      "cell_type": "markdown",
      "metadata": {
        "id": "fzlpa3FVZpcL"
      },
      "source": [
        "## 과제3.\n",
        "\n",
        "----\n",
        "n개의 정수로 이루어진 리스트 nums와 정수 target이 주어졌을 때, nums에 있는 정수 4개를 합하여 target을 만들 수 있는 모든 조합을 구하시오. 단, 정답에는 동일한 정수 조합이 여러개 포함되어서는 안된다.\n",
        "\n",
        "예시 입력\n",
        "```python\n",
        "nums = [1, 0, -1, 0, -2, 2]\n",
        "target = 0\n",
        "```\n",
        "출력:\n",
        "```\n",
        "[\n",
        "  [-1,  0, 0, 1],\n",
        "  [-2, -1, 1, 2],\n",
        "  [-2,  0, 0, 2]\n",
        "]\n",
        "```\n",
        "\n",
        "```python\n",
        "def solution(nums, target):\n",
        "    return []\n",
        "```\n",
        "\n",
        "----"
      ]
    },
    {
      "cell_type": "code",
      "metadata": {
        "id": "pWDpwtNqaPLN"
      },
      "source": [
        "# 과제 3번 코드란\n",
        "import copy\n",
        "def solution (nums, target) :\n",
        "  answer = []\n",
        "  solve(nums, target, 0, [], answer)\n",
        "  print(answer)\n",
        "\n",
        "def solve (nums, target, index, result, answer) :\n",
        "  if len(nums) == index :\n",
        "    if len(result) == 4 and sum(result) == target :\n",
        "      answer.append(copy.deepcopy(result))\n",
        "    return\n",
        "\n",
        "  result.append(nums[index])\n",
        "  solve(nums, target, index+1, result, answer)\n",
        "  result.pop()\n",
        "  solve(nums, target, index+1, result, answer)"
      ],
      "execution_count": null,
      "outputs": []
    },
    {
      "cell_type": "code",
      "metadata": {
        "colab": {
          "base_uri": "https://localhost:8080/"
        },
        "id": "aOZJFaqBlGoN",
        "outputId": "ad6aebf5-a428-4ae5-b0f9-d24c987a23d1"
      },
      "source": [
        "nums = [1, 0, -1, 0, -2, 2, 3, 4, 5, -5, -1, -2, -3]\n",
        "target = 0\n",
        "solution(nums, target)"
      ],
      "execution_count": null,
      "outputs": [
        {
          "output_type": "stream",
          "name": "stdout",
          "text": [
            "[[1, 0, -1, 0], [1, 0, 0, -1], [1, 0, 2, -3], [1, 0, 4, -5], [1, -1, -2, 2], [1, -1, 2, -2], [1, -1, 3, -3], [1, -1, 5, -5], [1, 0, 2, -3], [1, 0, 4, -5], [1, -2, 2, -1], [1, -2, 3, -2], [1, -2, 4, -3], [1, 2, -1, -2], [1, 3, -1, -3], [1, 4, -2, -3], [1, 5, -5, -1], [0, -1, -2, 3], [0, -1, 2, -1], [0, -1, 3, -2], [0, -1, 4, -3], [0, 0, -2, 2], [0, 0, 2, -2], [0, 0, 3, -3], [0, 0, 5, -5], [0, -2, 3, -1], [0, -2, 4, -2], [0, -2, 5, -3], [0, 2, 3, -5], [0, 3, -1, -2], [0, 4, -1, -3], [0, 5, -2, -3], [-1, 0, -2, 3], [-1, 0, 2, -1], [-1, 0, 3, -2], [-1, 0, 4, -3], [-1, -2, 4, -1], [-1, -2, 5, -2], [-1, 2, 4, -5], [-1, 4, -1, -2], [-1, 5, -1, -3], [0, -2, 3, -1], [0, -2, 4, -2], [0, -2, 5, -3], [0, 2, 3, -5], [0, 3, -1, -2], [0, 4, -1, -3], [0, 5, -2, -3], [-2, 2, 3, -3], [-2, 2, 5, -5], [-2, 3, 4, -5], [-2, 5, -1, -2], [2, 3, -2, -3], [2, 4, -5, -1], [2, 5, -5, -2], [3, 4, -5, -2], [3, 5, -5, -3]]\n"
          ]
        }
      ]
    },
    {
      "cell_type": "markdown",
      "metadata": {
        "id": "pVygrfyBZ-mf"
      },
      "source": [
        "## 과제4.\n",
        "\n",
        "----\n",
        "정수로 이루어진 수열 x가 주어졌을 때, `x[i-1] < x[i], x[i+1] < x[i]`인 `x[i]`를 피크라고 부른다. 수열 x에 피크가 단 하나 반드시 존재할 때, 이 피크를 찾아 출력하는 `O(logN)` 알고리즘을 구현하시오. (단, 수열 x의 길이가 N일 때, 반드시 `x[0] <= x[1]`이며, `x[N-1] <= x[N-2]`이다.)\n",
        "\n",
        "예시 입력\n",
        "\n",
        "|x | return|\n",
        "|--|----|\n",
        "|`[-4, -4, -2, 0, 0, 2, 4, 5, 6, 3, 2, -4, -6]` | 6 |\n",
        "|`[-1, -1, -1, -1, 0, 1, 20, 19, 17]` | 20 |\n",
        "\n",
        "```python\n",
        "def solution(x):\n",
        "    return 0\n",
        "```\n",
        "\n",
        "----"
      ]
    },
    {
      "cell_type": "code",
      "metadata": {
        "id": "kwYofIu2Z-3e"
      },
      "source": [
        "# 과제 4번 코드란\n",
        "def solution (x) :\n",
        "  left = 0\n",
        "  right = len(x) - 1\n",
        "\n",
        "  while left < right :\n",
        "    mid = (left + right) // 2\n",
        "    if x[mid] < x[mid + 1] :\n",
        "      left = mid + 1\n",
        "    else :\n",
        "      right = mid\n",
        "  return x[left]"
      ],
      "execution_count": null,
      "outputs": []
    },
    {
      "cell_type": "code",
      "metadata": {
        "colab": {
          "base_uri": "https://localhost:8080/"
        },
        "id": "pTVw8JUKsFpd",
        "outputId": "d29efb31-cd0d-40cb-bf72-545cbb4a1023"
      },
      "source": [
        "solution([-4,-4,-2,0,0,2,4,5,6,3,2,-4,-6])"
      ],
      "execution_count": null,
      "outputs": [
        {
          "output_type": "execute_result",
          "data": {
            "text/plain": [
              "6"
            ]
          },
          "metadata": {},
          "execution_count": 64
        }
      ]
    },
    {
      "cell_type": "code",
      "metadata": {
        "colab": {
          "base_uri": "https://localhost:8080/"
        },
        "id": "aRHubQfMsMEc",
        "outputId": "c0a89956-5da9-4c16-b3ec-c3fa7960b554"
      },
      "source": [
        "solution([-1,-1,-1,-1,0,1,20,19,17])"
      ],
      "execution_count": null,
      "outputs": [
        {
          "output_type": "execute_result",
          "data": {
            "text/plain": [
              "20"
            ]
          },
          "metadata": {},
          "execution_count": 66
        }
      ]
    },
    {
      "cell_type": "markdown",
      "metadata": {
        "id": "O-aPKjuSAtc6"
      },
      "source": [
        "## 과제5.\n",
        "\n",
        "----\n",
        "\n",
        "그래프를 DFS로 탐색한 결과를 출력하는 프로그램을 작성하시오. 단, 방문할 수 있는 정점이 여러 개인 경우에는 정점 번호가 작은 것을 먼저 방문하고, 더 이상 방문할 수 있는 점이 없는 경우 종료한다. 정점 번호는 1번부터 N번까지이다.\n",
        "\n",
        "- 입력: 첫째 줄에 정점의 개수 N(1 ≤ N ≤ 1,000), 간선의 개수 M(1 ≤ M ≤ 10,000), 탐색을 시작할 정점의 번호 V가 주어진다. 다음 M개의 줄에는 간선이 연결하는 두 정점의 번호가 주어진다. 어떤 두 정점 사이에 여러 개의 간선이 있을 수 있다. 입력으로 주어지는 간선은 양방향이다.\n",
        "\n",
        "- 출력: V부터 방문된 점을 순서대로 출력한다.\n",
        "\n",
        "- 예시 입출력\n",
        "\n",
        "|N| M| V| edges| 출력|\n",
        "|--|--|--|-----|-------|\n",
        "|4|5|1|[[1, 2], [1, 3], [1,4], [2, 3], [3, 4]]|1 2 3 4|\n",
        "\n",
        "----"
      ]
    },
    {
      "cell_type": "code",
      "metadata": {
        "id": "eZz8JAl5Atc9"
      },
      "source": [
        "# 과제 5번 코드란\n",
        "N, M, V = 4, 5, 1\n",
        "edges = [[1, 2], [1, 3], [1,4], [2, 3], [3, 4]]\n",
        "\n",
        "def solution(N, M, V, edges):\n",
        "    map = dict()\n",
        "    for edge in edges :\n",
        "      start = edge[0]\n",
        "      end = edge[1]\n",
        "      if start not in map :\n",
        "        map[start] = [end]\n",
        "      else : map[start].append(end)\n",
        "    \n",
        "    visited = [False] * (N+1)\n",
        "    def dfs(start):\n",
        "      print(start, end=' ')\n",
        "      visited[start] = True\n",
        "\n",
        "      if start not in map : return\n",
        "\n",
        "      neighbors = map.get(start)\n",
        "      sorted(neighbors) # 정점 번호가 작은 것부터 출력\n",
        "      for neighbor in neighbors :\n",
        "        if visited[neighbor] == False :\n",
        "          dfs(neighbor)\n",
        "\n",
        "    dfs(V)"
      ],
      "execution_count": null,
      "outputs": []
    },
    {
      "cell_type": "code",
      "metadata": {
        "colab": {
          "base_uri": "https://localhost:8080/"
        },
        "id": "Npu7BDrIuvFr",
        "outputId": "7b4eaf81-e560-410d-8640-32ac4d59fd2b"
      },
      "source": [
        "solution(4,5,1,[[1,2],[1,3],[1,4],[2,3],[3,4]])"
      ],
      "execution_count": null,
      "outputs": [
        {
          "output_type": "stream",
          "name": "stdout",
          "text": [
            "1 2 3 4 "
          ]
        }
      ]
    },
    {
      "cell_type": "markdown",
      "metadata": {
        "id": "kmzckUxxfWkw"
      },
      "source": [
        "----\n",
        "\n",
        "**수고하셨습니다!**\n",
        "\n",
        "----"
      ]
    },
    {
      "cell_type": "markdown",
      "metadata": {
        "id": "tgKiGrOIaU-t"
      },
      "source": [
        "## 과제 피드백 작성란\n",
        "\n",
        "----\n",
        "\n",
        "### 과제1\n",
        "\n",
        "### 과제2\n",
        "\n",
        "### 과제3\n",
        "\n",
        "### 과제4"
      ]
    }
  ]
}