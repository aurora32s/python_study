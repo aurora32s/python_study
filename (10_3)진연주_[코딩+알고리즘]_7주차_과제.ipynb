{
  "nbformat": 4,
  "nbformat_minor": 0,
  "metadata": {
    "colab": {
      "name": "(10-3)진연주 - [코딩+알고리즘] 7주차 과제.ipynb",
      "provenance": [],
      "collapsed_sections": [],
      "include_colab_link": true
    },
    "kernelspec": {
      "display_name": "Python 3",
      "language": "python",
      "name": "python3"
    },
    "language_info": {
      "codemirror_mode": {
        "name": "ipython",
        "version": 3
      },
      "file_extension": ".py",
      "mimetype": "text/x-python",
      "name": "python",
      "nbconvert_exporter": "python",
      "pygments_lexer": "ipython3",
      "version": "3.8.5"
    }
  },
  "cells": [
    {
      "cell_type": "markdown",
      "metadata": {
        "id": "view-in-github",
        "colab_type": "text"
      },
      "source": [
        "<a href=\"https://colab.research.google.com/github/aurora32s/python_study/blob/master/(10_3)%EC%A7%84%EC%97%B0%EC%A3%BC_%5B%EC%BD%94%EB%94%A9%2B%EC%95%8C%EA%B3%A0%EB%A6%AC%EC%A6%98%5D_7%EC%A3%BC%EC%B0%A8_%EA%B3%BC%EC%A0%9C.ipynb\" target=\"_parent\"><img src=\"https://colab.research.google.com/assets/colab-badge.svg\" alt=\"Open In Colab\"/></a>"
      ]
    },
    {
      "cell_type": "markdown",
      "metadata": {
        "id": "wS0WJ3F9SoRp"
      },
      "source": [
        "# 7주차 과제 공지사항\n",
        "\n",
        "----\n",
        "\n",
        "1. 아래의 과제를 보고 코드를 작성하시면 됩니다.\n",
        "2. 멘토님께서 과제에 대한 코드를 실행한 후에 정량적/정성적으로 평가가 됩니다.\n",
        "3. 멘토님께서는 과제평가에 대한 체크리스트를 작성한 뒤에 객관적으로 코드에 대한 평가를 할 예정입니다.\n",
        "4. 과제에 대한 점수는 100점 만점으로 진행이 됩니다.\n",
        "5. 퀴즈 및 과제에 대한 평가는 모든 수강생들의 평가가 완료되면 확인할 수 있습니다. 참고부탁드립니다.\n",
        "6. 퀴즈 및 과제기한은 일요일 저녁 10시 까지 입니다. 10시 이후에는 코드작성이 불가하오니 이 점 참고부탁드립니다.\n",
        "7. 반드시 코드 작성란에만 코드를 작성하시고, 그 외에는 절대로 내용을 수정하지 마세요.\n",
        "8. 작성란에 작성된 코드가 동작하는지 반드시 확인하세요. 코드가 동작하지 않으면 0점처리됩니다.\n",
        "9. 과제의 채점 시 입력은 달라질 수 있습니다. 다른 입력에도 동작할 수 있는 코드를 작성해 주세요.\n",
        "10. ***예시 입출력이 주어진 경우, 최소한 예시 입력에 대해 출력이 정상적으로 이루어져야 점수가 주어집니다. 예시 입력에 대해 동작시키는 것은 과제 제출의 최소 조건입니다.***\n",
        "11. ***예시 입력에 대해 출력이 정상적으로 되더라도, 코드의 내용이 적합하지 않은 경우 감점이 이루어집니다.***\n",
        "\n",
        "- 문제 출처\n",
        "  - 과제1: 프로그래머스\n",
        "  - 과제2, 과제3, 과제4: Leetcode\n",
        "\n",
        "----"
      ]
    },
    {
      "cell_type": "markdown",
      "metadata": {
        "id": "O4MMgk1OTzmH"
      },
      "source": [
        "----\n",
        "\n",
        "## 종합 점수 (/100)\n",
        "\n",
        "----"
      ]
    },
    {
      "cell_type": "markdown",
      "metadata": {
        "id": "JoFcF8ljTR6p"
      },
      "source": [
        "## 과제1.\n",
        "\n",
        "----\n",
        "0 또는 양의 정수가 주어졌을 때, 정수를 이어 붙여 만들 수 있는 가장 큰 수를 알아내 주세요.\n",
        "\n",
        "예를 들어, 주어진 정수가 `[6, 10, 2]`라면 `[6102, 6210, 1062, 1026, 2610, 2106]`를 만들 수 있고, 이중 가장 큰 수는 `6210`입니다.\n",
        "\n",
        "0 또는 양의 정수가 담긴 배열 numbers가 매개변수로 주어질 때, 순서를 재배치하여 만들 수 있는 가장 큰 수를 문자열로 바꾸어 return 하도록 solution 함수를 작성해주세요.\n",
        "\n",
        "- 제한 사항\n",
        "  - numbers의 길이는 1 이상 100,000 이하입니다.\n",
        "  - numbers의 원소는 0 이상 1,000 이하입니다.\n",
        "  - 정답이 너무 클 수 있으니 문자열로 바꾸어 return 합니다.\n",
        "\n",
        "- 입출력 예\n",
        "\n",
        "\n",
        "  | numbers | return |\n",
        "  |--------|--------|\n",
        "  |`[6, 10, 2]` | 6210 |\n",
        "  |`[3, 30, 34, 5, 9]` | 9534330 |\n",
        "\n",
        "\n",
        "```python\n",
        "def solution(numbers):\n",
        "    answer = 0\n",
        "    return answer\n",
        "```\n",
        "----"
      ]
    },
    {
      "cell_type": "code",
      "metadata": {
        "id": "MpNgU-Ftq8Oh"
      },
      "source": [
        "# 과제1번 코드란\n",
        "def solution (numbers) :\n",
        "  numbers = list(map(str, numbers))\n",
        "  numbers.sort(key=lambda x : x * 3, reverse = True)\n",
        "  return str(int(''.join(numbers)))"
      ],
      "execution_count": null,
      "outputs": []
    },
    {
      "cell_type": "code",
      "metadata": {
        "colab": {
          "base_uri": "https://localhost:8080/",
          "height": 37
        },
        "id": "rsc7_C_V_qAN",
        "outputId": "3268c548-1225-46cb-d6d6-d954564ab22d"
      },
      "source": [
        "solution([6,10,2])"
      ],
      "execution_count": null,
      "outputs": [
        {
          "output_type": "execute_result",
          "data": {
            "application/vnd.google.colaboratory.intrinsic+json": {
              "type": "string"
            },
            "text/plain": [
              "'6210'"
            ]
          },
          "metadata": {},
          "execution_count": 25
        }
      ]
    },
    {
      "cell_type": "markdown",
      "metadata": {
        "id": "jmayiflbYYW6"
      },
      "source": [
        "## 과제2.\n",
        "\n",
        "----\n",
        "여러 개의 구간이 리스트 intervals로 주어졌을 때, 겹치는 구간을 모두 병합하여 출력하시오.\n",
        "\n",
        "입력 예시1\n",
        "\n",
        "```\n",
        "입력: intervals = [[1,3],[2,6],[8,10],[15,18]]\n",
        "출력: [[1,6],[8,10],[15,18]]\n",
        "설명: 구간 [1,3]와 [2,6]이 겹치므로, [1,6]으로 병합하였다.\n",
        "```\n",
        "\n",
        "입력 예시 2\n",
        "\n",
        "```\n",
        "입력: intervals = [[1,4],[4,5]]\n",
        "출력: [[1,5]]\n",
        "설명: 구간 [1,4]와 [4,5]는 겹치는 것으로 간주한다.\n",
        "```\n",
        "\n",
        "```python\n",
        "def solution(intervals)\n",
        "    return []\n",
        "```\n",
        "----"
      ]
    },
    {
      "cell_type": "code",
      "metadata": {
        "id": "bmA6c6EMYY7o"
      },
      "source": [
        "# 과제 2번 코드란\n",
        "def solution (intervals) :\n",
        "  temp_list = sorted(intervals, key = lambda x : x[0])\n",
        "  result = []\n",
        "\n",
        "  for interval in temp_list :\n",
        "    if result and result[-1][1] >= interval[0] : # 겹치는 경우\n",
        "      result[-1][1] = max(result[-1][1], interval[1])\n",
        "    else :\n",
        "      result.append(interval)\n",
        "\n",
        "  return result"
      ],
      "execution_count": null,
      "outputs": []
    },
    {
      "cell_type": "code",
      "metadata": {
        "colab": {
          "base_uri": "https://localhost:8080/"
        },
        "id": "CgrlU1nsDq3w",
        "outputId": "925457ea-e862-4791-aefa-6267794cb894"
      },
      "source": [
        "intervals = [[1,3],[2,6],[8,10],[15,18]]\n",
        "solution(intervals=intervals)"
      ],
      "execution_count": null,
      "outputs": [
        {
          "output_type": "execute_result",
          "data": {
            "text/plain": [
              "[[1, 6], [8, 10], [15, 18]]"
            ]
          },
          "metadata": {},
          "execution_count": 28
        }
      ]
    },
    {
      "cell_type": "code",
      "metadata": {
        "colab": {
          "base_uri": "https://localhost:8080/"
        },
        "id": "GdIi2x6DD1cL",
        "outputId": "56d3ec1a-9611-4cdc-b0a0-546e6859d22a"
      },
      "source": [
        "intervals = [[1,4],[4,5]]\n",
        "solution(intervals=intervals)"
      ],
      "execution_count": null,
      "outputs": [
        {
          "output_type": "execute_result",
          "data": {
            "text/plain": [
              "[[1, 5]]"
            ]
          },
          "metadata": {},
          "execution_count": 29
        }
      ]
    },
    {
      "cell_type": "markdown",
      "metadata": {
        "id": "fzlpa3FVZpcL"
      },
      "source": [
        "## 과제3.\n",
        "\n",
        "----\n",
        "문자열 s1, s2, s3가 주어졌을 때, 문자열 s3가 문자열 s1과 s2를 교차로 배치하여 만들어질 수 있는지 여부를 출력하라.\n",
        "\n",
        "예시 입력1\n",
        "\n",
        "```\n",
        "입력: s1 = \"aabcc\", s2 = \"dbbca\", s3 = \"aadbbcbcac\"\n",
        "출력: True\n",
        "```\n",
        "예시 입력2\n",
        "\n",
        "```\n",
        "입력: s1 = \"aabcc\", s2 = \"dbbca\", s3 = \"aadbbbaccc\"\n",
        "출력: False\n",
        "```\n",
        "\n",
        "```python\n",
        "def solution(s1, s2, s3):\n",
        "    return False\n",
        "```\n",
        "\n",
        "----"
      ]
    },
    {
      "cell_type": "code",
      "metadata": {
        "id": "pWDpwtNqaPLN"
      },
      "source": [
        "# 과제 3번 코드란\n",
        "def solution (s1, s2, s3) :\n",
        "  if len(s1) + len(s2) != len(s3) :\n",
        "    return False\n",
        "  if len(s1) > len(s2) :\n",
        "    return solution(s2, s1, s3)\n",
        "  \n",
        "  match = [False for _ in range(len(s1) + 1)]\n",
        "  match[0] = True\n",
        "\n",
        "  for i in range(1, len(s1) + 1) :\n",
        "    match[i] = match[i - 1] and s1[i - 1] == s3[i - 1]\n",
        "  for i in range(1, len(s2) + 1) :\n",
        "    match[0] = match[0] and s2[i - 1] == s3[i - 1]\n",
        "    for j in range(1, len(s1) + 1) :\n",
        "      match[j] = (match[j-1] and s1[j-1] == s3[i+j-1]) \\\n",
        "        or (match[j] and s2[i-1] == s3[i+j-1])\n",
        "  \n",
        "  return match[-1]"
      ],
      "execution_count": null,
      "outputs": []
    },
    {
      "cell_type": "code",
      "metadata": {
        "colab": {
          "base_uri": "https://localhost:8080/"
        },
        "id": "vAzudfDEGWMT",
        "outputId": "4902696f-f5f5-49ae-f881-bb7c13c30085"
      },
      "source": [
        "s1 = \"aabcc\"\n",
        "s2 = \"dbbca\"\n",
        "s3 = \"aadbbcbcac\"\n",
        "solution(s1, s2, s3)"
      ],
      "execution_count": null,
      "outputs": [
        {
          "output_type": "execute_result",
          "data": {
            "text/plain": [
              "True"
            ]
          },
          "metadata": {},
          "execution_count": 37
        }
      ]
    },
    {
      "cell_type": "code",
      "metadata": {
        "colab": {
          "base_uri": "https://localhost:8080/"
        },
        "id": "gPNWyL1qJJs0",
        "outputId": "bf66c343-c999-43bd-976f-7c75d7176d56"
      },
      "source": [
        "s1 = \"aabcc\"\n",
        "s2 = \"dbbca\"\n",
        "s3 = \"aadbbbaccc\"\n",
        "solution(s1, s2, s3)"
      ],
      "execution_count": null,
      "outputs": [
        {
          "output_type": "execute_result",
          "data": {
            "text/plain": [
              "False"
            ]
          },
          "metadata": {},
          "execution_count": 38
        }
      ]
    },
    {
      "cell_type": "markdown",
      "metadata": {
        "id": "2F_re4bmElqI"
      },
      "source": [
        "## 과제4.\n",
        "\n",
        "----\n",
        "2개의 단어 beginWord와 endWord, 그리고 여러개의 단어 wordList가 주어졌을 때, beginWord에서 endWord로 변환하기 위해 필요한 가장 적은 변환 횟수를 구하시오.\n",
        "\n",
        "- 변환 조건\n",
        "  - 단어는 wordList에 있는 단어로만 변환할 수 있다.\n",
        "  - 단어를 변환할 때에는 한번에 하나씩의 문자만 바꿀 수 있다.\n",
        "\n",
        "- 문제 조건\n",
        "  - endWord로의 변환이 불가한 경우에는 0을 출력하시오.\n",
        "  - 문제에 등장하는 모든 단어의 길이는 같으며, 알파벳 소문자로만 이루어져 있다.\n",
        "  - wordList에는 겹치는 단어가 없다.\n",
        "  - beginWord와 endWord는 같은 단어로 주어지지 않는다.\n",
        "\n",
        "예시 입력1\n",
        "\n",
        "```\n",
        "입력:\n",
        "beginWord = \"hit\",\n",
        "endWord = \"cog\",\n",
        "wordList = [\"hot\",\"dot\",\"dog\",\"lot\",\"log\",\"cog\"]\n",
        "\n",
        "출력: 5\n",
        "\n",
        "설명: 가장 짧은 변환 방법은 \"hit\" -> \"hot\" -> \"dot\" -> \"dog\" -> \"cog\"이다.\n",
        "```\n",
        "\n",
        "예시 입력2\n",
        "\n",
        "```\n",
        "입력:\n",
        "beginWord = \"hit\"\n",
        "endWord = \"cog\"\n",
        "wordList = [\"hot\",\"dot\",\"dog\",\"lot\",\"log\"]\n",
        "\n",
        "출력: 0\n",
        "\n",
        "설명: endWord인 \"cog\"가 wordList에 없으므로, endWord로 변환할 수 있는 방법이 없다.\n",
        "```\n",
        "\n",
        "```python\n",
        "def solution(beginWord, endWord, wordList):\n",
        "    return 0\n",
        "```\n",
        "\n",
        "----"
      ]
    },
    {
      "cell_type": "code",
      "metadata": {
        "id": "Iyh4OZgpElqI"
      },
      "source": [
        "# 과제 4번 코드란\n",
        "def bfs (begin, target, words, visited) :\n",
        "  stack = [(begin, 1)]\n",
        "\n",
        "  while stack :\n",
        "    cur, depth = stack.pop()\n",
        "    if cur == target :\n",
        "      return depth\n",
        "\n",
        "    for index in range(len(words)) :\n",
        "      cnt = 0\n",
        "      if visited[index] == False:\n",
        "        for a, b in zip(cur, words[index]) :\n",
        "          if a != b : cnt += 1\n",
        "      \n",
        "      if cnt == 1 :\n",
        "          visited[index] = True\n",
        "          stack.append((words[index], depth + 1))\n",
        "\n",
        "  return 0\n",
        "\n",
        "def solution (beginWord, endWord, wordList) :\n",
        "  answer = 0\n",
        "  if endWord not in wordList :\n",
        "    return 0\n",
        "\n",
        "  visited = [False] * (len(wordList))\n",
        "  answer = bfs(beginWord, endWord, wordList, visited)\n",
        "  return answer"
      ],
      "execution_count": null,
      "outputs": []
    },
    {
      "cell_type": "code",
      "metadata": {
        "colab": {
          "base_uri": "https://localhost:8080/"
        },
        "id": "_5vQaE1QMrax",
        "outputId": "deba0203-1f81-4b9f-c826-a80e94b6645b"
      },
      "source": [
        "beginWord = \"hit\"\n",
        "endWord = \"cog\"\n",
        "wordList = [\"hot\",\"dot\",\"dog\",\"lot\",\"log\",\"cog\"]\n",
        "solution(beginWord, endWord, wordList)"
      ],
      "execution_count": null,
      "outputs": [
        {
          "output_type": "execute_result",
          "data": {
            "text/plain": [
              "5"
            ]
          },
          "metadata": {},
          "execution_count": 58
        }
      ]
    },
    {
      "cell_type": "code",
      "metadata": {
        "colab": {
          "base_uri": "https://localhost:8080/"
        },
        "id": "1p4rKuzROh3G",
        "outputId": "345bcd35-1f04-4ebe-b4e5-ba67ee2cc26c"
      },
      "source": [
        "beginWord = \"hit\"\n",
        "endWord = \"cog\"\n",
        "wordList = [\"hot\",\"dot\",\"dog\",\"lot\",\"log\"]\n",
        "solution(beginWord, endWord, wordList)"
      ],
      "execution_count": null,
      "outputs": [
        {
          "output_type": "execute_result",
          "data": {
            "text/plain": [
              "0"
            ]
          },
          "metadata": {},
          "execution_count": 59
        }
      ]
    },
    {
      "cell_type": "markdown",
      "metadata": {
        "id": "kmzckUxxfWkw"
      },
      "source": [
        "----\n",
        "\n",
        "**수고하셨습니다!**\n",
        "\n",
        "----"
      ]
    },
    {
      "cell_type": "markdown",
      "metadata": {
        "id": "tgKiGrOIaU-t"
      },
      "source": [
        "## 과제 피드백 작성란\n",
        "\n",
        "----\n",
        "\n",
        "### 과제1\n",
        "\n",
        "### 과제2\n",
        "\n",
        "### 과제3\n",
        "\n",
        "### 과제4"
      ]
    }
  ]
}