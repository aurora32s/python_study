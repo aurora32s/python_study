{
  "nbformat": 4,
  "nbformat_minor": 0,
  "metadata": {
    "colab": {
      "name": "3주차 과제.ipynb",
      "provenance": [],
      "collapsed_sections": [
        "fd9By-lEXED0",
        "Dea5g9mlfhqV",
        "2X_jBtnPkmCU"
      ],
      "authorship_tag": "ABX9TyPCyXuJTvLNZXYbCA/8PzLm",
      "include_colab_link": true
    },
    "kernelspec": {
      "name": "python3",
      "display_name": "Python 3"
    },
    "language_info": {
      "name": "python"
    }
  },
  "cells": [
    {
      "cell_type": "markdown",
      "metadata": {
        "id": "view-in-github",
        "colab_type": "text"
      },
      "source": [
        "<a href=\"https://colab.research.google.com/github/aurora32s/python_study/blob/master/3%EC%A3%BC%EC%B0%A8_%EA%B3%BC%EC%A0%9C.ipynb\" target=\"_parent\"><img src=\"https://colab.research.google.com/assets/colab-badge.svg\" alt=\"Open In Colab\"/></a>"
      ]
    },
    {
      "cell_type": "markdown",
      "metadata": {
        "id": "fd9By-lEXED0"
      },
      "source": [
        "### 1. linked queue 구현하기"
      ]
    },
    {
      "cell_type": "code",
      "metadata": {
        "id": "lPiqhx9pWxw1"
      },
      "source": [
        "class Node :\n",
        "  def __init__ (self, data, prev=None, next=None) :\n",
        "    self.data = data\n",
        "    self.prev = prev\n",
        "    self.next = next"
      ],
      "execution_count": null,
      "outputs": []
    },
    {
      "cell_type": "code",
      "metadata": {
        "id": "Z5FH2EWwW65Z"
      },
      "source": [
        "class LinkedQueue :\n",
        "  def __init__ (self) :\n",
        "    self.front = None\n",
        "    self.rear = None\n",
        "\n",
        "  def is_empty (self) :\n",
        "    if self.front == None :\n",
        "      return True\n",
        "    return False\n",
        "\n",
        "  def put (self, data) :\n",
        "    if self.rear == None : # 데이터가 하나도 없다면\n",
        "      self.front = Node(data)\n",
        "      self.rear = self.front\n",
        "      return\n",
        "\n",
        "    new_node = Node(data)\n",
        "    new_node.prev = self.rear\n",
        "    self.rear.next = new_node\n",
        "    self.rear = new_node\n",
        "  \n",
        "  def get (self) :\n",
        "    if self.front == None : # 데이터가 하나도 없다면\n",
        "      return None\n",
        "    \n",
        "    data = self.front\n",
        "    del self.front\n",
        "    self.front = data.next\n",
        "\n",
        "    if self.front == None :\n",
        "      self.rear = None\n",
        "    return data.data\n",
        "\n",
        "  def peek (self) :\n",
        "    if self.front == None :\n",
        "      return None\n",
        "    \n",
        "    return self.front.data"
      ],
      "execution_count": null,
      "outputs": []
    },
    {
      "cell_type": "code",
      "metadata": {
        "colab": {
          "base_uri": "https://localhost:8080/"
        },
        "id": "ETSuvuygX6l8",
        "outputId": "caafdd54-7ce8-4d68-b391-3ec1050915d8"
      },
      "source": [
        "queue = LinkedQueue()\n",
        "\n",
        "print(queue.is_empty())"
      ],
      "execution_count": null,
      "outputs": [
        {
          "output_type": "stream",
          "name": "stdout",
          "text": [
            "True\n"
          ]
        }
      ]
    },
    {
      "cell_type": "code",
      "metadata": {
        "id": "dRZChnRVYBdE"
      },
      "source": [
        "for i in range(10) :\n",
        "  queue.put(i)"
      ],
      "execution_count": null,
      "outputs": []
    },
    {
      "cell_type": "code",
      "metadata": {
        "colab": {
          "base_uri": "https://localhost:8080/"
        },
        "id": "OHg-tmMNbUph",
        "outputId": "b982e979-3351-4170-a95a-14286b380fa7"
      },
      "source": [
        "print(queue.is_empty())"
      ],
      "execution_count": null,
      "outputs": [
        {
          "output_type": "stream",
          "name": "stdout",
          "text": [
            "False\n"
          ]
        }
      ]
    },
    {
      "cell_type": "code",
      "metadata": {
        "colab": {
          "base_uri": "https://localhost:8080/"
        },
        "id": "ERva7p4rbWkN",
        "outputId": "bcc49350-7039-4bad-d405-24c8a9e30c90"
      },
      "source": [
        "for _ in range(11) :\n",
        "  print(queue.get(), end='')"
      ],
      "execution_count": null,
      "outputs": [
        {
          "output_type": "stream",
          "name": "stdout",
          "text": [
            "0123456789None"
          ]
        }
      ]
    },
    {
      "cell_type": "code",
      "metadata": {
        "id": "BNK7K1N8c4Jq"
      },
      "source": [
        "queue.rear"
      ],
      "execution_count": null,
      "outputs": []
    },
    {
      "cell_type": "code",
      "metadata": {
        "id": "Hbjf_Q7DbdJh"
      },
      "source": [
        "for i in range(20) :\n",
        "  queue.put(i)"
      ],
      "execution_count": null,
      "outputs": []
    },
    {
      "cell_type": "code",
      "metadata": {
        "colab": {
          "base_uri": "https://localhost:8080/"
        },
        "id": "zfgEhUKZbi1N",
        "outputId": "ce04e95a-509f-4d00-abee-d8218bceb450"
      },
      "source": [
        "print(queue.is_empty())"
      ],
      "execution_count": null,
      "outputs": [
        {
          "output_type": "stream",
          "name": "stdout",
          "text": [
            "False\n"
          ]
        }
      ]
    },
    {
      "cell_type": "code",
      "metadata": {
        "colab": {
          "base_uri": "https://localhost:8080/"
        },
        "id": "WMRunI2gblOQ",
        "outputId": "da023a19-36a8-48d8-e66b-a12dae096b58"
      },
      "source": [
        "for _ in range(5):\n",
        "  print(queue.peek(), end='')"
      ],
      "execution_count": null,
      "outputs": [
        {
          "output_type": "stream",
          "name": "stdout",
          "text": [
            "00000"
          ]
        }
      ]
    },
    {
      "cell_type": "code",
      "metadata": {
        "colab": {
          "base_uri": "https://localhost:8080/"
        },
        "id": "K2ZzcpNge-nq",
        "outputId": "d739806d-2c39-4dfc-887d-0053d826737b"
      },
      "source": [
        "for _ in range(21) :\n",
        "  print(queue.get(), end='')"
      ],
      "execution_count": null,
      "outputs": [
        {
          "output_type": "stream",
          "name": "stdout",
          "text": [
            "012345678910111213141516171819None"
          ]
        }
      ]
    },
    {
      "cell_type": "code",
      "metadata": {
        "colab": {
          "base_uri": "https://localhost:8080/"
        },
        "id": "RZ5KhuByfEmw",
        "outputId": "a52656d4-aa51-4a80-f441-ce7b60d592c6"
      },
      "source": [
        "print(queue.is_empty())"
      ],
      "execution_count": null,
      "outputs": [
        {
          "output_type": "stream",
          "name": "stdout",
          "text": [
            "True\n"
          ]
        }
      ]
    },
    {
      "cell_type": "markdown",
      "metadata": {
        "id": "Dea5g9mlfhqV"
      },
      "source": [
        "### 2. Stack 구현하기"
      ]
    },
    {
      "cell_type": "code",
      "metadata": {
        "colab": {
          "base_uri": "https://localhost:8080/"
        },
        "id": "2HmEsoXWfJ_p",
        "outputId": "e56efa9f-c9c3-4b08-a4fd-224523996d05"
      },
      "source": [
        "class Stack :\n",
        "  def __init__ (self) :\n",
        "    self.list = list()\n",
        "\n",
        "  def push (self, data) :\n",
        "    self.list.append(data)\n",
        "\n",
        "  def pop (self) :\n",
        "    return self.list.pop()\n",
        "\n",
        "class Calculator :\n",
        "  def __init__ (self) :\n",
        "    self.stack = Stack()\n",
        "\n",
        "  def calculate (self, string) :\n",
        "    new_string = string.replace(' ', '') # 공백제거\n",
        "    for item in new_string :\n",
        "      if item == '+' or item == '-' or item == '*' or item == '/' :\n",
        "        b = self.stack.pop()\n",
        "        a = self.stack.pop()\n",
        "        if item == '+' :\n",
        "          self.stack.push(a+b)\n",
        "        elif item == '-' :\n",
        "          self.stack.push(a-b)\n",
        "        elif item == '*' :\n",
        "          self.stack.push(a*b)\n",
        "        else :\n",
        "          self.stack.push(a//b)\n",
        "      else :\n",
        "        self.stack.push(int(item))\n",
        "    return self.stack.pop()\n",
        "\n",
        "calc = Calculator()\n",
        "print(calc.calculate('4 6 * 2 / 2 +'))\n",
        "print(calc.calculate('2 5 + 3 * 6 - 5 *'))"
      ],
      "execution_count": null,
      "outputs": [
        {
          "output_type": "stream",
          "name": "stdout",
          "text": [
            "14\n",
            "75\n"
          ]
        }
      ]
    },
    {
      "cell_type": "markdown",
      "metadata": {
        "id": "2X_jBtnPkmCU"
      },
      "source": [
        "### 3. Tree의 pre-order 구현하기\n"
      ]
    },
    {
      "cell_type": "code",
      "metadata": {
        "id": "bYWaI200hKax"
      },
      "source": [
        "class Node :\n",
        "  def __init__ (self, data, left=None, right=None) :\n",
        "    self.data = data\n",
        "    self.left = left\n",
        "    self.right = right\n",
        "\n",
        "class Tree :\n",
        "  def __init__ (self, root) :\n",
        "    self.root = root\n",
        "\n",
        "  def preorder (self, cur) :\n",
        "    if cur == None : return\n",
        "\n",
        "    print(cur.data, end=' ')\n",
        "    self.preorder(cur.left)\n",
        "    self.preorder(cur.right)\n"
      ],
      "execution_count": null,
      "outputs": []
    },
    {
      "cell_type": "code",
      "metadata": {
        "colab": {
          "base_uri": "https://localhost:8080/"
        },
        "id": "QaT6WR_pmATo",
        "outputId": "5c73caae-70bd-4d57-abaf-1864f2f1d058"
      },
      "source": [
        "# Test code\n",
        "root = Node(5, Node(2, Node(7, Node(4), Node(1)), Node(3)), Node(9, Node(6), Node(10)))\n",
        "tree = Tree(root)\n",
        "tree.preorder(tree.root)"
      ],
      "execution_count": null,
      "outputs": [
        {
          "output_type": "stream",
          "name": "stdout",
          "text": [
            "5 2 7 4 1 3 9 6 10 "
          ]
        }
      ]
    },
    {
      "cell_type": "markdown",
      "metadata": {
        "id": "N3XAS0iam8Hh"
      },
      "source": [
        "### 4. Chaning 기법으로 HashTable 구현하기"
      ]
    },
    {
      "cell_type": "code",
      "metadata": {
        "id": "CajHbVEGnG3J"
      },
      "source": [
        "def hash_func (key) :\n",
        "  return ord(key[0]) % 10\n",
        "\n",
        "class HashTable :\n",
        "  def __init__ (self) :\n",
        "    self.table = [None] * 10\n",
        "\n",
        "  def set (self, key, value) :\n",
        "    self.table[hash_func(key)] = value\n",
        "  \n",
        "  def get (self, key) :\n",
        "    return self.table[hash_func(key)]\n",
        "\n",
        "class Node :\n",
        "  def __init__ (self, key, data) :\n",
        "    self.key = key\n",
        "    self.data = data\n",
        "    self.next = None\n",
        "\n",
        "class ChainedHashTable (HashTable) :\n",
        "  def __init__ (self) :\n",
        "    super().__init__()\n",
        "\n",
        "  def set (self, key, value) :\n",
        "    hash_address = hash_func(key)\n",
        "\n",
        "    # 중복 데이터 검사\n",
        "    if self.table[hash_address] != None : # 이미 데이터가 있는 경우\n",
        "      for index in range(len(self.table[hash_address])) :\n",
        "        # 이미 해당 키값의 초기화된 데이터가 있는 경우\n",
        "        if self.table[hash_address][index][0] == key :\n",
        "          self.table[hash_address][index][1] = value\n",
        "          return\n",
        "      # 해당 키값의 데이터가 없는 경우\n",
        "      self.table[hash_address].append([key, value])\n",
        "    else :\n",
        "      self.table[hash_address] = [[key, value]]\n",
        "\n",
        "  def get (self, key) :\n",
        "    hash_address = hash_func(key)\n",
        "\n",
        "    if self.table[hash_address] != None : # 이미 데이터가 있는 경우\n",
        "      for index in range(len(self.table[hash_address])) :\n",
        "        if self.table[hash_address][index][0] == key :\n",
        "          return self.table[hash_address][index][1]\n",
        "      return 'None data'\n",
        "    else :\n",
        "      return 'None data'\n",
        "    "
      ],
      "execution_count": null,
      "outputs": []
    },
    {
      "cell_type": "code",
      "metadata": {
        "id": "MF2p2u0RKWdW"
      },
      "source": [
        "# Test code\n",
        "\n",
        "ht = ChainedHashTable()\n",
        "ht.set('hello', 1)\n",
        "ht.set('hello2', 2)\n",
        "ht.set('hello3', 3)\n",
        "ht.set('hello4', 4)"
      ],
      "execution_count": null,
      "outputs": []
    },
    {
      "cell_type": "code",
      "metadata": {
        "id": "8AHOmEM2OgGq"
      },
      "source": [
        "ht.table"
      ],
      "execution_count": null,
      "outputs": []
    },
    {
      "cell_type": "code",
      "metadata": {
        "colab": {
          "base_uri": "https://localhost:8080/"
        },
        "id": "yYw1QmnGONqh",
        "outputId": "09ac740a-447c-45f9-fab1-1c8857fd521f"
      },
      "source": [
        "print(ht.get('hello'), end=' ')\n",
        "print(ht.get('hello2'), end=' ')\n",
        "print(ht.get('hello3'), end=' ')\n",
        "print(ht.get('hello4'), end=' ')\n",
        "print()"
      ],
      "execution_count": null,
      "outputs": [
        {
          "output_type": "stream",
          "name": "stdout",
          "text": [
            "1 2 3 4 \n"
          ]
        }
      ]
    },
    {
      "cell_type": "code",
      "metadata": {
        "id": "Vr0A61x5O6sH"
      },
      "source": [
        "ht.set('hello2', 5)"
      ],
      "execution_count": null,
      "outputs": []
    },
    {
      "cell_type": "code",
      "metadata": {
        "colab": {
          "base_uri": "https://localhost:8080/"
        },
        "id": "ngD8bZScO7TA",
        "outputId": "ad70e259-eb93-4e32-d035-bd9a0832ab79"
      },
      "source": [
        "print(ht.get('hello'), end=' ')\n",
        "print(ht.get('hello2'), end=' ')\n",
        "print(ht.get('hello3'), end=' ')\n",
        "print(ht.get('hello4'), end=' ')"
      ],
      "execution_count": null,
      "outputs": [
        {
          "output_type": "stream",
          "name": "stdout",
          "text": [
            "1 5 3 4 "
          ]
        }
      ]
    },
    {
      "cell_type": "code",
      "metadata": {
        "id": "_HQpzZHAO9Vo"
      },
      "source": [
        ""
      ],
      "execution_count": null,
      "outputs": []
    }
  ]
}