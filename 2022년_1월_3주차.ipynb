{
  "nbformat": 4,
  "nbformat_minor": 0,
  "metadata": {
    "colab": {
      "name": "2022년 1월 3주차",
      "provenance": [],
      "collapsed_sections": [
        "C9aEYRuFTXed",
        "LHur-o_3oVn9",
        "xlOg00EOlMiN",
        "x2s5Wc4Xe3xS",
        "4kbXVJz6wbjK",
        "nsxHCLm1S2Tt",
        "1lvJK7_gY52Z"
      ],
      "authorship_tag": "ABX9TyNRg4ac0JEeBqNL2FxGwr9U",
      "include_colab_link": true
    },
    "kernelspec": {
      "name": "python3",
      "display_name": "Python 3"
    },
    "language_info": {
      "name": "python"
    }
  },
  "cells": [
    {
      "cell_type": "markdown",
      "metadata": {
        "id": "view-in-github",
        "colab_type": "text"
      },
      "source": [
        "<a href=\"https://colab.research.google.com/github/aurora32s/python_study/blob/master/2022%EB%85%84_1%EC%9B%94_3%EC%A3%BC%EC%B0%A8.ipynb\" target=\"_parent\"><img src=\"https://colab.research.google.com/assets/colab-badge.svg\" alt=\"Open In Colab\"/></a>"
      ]
    }
  ]
}