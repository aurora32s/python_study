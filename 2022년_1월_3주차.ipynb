{
  "nbformat": 4,
  "nbformat_minor": 0,
  "metadata": {
    "colab": {
      "name": "2022년 1월 3주차",
      "provenance": [],
      "collapsed_sections": [],
      "authorship_tag": "ABX9TyPBIxD1wJR/qMjo6kSXQDFE",
      "include_colab_link": true
    },
    "kernelspec": {
      "name": "python3",
      "display_name": "Python 3"
    },
    "language_info": {
      "name": "python"
    }
  },
  "cells": [
    {
      "cell_type": "markdown",
      "metadata": {
        "id": "view-in-github",
        "colab_type": "text"
      },
      "source": [
        "<a href=\"https://colab.research.google.com/github/aurora32s/python_study/blob/master/2022%EB%85%84_1%EC%9B%94_3%EC%A3%BC%EC%B0%A8.ipynb\" target=\"_parent\"><img src=\"https://colab.research.google.com/assets/colab-badge.svg\" alt=\"Open In Colab\"/></a>"
      ]
    },
    {
      "cell_type": "markdown",
      "source": [
        "# 연산자 끼워넣기(14888번)\n",
        "\n",
        "## 문제\n",
        "N개의 수로 이루어진 수열 A1, A2, ..., AN이 주어진다. 또, 수와 수 사이에 끼워넣을 수 있는 N-1개의 연산자가 주어진다. 연산자는 덧셈(+), 뺄셈(-), 곱셈(x), 나눗셈(÷)으로만 이루어져 있다.\n",
        "\n",
        "우리는 수와 수 사이에 연산자를 하나씩 넣어서, 수식을 하나 만들 수 있다. 이 떄, 주어진 수의 순서를 바꾸면 안된다.\n",
        "\n",
        "예를 들어, 6개의 수로 이루어진 수열이 1,2,3,4,5,6이고, 주어진 연산자가 뎃셈(+1) 2개, 뺄셈(-) 1개, 곱셈(x) 1개, 나눗셈(÷) 1개인 경우에는 총 60가지의 식을 만들 수 있다. 예를 들어, 아래와 같은 식을 만들 수 있다.\n",
        "- 1+2+3-4x5÷6\n",
        "- 1÷2+3+4-5x6\n",
        "- 1+2÷3x4-5+6\n",
        "- 1÷2x3-4+5+6\n",
        "\n",
        "식의 계산은 연산자 우선 순위를 무시하고 앞에서부터 진행해야 한다. 또 나눗셈은 정수 나눗셈으로 몫만 취한다. 음수를 양수로 나눌 때는 C++ 14의 기준을 따른다. 즉, 양수로 바꾼 뒤 몫을 취하고, 그 몫을 음수로 바꾼 것과 같다. 이에 따라서, 위의 식 4개의 결과를 계산해보면 아래와 같다.\n",
        "- 1+2+3-4x5÷6 = 1\n",
        "- 1÷2+3+4-5x6 = 12\n",
        "- 1+2÷3x4-5+6 = 5\n",
        "- 1÷2x3-4+5+6 = 7\n",
        "\n",
        "N개의 수와 N-1개의 연산자가 주어졌을 때, 만들 수 있는 식의 결과가 최대인 것과 최소인 것을 구하는 프로그램을 작성하시오.\n",
        "\n",
        "## 입력\n",
        "첫째 줄에 수의 개수 N(2<=N<=11)가 주어진다. 둘째 줄에는 A1, A2, ..., A이 주어진다. (1<=Ai<=100) 셌재 줄에는 합이 N-1인 4개의 정수가 주어진다. 차례대로 뎃셈(+1)의 개수, 뺄셈(-)의 개수, 곱셈(x)의 개수, 나눗셈(÷)의 개수이다.\n",
        "\n",
        "## 출력\n",
        "첫째 줄에 만들 수 있는 식의 결과의 최댓값을, 둘째 줄에는 최솟값을 출력한다. 연산자를 어떻게 끼워넣어도 항상 -10억보다 크거나 같고, 10억보다 작거나 같은 결과가 나오는 입력만 주어진다. 또한, 앞에서부터 계산했을 때, 중간에 계산되는 식의 결과도 항상 -10억보다 크거나 같고, 10억보다 작거나 같다."
      ],
      "metadata": {
        "id": "Z3B_VjLBqAfk"
      }
    },
    {
      "cell_type": "code",
      "source": [
        "n = int(input()) # 수의 개수\n",
        "numbers = list(map(int, input().split())) # n개의 수\n",
        "operator = list(map(int, input().split())) # 연산자의 개수\n",
        "\n",
        "maxValue = int(1e9) * -1 - 1 # 최대값\n",
        "minValue = int(1e9) + 1 # 최솟값\n",
        "\n",
        "def calculator (a, b, index) : # 피연산자, 연산자 index\n",
        "  if index == 0 : # 덧셈\n",
        "    return a+b\n",
        "  elif index == 1 : # 뺄셈\n",
        "    return a-b\n",
        "  elif index == 2 : # 곱셈\n",
        "    return a*b\n",
        "  else : # 나눗셈\n",
        "    result = 0\n",
        "    if a < 0 and b > 0 : result = (abs(a) // b) * -1\n",
        "    else : result = a//b\n",
        "    return result # 나눗셈(정수 나눗셈으로 몫만 취한다.)\n",
        "\n",
        "def solve(result, index) : # 지금까지 결과, 숫자 index\n",
        "  global maxValue, minValue\n",
        "  if index == n : # 모든 숫자 계산 완료\n",
        "    maxValue = max(maxValue, result)\n",
        "    minValue = min(minValue, result)\n",
        "    return\n",
        "  \n",
        "  for op in range(4) : # 각 연산자 중 개수가 1개 이상인 연산자만 계산 후 전달\n",
        "    if operator[op] > 0 :\n",
        "      operator[op] -= 1\n",
        "      solve(calculator(result, numbers[index], op), index + 1)\n",
        "      operator[op] += 1\n",
        "\n",
        "solve(numbers[0], 1)\n",
        "print(maxValue)\n",
        "print(minValue)"
      ],
      "metadata": {
        "colab": {
          "base_uri": "https://localhost:8080/"
        },
        "id": "1YK6OQQ5ohpD",
        "outputId": "f7282677-cc10-4e1d-bf22-d58bf41177c3"
      },
      "execution_count": null,
      "outputs": [
        {
          "output_type": "stream",
          "name": "stdout",
          "text": [
            "2\n",
            "5 6\n",
            "0 0 1 0\n",
            "30\n",
            "30\n"
          ]
        }
      ]
    },
    {
      "cell_type": "code",
      "source": [
        "maxValue"
      ],
      "metadata": {
        "colab": {
          "base_uri": "https://localhost:8080/"
        },
        "id": "hL7fHgDIo5Fy",
        "outputId": "62930e00-d887-4352-d572-f29204a66aa6"
      },
      "execution_count": null,
      "outputs": [
        {
          "output_type": "execute_result",
          "data": {
            "text/plain": [
              "54"
            ]
          },
          "metadata": {},
          "execution_count": 48
        }
      ]
    },
    {
      "cell_type": "code",
      "source": [
        "minValue"
      ],
      "metadata": {
        "colab": {
          "base_uri": "https://localhost:8080/"
        },
        "id": "7EZAOteCo9yc",
        "outputId": "17f09c2f-fd2c-4987-8502-4221d76bc93a"
      },
      "execution_count": null,
      "outputs": [
        {
          "output_type": "execute_result",
          "data": {
            "text/plain": [
              "-24"
            ]
          },
          "metadata": {},
          "execution_count": 28
        }
      ]
    },
    {
      "cell_type": "markdown",
      "source": [
        "# 괄호의 값(2504번)\n",
        "\n",
        "## 문제\n",
        "4개의 기호 '(', ')', '[', ']' 를 이용해서 만들어지는 괄호열 중에서 올바른 괄호열이란 다음과 같이 정의된다.\n",
        "1. 한 쌍의 괄호로만 이루어진 '()'와 '[]'는 올바른 괄호열이다.\n",
        "2. 만일 x가 올바른 괄호열이면 '(x)'이나 '[x]'도 모두 올바른 괋호열이 된다.\n",
        "3. x와 y 모두 올바른 괄호열이라면 이들을 결합한 x,y도 올바른 괄호열이 된다.\n",
        "\n",
        "예를 들어, '(()[[]])'나 '(())[][]'는 올바른 괄호열이지만 '([)]'나 '(()()[]'은 모두 올바른 괄호열이 아니다. 우리는 어떤 올바른 괄호열 x에 대하여 그 괄호열의 값(괄호값)을 아래와 같이 정의하고 값(x)로 표시한다.\n",
        "1. '()'인 괄호열의 값은 2이다.\n",
        "2. '[]'인 괄호열의 값은 3이다.\n",
        "3. '(x)'의 괄호값은 2 * 값(x)으로 계산된다.\n",
        "4. '[x]'의 괄호값은 3 * 값(x)으로 계산된다.\n",
        "5. 올바른 괄호열 x와 y가 결합된 xy의 괄호값은 값(xy) = 값(x) + 값(y)로 계산된다.\n",
        "\n",
        "예를 들어 '(()[[]])([])'의 괄호값을 구해보자. '()[[]]'의 괄호값이 2 + 3 * 3 = 11이므로 '(()[[]])'의 괄호값은 2 * 11 = 22이다. 그리고 '([])'의 값은 2 * 3 = 6이므로, 전체 괄호열의 값은 22 + 6 = 28이다.\n",
        "\n",
        "여러분이 풀어야 할 문제는 주어진 괄호열을 읽고, 그 괄호값을 앞에서 정의한대로 계산하여 출력하는 것이다.\n",
        "\n",
        "## 입력\n",
        "첫째 줄에 괄호열을 나타내는 문자열(스트링)이 주어진다. 단 그 길이는 1이상, 30 이하이다.\n",
        "\n",
        "## 출력\n",
        "첫째 줄에 그 괄호열의 값을 나타내는 정수를 출력한다. 만일 입력이 올바르지 못한 괄호열이면 반드시 0을 출력해야 한다.\n"
      ],
      "metadata": {
        "id": "zov335ZA4eQF"
      }
    },
    {
      "cell_type": "code",
      "source": [
        "l = input()\n",
        "\n",
        "stack = list()\n",
        "answer = 0\n",
        "tmp = 1\n",
        "\n",
        "for i in range(len(l)) :\n",
        "  if l[i] == '(' :\n",
        "    stack.append('(')\n",
        "    tmp *= 2\n",
        "  elif l[i] == '[' :\n",
        "    stack.append('[')\n",
        "    tmp *= 3\n",
        "  elif l[i] == ')' :\n",
        "    if not stack or stack[-1] == '[' :\n",
        "      answer = 0\n",
        "      break\n",
        "    if l[i-1] == '(' : # 가장 안쪽 쌍에서만 answer에 더해준다.\n",
        "      answer += tmp\n",
        "    stack.pop()\n",
        "    tmp //= 2\n",
        "  elif l[i] == ']' :\n",
        "    if not stack or stack[-1] == '(' :\n",
        "      answer = 0\n",
        "      break\n",
        "    if l[i-1] == '[' : # 가장 안쪽 쌍에서만 answer에 더해준다.\n",
        "      answer += tmp\n",
        "    stack.pop()\n",
        "    tmp //= 3\n",
        "\n",
        "if stack :\n",
        "  print(0)\n",
        "else :\n",
        "  print(answer)"
      ],
      "metadata": {
        "colab": {
          "base_uri": "https://localhost:8080/"
        },
        "id": "K5iV1ZdU6b7s",
        "outputId": "7dd3bcea-6d20-43cb-c162-5d26aee1b87c"
      },
      "execution_count": null,
      "outputs": [
        {
          "output_type": "stream",
          "name": "stdout",
          "text": [
            "[][]((])\n",
            "0\n"
          ]
        }
      ]
    }
  ]
}