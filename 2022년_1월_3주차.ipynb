{
  "nbformat": 4,
  "nbformat_minor": 0,
  "metadata": {
    "colab": {
      "name": "2022년 1월 3주차",
      "provenance": [],
      "collapsed_sections": [
        "Z3B_VjLBqAfk"
      ],
      "authorship_tag": "ABX9TyP5eQF+rip41kAuzYyz43YE",
      "include_colab_link": true
    },
    "kernelspec": {
      "name": "python3",
      "display_name": "Python 3"
    },
    "language_info": {
      "name": "python"
    }
  },
  "cells": [
    {
      "cell_type": "markdown",
      "metadata": {
        "id": "view-in-github",
        "colab_type": "text"
      },
      "source": [
        "<a href=\"https://colab.research.google.com/github/aurora32s/python_study/blob/master/2022%EB%85%84_1%EC%9B%94_3%EC%A3%BC%EC%B0%A8.ipynb\" target=\"_parent\"><img src=\"https://colab.research.google.com/assets/colab-badge.svg\" alt=\"Open In Colab\"/></a>"
      ]
    },
    {
      "cell_type": "markdown",
      "source": [
        "# 연산자 끼워넣기(14888번)\n",
        "\n",
        "## 문제\n",
        "N개의 수로 이루어진 수열 A1, A2, ..., AN이 주어진다. 또, 수와 수 사이에 끼워넣을 수 있는 N-1개의 연산자가 주어진다. 연산자는 덧셈(+), 뺄셈(-), 곱셈(x), 나눗셈(÷)으로만 이루어져 있다.\n",
        "\n",
        "우리는 수와 수 사이에 연산자를 하나씩 넣어서, 수식을 하나 만들 수 있다. 이 떄, 주어진 수의 순서를 바꾸면 안된다.\n",
        "\n",
        "예를 들어, 6개의 수로 이루어진 수열이 1,2,3,4,5,6이고, 주어진 연산자가 뎃셈(+1) 2개, 뺄셈(-) 1개, 곱셈(x) 1개, 나눗셈(÷) 1개인 경우에는 총 60가지의 식을 만들 수 있다. 예를 들어, 아래와 같은 식을 만들 수 있다.\n",
        "- 1+2+3-4x5÷6\n",
        "- 1÷2+3+4-5x6\n",
        "- 1+2÷3x4-5+6\n",
        "- 1÷2x3-4+5+6\n",
        "\n",
        "식의 계산은 연산자 우선 순위를 무시하고 앞에서부터 진행해야 한다. 또 나눗셈은 정수 나눗셈으로 몫만 취한다. 음수를 양수로 나눌 때는 C++ 14의 기준을 따른다. 즉, 양수로 바꾼 뒤 몫을 취하고, 그 몫을 음수로 바꾼 것과 같다. 이에 따라서, 위의 식 4개의 결과를 계산해보면 아래와 같다.\n",
        "- 1+2+3-4x5÷6 = 1\n",
        "- 1÷2+3+4-5x6 = 12\n",
        "- 1+2÷3x4-5+6 = 5\n",
        "- 1÷2x3-4+5+6 = 7\n",
        "\n",
        "N개의 수와 N-1개의 연산자가 주어졌을 때, 만들 수 있는 식의 결과가 최대인 것과 최소인 것을 구하는 프로그램을 작성하시오.\n",
        "\n",
        "## 입력\n",
        "첫째 줄에 수의 개수 N(2<=N<=11)가 주어진다. 둘째 줄에는 A1, A2, ..., A이 주어진다. (1<=Ai<=100) 셌재 줄에는 합이 N-1인 4개의 정수가 주어진다. 차례대로 뎃셈(+1)의 개수, 뺄셈(-)의 개수, 곱셈(x)의 개수, 나눗셈(÷)의 개수이다.\n",
        "\n",
        "## 출력\n",
        "첫째 줄에 만들 수 있는 식의 결과의 최댓값을, 둘째 줄에는 최솟값을 출력한다. 연산자를 어떻게 끼워넣어도 항상 -10억보다 크거나 같고, 10억보다 작거나 같은 결과가 나오는 입력만 주어진다. 또한, 앞에서부터 계산했을 때, 중간에 계산되는 식의 결과도 항상 -10억보다 크거나 같고, 10억보다 작거나 같다."
      ],
      "metadata": {
        "id": "Z3B_VjLBqAfk"
      }
    },
    {
      "cell_type": "code",
      "source": [
        "n = int(input()) # 수의 개수\n",
        "numbers = list(map(int, input().split())) # n개의 수\n",
        "operator = list(map(int, input().split())) # 연산자의 개수\n",
        "\n",
        "maxValue = int(1e9) * -1 - 1 # 최대값\n",
        "minValue = int(1e9) + 1 # 최솟값\n",
        "\n",
        "def calculator (a, b, index) : # 피연산자, 연산자 index\n",
        "  if index == 0 : # 덧셈\n",
        "    return a+b\n",
        "  elif index == 1 : # 뺄셈\n",
        "    return a-b\n",
        "  elif index == 2 : # 곱셈\n",
        "    return a*b\n",
        "  else : # 나눗셈\n",
        "    result = 0\n",
        "    if a < 0 and b > 0 : result = (abs(a) // b) * -1\n",
        "    else : result = a//b\n",
        "    return result # 나눗셈(정수 나눗셈으로 몫만 취한다.)\n",
        "\n",
        "def solve(result, index) : # 지금까지 결과, 숫자 index\n",
        "  global maxValue, minValue\n",
        "  if index == n : # 모든 숫자 계산 완료\n",
        "    maxValue = max(maxValue, result)\n",
        "    minValue = min(minValue, result)\n",
        "    return\n",
        "  \n",
        "  for op in range(4) : # 각 연산자 중 개수가 1개 이상인 연산자만 계산 후 전달\n",
        "    if operator[op] > 0 :\n",
        "      operator[op] -= 1\n",
        "      solve(calculator(result, numbers[index], op), index + 1)\n",
        "      operator[op] += 1\n",
        "\n",
        "solve(numbers[0], 1)\n",
        "print(maxValue)\n",
        "print(minValue)"
      ],
      "metadata": {
        "colab": {
          "base_uri": "https://localhost:8080/"
        },
        "id": "1YK6OQQ5ohpD",
        "outputId": "f7282677-cc10-4e1d-bf22-d58bf41177c3"
      },
      "execution_count": null,
      "outputs": [
        {
          "output_type": "stream",
          "name": "stdout",
          "text": [
            "2\n",
            "5 6\n",
            "0 0 1 0\n",
            "30\n",
            "30\n"
          ]
        }
      ]
    },
    {
      "cell_type": "code",
      "source": [
        "maxValue"
      ],
      "metadata": {
        "colab": {
          "base_uri": "https://localhost:8080/"
        },
        "id": "hL7fHgDIo5Fy",
        "outputId": "62930e00-d887-4352-d572-f29204a66aa6"
      },
      "execution_count": null,
      "outputs": [
        {
          "output_type": "execute_result",
          "data": {
            "text/plain": [
              "54"
            ]
          },
          "metadata": {},
          "execution_count": 48
        }
      ]
    },
    {
      "cell_type": "code",
      "source": [
        "minValue"
      ],
      "metadata": {
        "colab": {
          "base_uri": "https://localhost:8080/"
        },
        "id": "7EZAOteCo9yc",
        "outputId": "17f09c2f-fd2c-4987-8502-4221d76bc93a"
      },
      "execution_count": null,
      "outputs": [
        {
          "output_type": "execute_result",
          "data": {
            "text/plain": [
              "-24"
            ]
          },
          "metadata": {},
          "execution_count": 28
        }
      ]
    },
    {
      "cell_type": "markdown",
      "source": [
        "# 괄호의 값(2504번)\n",
        "\n",
        "## 문제\n",
        "4개의 기호 '(', ')', '[', ']' 를 이용해서 만들어지는 괄호열 중에서 올바른 괄호열이란 다음과 같이 정의된다.\n",
        "1. 한 쌍의 괄호로만 이루어진 '()'와 '[]'는 올바른 괄호열이다.\n",
        "2. 만일 x가 올바른 괄호열이면 '(x)'이나 '[x]'도 모두 올바른 괋호열이 된다.\n",
        "3. x와 y 모두 올바른 괄호열이라면 이들을 결합한 x,y도 올바른 괄호열이 된다.\n",
        "\n",
        "예를 들어, '(()[[]])'나 '(())[][]'는 올바른 괄호열이지만 '([)]'나 '(()()[]'은 모두 올바른 괄호열이 아니다. 우리는 어떤 올바른 괄호열 x에 대하여 그 괄호열의 값(괄호값)을 아래와 같이 정의하고 값(x)로 표시한다.\n",
        "1. '()'인 괄호열의 값은 2이다.\n",
        "2. '[]'인 괄호열의 값은 3이다.\n",
        "3. '(x)'의 괄호값은 2 * 값(x)으로 계산된다.\n",
        "4. '[x]'의 괄호값은 3 * 값(x)으로 계산된다.\n",
        "5. 올바른 괄호열 x와 y가 결합된 xy의 괄호값은 값(xy) = 값(x) + 값(y)로 계산된다.\n",
        "\n",
        "예를 들어 '(()[[]])([])'의 괄호값을 구해보자. '()[[]]'의 괄호값이 2 + 3 * 3 = 11이므로 '(()[[]])'의 괄호값은 2 * 11 = 22이다. 그리고 '([])'의 값은 2 * 3 = 6이므로, 전체 괄호열의 값은 22 + 6 = 28이다.\n",
        "\n",
        "여러분이 풀어야 할 문제는 주어진 괄호열을 읽고, 그 괄호값을 앞에서 정의한대로 계산하여 출력하는 것이다.\n",
        "\n",
        "## 입력\n",
        "첫째 줄에 괄호열을 나타내는 문자열(스트링)이 주어진다. 단 그 길이는 1이상, 30 이하이다.\n",
        "\n",
        "## 출력\n",
        "첫째 줄에 그 괄호열의 값을 나타내는 정수를 출력한다. 만일 입력이 올바르지 못한 괄호열이면 반드시 0을 출력해야 한다.\n"
      ],
      "metadata": {
        "id": "zov335ZA4eQF"
      }
    },
    {
      "cell_type": "code",
      "source": [
        "l = input()\n",
        "\n",
        "stack = list()\n",
        "answer = 0\n",
        "tmp = 1\n",
        "\n",
        "for i in range(len(l)) :\n",
        "  if l[i] == '(' :\n",
        "    stack.append('(')\n",
        "    tmp *= 2\n",
        "  elif l[i] == '[' :\n",
        "    stack.append('[')\n",
        "    tmp *= 3\n",
        "  elif l[i] == ')' :\n",
        "    if not stack or stack[-1] == '[' :\n",
        "      answer = 0\n",
        "      break\n",
        "    if l[i-1] == '(' : # 가장 안쪽 쌍에서만 answer에 더해준다.\n",
        "      answer += tmp\n",
        "    stack.pop()\n",
        "    tmp //= 2\n",
        "  elif l[i] == ']' :\n",
        "    if not stack or stack[-1] == '(' :\n",
        "      answer = 0\n",
        "      break\n",
        "    if l[i-1] == '[' : # 가장 안쪽 쌍에서만 answer에 더해준다.\n",
        "      answer += tmp\n",
        "    stack.pop()\n",
        "    tmp //= 3\n",
        "\n",
        "if stack :\n",
        "  print(0)\n",
        "else :\n",
        "  print(answer)"
      ],
      "metadata": {
        "colab": {
          "base_uri": "https://localhost:8080/"
        },
        "id": "K5iV1ZdU6b7s",
        "outputId": "7dd3bcea-6d20-43cb-c162-5d26aee1b87c"
      },
      "execution_count": null,
      "outputs": [
        {
          "output_type": "stream",
          "name": "stdout",
          "text": [
            "[][]((])\n",
            "0\n"
          ]
        }
      ]
    },
    {
      "cell_type": "markdown",
      "source": [
        "# 빗물(14719번)\n",
        "\n",
        "## 문제\n",
        "2차원 세계에 블록이 쌓여있다. 비가 오면 블록 사이에 빗물이 고인다.\n",
        "\n",
        "![스크린샷 2022-01-19 오전 10.06.26.png](data:image/png;base64,iVBORw0KGgoAAAANSUhEUgAAAcwAAACOCAYAAAC8PDhVAAAMbGlDQ1BJQ0MgUHJvZmlsZQAASImVVwdYU8kWnluSkJDQAghICb0jUgNICaEFkF4EGyEJJJQYE4KKvSwquHYRxYquiii2lWYBsSuLYu+LBRVlXdTFhsqbkICu+8r3zvfNvX/OnPlPuTO59wCg+YErkeShWgDkiwukCeHBjDFp6QzSU4AAKtAFTIByeTIJKy4uGkAZvP9d3t2A1lCuOiu4/jn/X0WHL5DxAEDGQZzJl/HyIW4GAN/Ak0gLACAq9JZTCiQKPAdiXSkMEOLVCpytxLsUOFOJjw7YJCWwIb4MgBqVy5VmA6BxD+oZhbxsyKPxGWJXMV8kBkDTCeIAnpDLh1gRu1N+/iQFLofYDtpLIIbxAGbmd5zZf+PPHOLncrOHsDKvAVELEckkedxp/2dp/rfk58kHfdjAQRVKIxIU+cMa3sqdFKXAVIi7xZkxsYpaQ/xBxFfWHQCUIpRHJCvtUWOejA3rB/QhduVzQ6IgNoY4TJwXE63SZ2aJwjgQw92CThUVcJIgNoB4kUAWmqiy2SKdlKDyhdZmSdkslf4cVzrgV+HrgTw3maXifyMUcFT8mEaRMCkVYgrEVoWilBiINSB2keUmRqlsRhUJ2TGDNlJ5giJ+K4gTBOLwYCU/VpglDUtQ2ZfkywbzxbYIRZwYFT5YIEyKUNYHO8XjDsQPc8EuC8Ss5EEegWxM9GAufEFIqDJ37LlAnJyo4vkgKQhOUK7FKZK8OJU9biHIC1foLSD2kBUmqtbiKQVwcyr58SxJQVySMk68KIcbGaeMB18OogEbhAAGkMORCSaBHCBq667rhr+UM2GAC6QgGwiAs0ozuCJ1YEYMr4mgCPwBkQDIhtYFD8wKQCHUfxnSKq/OIGtgtnBgRS54CnE+iAJ58Ld8YJV4yFsKeAI1on9458LBg/HmwaGY//f6Qe03DQtqolUa+aBHhuagJTGUGEKMIIYR7XEjPAD3w6PhNQgON5yJ+wzm8c2e8JTQTnhEuE7oINyeKJon/SHK0aAD8oepapH5fS1wG8jpiQfj/pAdMuP6uBFwxj2gHxYeCD17Qi1bFbeiKowfuP+WwXdPQ2VHdiWj5GHkILLdjys1HDQ8h1gUtf6+PspYM4fqzR6a+dE/+7vq8+E96kdLbBF2CDuLncDOY0exOsDAmrB6rBU7psBDu+vJwO4a9JYwEE8u5BH9wx9X5VNRSZlrtWuX62flXIFgaoHi4LEnSaZJRdnCAgYLvh0EDI6Y5+LEcHN1cwNA8a5R/n29jR94hyD6rd90838HwL+pv7//yDddZBMAB7zh8W/4prNjAqCtDsC5Bp5cWqjU4YoLAf5LaMKTZghMgSWwg/m4AS/gB4JAKIgEsSAJpIEJsMpCuM+lYAqYAeaCYlAKloM1YD3YDLaBXWAvOAjqwFFwApwBF8FlcB3chbunE7wEPeAd6EMQhITQEDpiiJgh1ogj4oYwkQAkFIlGEpA0JAPJRsSIHJmBzEdKkZXIemQrUoUcQBqQE8h5pB25jTxEupA3yCcUQ6moLmqC2qAjUCbKQqPQJHQ8mo1ORovQBehStBytRPegtegJ9CJ6He1AX6K9GMDUMX3MHHPGmBgbi8XSsSxMis3CSrAyrBKrwRrhc76KdWDd2EeciNNxBu4Md3AEnozz8Mn4LHwJvh7fhdfip/Cr+EO8B/9KoBGMCY4EXwKHMIaQTZhCKCaUEXYQDhNOw7PUSXhHJBL1ibZEb3gW04g5xOnEJcSNxH3EZmI78TGxl0QiGZIcSf6kWBKXVEAqJq0j7SE1ka6QOkkf1NTVzNTc1MLU0tXEavPUytR2qx1Xu6L2TK2PrEW2JvuSY8l88jTyMvJ2ciP5ErmT3EfRpthS/ClJlBzKXEo5pYZymnKP8lZdXd1C3Uc9Xl2kPke9XH2/+jn1h+ofqTpUByqbOo4qpy6l7qQ2U29T39JoNBtaEC2dVkBbSquinaQ9oH3QoGu4aHA0+BqzNSo0ajWuaLzSJGtaa7I0J2gWaZZpHtK8pNmtRday0WJrcbVmaVVoNWjd1OrVpmuP1I7Vztdeor1b+7z2cx2Sjo1OqA5fZ4HONp2TOo/pGN2Szqbz6PPp2+mn6Z26RF1bXY5ujm6p7l7dNt0ePR09D70Uval6FXrH9Dr0MX0bfY5+nv4y/YP6N/Q/DTMZxhomGLZ4WM2wK8PeGww3CDIQGJQY7DO4bvDJkGEYaphruMKwzvC+EW7kYBRvNMVok9Fpo+7husP9hvOGlww/OPyOMWrsYJxgPN14m3Grca+JqUm4icRknclJk25TfdMg0xzT1abHTbvM6GYBZiKz1WZNZi8YegwWI49RzjjF6DE3No8wl5tvNW8z77OwtUi2mGexz+K+JcWSaZlludqyxbLHysxqtNUMq2qrO9Zka6a10Hqt9Vnr9za2Nqk2C23qbJ7bGthybItsq23v2dHsAu0m21XaXbMn2jPtc+032l92QB08HYQOFQ6XHFFHL0eR40bHdieCk4+T2KnS6aYz1ZnlXOhc7fzQRd8l2mWeS53LqxFWI9JHrBhxdsRXV0/XPNftrndH6oyMHDlvZOPIN24Objy3Crdr7jT3MPfZ7vXurz0cPQQemzxuedI9R3su9Gzx/OLl7SX1qvHq8rbyzvDe4H2TqcuMYy5hnvMh+AT7zPY56vPR18u3wPeg759+zn65frv9no+yHSUYtX3UY38Lf67/Vv+OAEZARsCWgI5A80BuYGXgoyDLIH7QjqBnLHtWDmsP61Wwa7A0+HDwe7Yveya7OQQLCQ8pCWkL1QlNDl0f+iDMIiw7rDqsJ9wzfHp4cwQhIipiRcRNjgmHx6ni9ER6R86MPBVFjUqMWh/1KNohWhrdOBodHTl61eh7MdYx4pi6WBDLiV0Vez/ONm5y3JF4YnxcfEX804SRCTMSzibSEycm7k58lxSctCzpbrJdsjy5JUUzZVxKVcr71JDUlakdY0aMmTnmYppRmiitPp2UnpK+I713bOjYNWM7x3mOKx53Y7zt+Knjz08wmpA34dhEzYnciYcyCBmpGbszPnNjuZXc3kxO5obMHh6bt5b3kh/EX83vEvgLVgqeZflnrcx6nu2fvSq7SxgoLBN2i9ii9aLXORE5m3Pe58bm7sztz0vN25evlp+R3yDWEeeKT00ynTR1UrvEUVIs6ZjsO3nN5B5plHSHDJGNl9UX6MKP+la5nfwn+cPCgMKKwg9TUqYcmqo9VTy1dZrDtMXTnhWFFf0yHZ/Om94yw3zG3BkPZ7Jmbp2FzMqc1TLbcvaC2Z1zwufsmkuZmzv3t3mu81bO+2t+6vzGBSYL5ix4/FP4T9XFGsXS4psL/RZuXoQvEi1qW+y+eN3iryX8kgulrqVlpZ+X8JZc+Hnkz+U/9y/NWtq2zGvZpuXE5eLlN1YErti1Untl0crHq0avql3NWF2y+q81E9ecL/Mo27yWsla+tqM8urx+ndW65es+rxeuv14RXLFvg/GGxRveb+RvvLIpaFPNZpPNpZs/bRFtubU1fGttpU1l2TbitsJtT7enbD/7C/OXqh1GO0p3fNkp3tmxK2HXqSrvqqrdxruXVaPV8uquPeP2XN4bsre+xrlm6z79faX7wX75/hcHMg7cOBh1sOUQ81DNr9a/bjhMP1xSi9ROq+2pE9Z11KfVtzdENrQ0+jUePuJyZOdR86MVx/SOLTtOOb7geH9TUVNvs6S5+0T2icctE1vunhxz8tqp+FNtp6NOnzsTdubkWdbZpnP+546e9z3fcIF5oe6i18XaVs/Ww795/na4zaut9pL3pfrLPpcb20e1H78SeOXE1ZCrZ65xrl28HnO9/UbyjVs3x93suMW/9fx23u3Xdwrv9N2dc49wr+S+1v2yB8YPKn+3/31fh1fHsYchD1sfJT66+5j3+OUT2ZPPnQue0p6WPTN7VvXc7fnRrrCuyy/Gvuh8KXnZ1138h/YfG17Zvfr1z6A/W3vG9HS+lr7uf7PkreHbnX95/NXSG9f74F3+u773JR8MP+z6yPx49lPqp2d9Uz6TPpd/sf/S+DXq673+/P5+CVfKHfgUwOBAs7IAeLMTAFoaAHTYt1HGKnvBAUGU/esAAv8JK/vFAfECoAZ+v8d3w6+bmwDs3w7bL8ivCXvVOBoAST4AdXcfGiqRZbm7KbmosE8hPOjvfwt7NtIqAL4s7+/vq+zv/7INBgt7x2axsgdVCBH2DFs4XzLzM8G/EWV/+l2OP96BIgIP8OP9X3gAkMQ4gZNqAAAAimVYSWZNTQAqAAAACAAEARoABQAAAAEAAAA+ARsABQAAAAEAAABGASgAAwAAAAEAAgAAh2kABAAAAAEAAABOAAAAAAAAAJAAAAABAAAAkAAAAAEAA5KGAAcAAAASAAAAeKACAAQAAAABAAABzKADAAQAAAABAAAAjgAAAABBU0NJSQAAAFNjcmVlbnNob3Qa/8JKAAAACXBIWXMAABYlAAAWJQFJUiTwAAAB1mlUWHRYTUw6Y29tLmFkb2JlLnhtcAAAAAAAPHg6eG1wbWV0YSB4bWxuczp4PSJhZG9iZTpuczptZXRhLyIgeDp4bXB0az0iWE1QIENvcmUgNi4wLjAiPgogICA8cmRmOlJERiB4bWxuczpyZGY9Imh0dHA6Ly93d3cudzMub3JnLzE5OTkvMDIvMjItcmRmLXN5bnRheC1ucyMiPgogICAgICA8cmRmOkRlc2NyaXB0aW9uIHJkZjphYm91dD0iIgogICAgICAgICAgICB4bWxuczpleGlmPSJodHRwOi8vbnMuYWRvYmUuY29tL2V4aWYvMS4wLyI+CiAgICAgICAgIDxleGlmOlBpeGVsWURpbWVuc2lvbj4xNDI8L2V4aWY6UGl4ZWxZRGltZW5zaW9uPgogICAgICAgICA8ZXhpZjpQaXhlbFhEaW1lbnNpb24+NDYwPC9leGlmOlBpeGVsWERpbWVuc2lvbj4KICAgICAgICAgPGV4aWY6VXNlckNvbW1lbnQ+U2NyZWVuc2hvdDwvZXhpZjpVc2VyQ29tbWVudD4KICAgICAgPC9yZGY6RGVzY3JpcHRpb24+CiAgIDwvcmRmOlJERj4KPC94OnhtcG1ldGE+ChOHi50AAAAcaURPVAAAAAIAAAAAAAAARwAAACgAAABHAAAARwAAZweiISz+AABAAElEQVR4Aey9ebBeR5UnmNolS160S7ZsSV5l2Ww2S/VMVE8MNjMBBT0RTZVtKGwa6o/GBmqiOqJiahrDTHVNzWATAQSGAgOmq/GCscxmA1XVM9UFmJ4YlsK7LNuSniXZ1i55k/T0JL1vfr9z8mSezHvv9763EDHV8670vjx51sy8mffcXO+MHq7QchE5w+OB6AFhOErNiBHldRIGStgLPUiZnKo0Bm+ghBscQEzbny5/q0fT9W+6/U0/f/zT1D0xDZRw+vk7pf7HHGajWP0TqfRlEmvwFzzFHcuUBtoQcIa1W522n5+IuQQT1CivRCFg5WphJFrUwsQ3Xf6N8pyuf9P1zzxy0bY00qgvBY81MAun25+UgBWHhf8Enz8zeqN4Mthre3VfGWUHdEasOCmfkc8HDVqFqKIiKrgWgkdN258u/+n6pw3Utwvf9gg3aBWiik63PyuzloLxqOnnz/Tzp3j+WA9TWlCj2RVVByx9PKsqsGoYNUHej6MaT+fbu7dHZh/3cFTUgjIZJeF32n7jtuEtqKP3UBeoj3t4uvylBFqKZLr+aaGk3+n2N93+KrfxT/n5M4MOE1fqRWqD5+Mg5lJqfqr+8pyw/GdsiREm/0NGOr+OIY5p+9Plb29x0/VPGgvay3T7k0eIPGTkR16fiSufNkoT3uIFWzHyK0WKn+nnjyuUDE4/fwd//orD1HqWK+UMqWAoUKuZuWw7oUKkiDRFGmQixOiMnBSKTdtvFl4HpijTItIUaJCny3+6/k23P3ngpKbAZjP9/Gk+PDowxTOliDQFGuRU6P/ff/7PwBQmB03cJamPcZe1iPZUMmm8g2haQe6hQea1sqalbercaKadIVLYYULRHcRp+1oCKJ7p8p+uf9Ptz5508XmBh4qvFamxJE9JPl7Tz5/p569WA/QwR1ErnGe3OiUVRX+sejnUuMBC3tVBr114CsZsogOdGcaACnlGeKV8KlV+C0Zl428HOjOMARXyjPCatq/lEEtXyqgoqEhG0IHODGNAhTwjvKbLX8thuvylMkgdKSpKLB4EHejMMAZUyDPCa7r+aTn8E6t/OiTLpBd3NebFAlskAp62OXxjawuz2ra3OSeRGR0ygtP20cDQwqbLf7r+oRqkZ22zpTQwuVlNt79mb9IVVy4oh4zg9PNn+vkTn78tQ7K+khBub5796pc436imXTxKI+h0wFJJp+1Pl/90/bOm5MPp9tfVMlBKLBy7WqvP9PNHSm/6+Ttu/5OGZKV+tbTCEpUrmjjCkmhVFKESjGxhYigQLuJA4y1RMWZIC405hUowsoUVOUYd1YHGW6JizJAWGnMKlWBkCytyjDqqA423RMWYIS005hQqwcgWVuQYdVQHGm+JijFDWmjMKVSCkS2syDHqqA403hIVY4a00JhTqAQjW1iRY9RRHWi8JSrGDGmhMadQCUa2sCLHqKM60HhLVIwZ0kJjTqESjGxhRY5RR3Wg8ZaoGDOkhcacQiUY2cKKHKOO6kDjLVExZkgLjTmFSjCyhRU5Rh3VgcZbomLMkBYacwqVYGQLK3KMOqoDjbdExZghLTTmFCrByBZW5Bh1VAcab4mKMUNaaMwpVIKRLazIMeqoDjTeEhVjhrTQmFOoBCNbWJFj1FEdaLwlCmMUadGPUSw0iZZQWboZm5Qak+MJMsDCFruGUpZuxialxuR4ggyw0Iy1hMrSzdik1JgcT5ABFrbYNZSydDM2KTUmxxNkgIVmrCVUlm7GJqXG5HiCDLCwxa6hlKWbsUmpMTmeIAMsNGMtobJ0MzYpNSbHE2SAhS12DaUs3YxNSo3J8QQZYKEZawmVpZuxSakxOZ4gAyxssWsoZelmbFJqTI4nyAALzVhLqCzdjE1KjcnxBBlgYYtdQylLN2OTUmNyPEEGWGjGWkJl6WZsUmpMjifIAAtb7BpKWboZm5Qak+MJMsBCM1aFeQ4zEUyCIS+OaQC2sVMjK9aNuBrBQso2r0QVIMUco+EY8pq2P13+qAvT9S81BWt01lK0nVjMQsXWv4kqQIo5NsMx5DXd/qbbH+rCdPuTphCPxrNGok2k7bfmGBk5EZ5/fmfYs2dvmDVrJprVTCjkwnVtaCxfLsDlhnTiRhGfQSRjcRJ9Bvd+jQIzEwsSepCnLOXAZ3qYFvKLVoSce50xg7zUBWEJQZUbmuUmap+WvH3bUE/7tChpFGjy9iX9yMLMWcxjd/691YnaP8V8neoF3rfRU4jxvkgWUKZV+UtZSomTQUo+xZgWvar8s0zivZa7gOjcOXPD7NmzQZnc/ae9rvJnVcJKb9hAHZzJehjTC/tTVf/MPgypLdQ/rYNTX/9YjFb/5syZE9avXx/OOussl38tff21UrHQ06hH2x8g/ONdiRfLDBGJi2i7vLEzbOcwrIVeYtr+dPn/l1f/pIdZVPcUSUDZCmLs0KHD4d5v3ROGj4+EpcuXhll4iMiOzhl4iNDhpdbJ1sbWicKDSu4HZFMlmRCvZCkiKMsmHpt0OHXyZNi3f38448wzw2kLFkA3nS4cjfABNt1iZ3L2T8LWwYMHwqLTF4XTTlsotlJaE4D0TYH9E7B14MCBcPoZZ4SFp52WCqTOfzKbgPHbH+2dCs9seTr87X/8u3Ds2LH28o83YyD74FUX3yz/mTNmhTVrzgn/4l/8D+GMM05HYpFwu0cTuP8p2wnI+T+Fl7K9+/eGM08/IyxYsBB2Jnf/WQRd+R+FY963d19YtGhRWLhw0W+l/pl92tqxY2d417veFa644gqiOy9rKayTkvYYJgFjSIgSKMgpkoCSuSVmnNP2p8v/v/T61xiS1cpvTUBbR4GLrWLvvn3hxz/6YXjDG94YLr744jBn7hx1iBBJzzUBsi6B8CPPT89njRClLW9ldJbsRUaBY8eOh6GhbWHl8hVh8eLF6JHNBp3vzPrgFHFE+CwWEeKJTAwEkrq+9ulMdu54Lixbthy2lsAW00QHz16Mpk/SNgX2R44jX889F1asWCG9CPaQ2vI/Ffb5IvB//f3fh4/d9NGwZ98eyYsUj5RM/PHlD3coZYl8yosQ8i/9N7n/uDcsbF4xgEKgtCezYP788Parrgqf/dxnw9mrV4Np8PIfb/7ZY96+fXtYsXJFWHLW4knf/372T508FbZu3RqWLlsWli1fJrliccgl+Z98/TP7IydOhgceeBBt68Lw5je/BbbkbsAAQj6VBr6iHPgFwo+1vzYVyp1lyFPgpu1Pl///j+tf5TBdQ0lgAqR9WWzf3r3hwR/+CI35yrDh0o1hHoaP4nOxpR2aVAupQDk+A/GmffTYcNiGB9WKlSvRm10WZnMME5e1XWE1/kKfRfoSjYkaw9Gjx8K2bdvCqpWrwpKlS2S42WfMa5qs/WPDx8LWZ7eGs88+W18E2GW2QkyGEiDp9LHx2D+BB/CP/+bH4aaP3Bhe3L0HZqgJVwwI0rqLEtWKEzyYaV+vKBmDBRgFuAoO84u3fTGsXbcWLGQkcazL8SUwASLsY7R/4sRI2PzUlrAGZUgn1n55qXYOxTq+BCYgcERg81Obw6oVK8NK1MXxlP948398+HjYdP+mcMklF4e3vOWtKdGjKMveqdHw8ksvhdeOHI29YWhnMmVoXUdv0o2Uh1scOsYtIJ+8AIFXrhgQplPW11BEiJdbFoEyEJIceQIeIfFn2j4LIRcbYvpyM/Xlz8o3Xf5avIPUv9MxAnXawtNkmoi3pf2KlZzEBCZARCqH6fi8jLCWP3v27kEP88fhiiuvDJddeil6mHNLhiqmZrNxgXI0cXsUYVaM4eHh8Mwzz4ZVq1aG5Xi7nzmLDlM5PX9S0gLU3BJvET5y9Cgc5tawetXqsBgO05xzU2WtscnhMTU348N44D0LW3SYS5agN8seJvDmWjzsdSlca2xyeMzxkZHwNz/+UbjpxpvC7j1wmLhoh1oywAiuRNBoQkR8g1zJJIf5RTjMtWtFSZ1aiSvSjDg+RbWQHa9Sh9FL3/LUU2HNuWvCsqVdDrNZWyZi/8TJE+GpJzdjRGBlWLV6JdKS+n0uXe2gpjbnaCz7x5Gv+zZtChsuuQQO8y1JaW8UzvLlV8J/+OZfh1deeTXMmzdfn8m4KeLAs4koQxfI8RFNrYySACYbfSZ7m+mKcfpY9qaPYrRl/rx5mIfG6FGDT/XaSwPrzETsj6BMjx47Gk5fdDqGuFH/oUdsMS1ImJrlL2PxknSOz/5RPEN4t+ajvGiA2vrlnwzkGa/9XRhGP3T4EMqC0npp+TO9Mc1AF/Yte7QJuM6/TUHxbYe65uFZyxdRThlNtvy77v9JvGCPnDgh93+mdFByfqRsYloma/8oOg3M3zzUM6mbLfnXuzAx+1zfwLwsxwvuH/z+ezGSt1huCrXJS6beYL1R8b4YSngSRYHkMNuIyqJvncWjAcz7MCT7wx89iB7mm8OGDRvDXAzJ5qtbW66GJU8Zc5qkh3kcPbGn0etbHZatWIb5UjhMyVWnFBRYtrMuhUzGwhJ7lA4TvdlVGEqkE+OCplzNo84kmoDKSBeebEZjb3YYQ3zPwmGeExYvWRxmwWE2r/byH2/+OXT5YzjMG2/8SNiL0QFtz8xPTo9VTMPmtDiMgKzalETJANAhW+rhNQNzifPCVVdfjR7ml+Awz1N0+q3tKcGwiS0B/fM/gheBzZvRwzznHNfD7NbWzO/g9tlLZw9z5XI6zFUQ7LLThacto1nYbp8OcxMcJnuYb0YP09rfyVMnw+4Xdoe77747/Hf//TvCatRTKX95clEX7wzco9yYCAvO7lhPh9YlHToLTRktZU0LOY/BwTz22GNh/fp1GGlZjroJpDzNGVI9ZTBNwZD4Cdp/+eWXwn/+z/93uPodV+PtX58hmlLYkYspY68NeZqE/aGh56CtJ45G1lswE9ArmWnJP6l6jc/+n/3Z/4x7cyd6f9Ag3oiFBU0GA9Q2Q+2W0zK0GDn0yphZs2eFteeuC1/72lcxsnfJpMu/K/8vv/IKFnU+jymBi8Ks2XMnXf6WVytNhiz/p5/egjUBp4fVZ6/GCxPzaZwC4sckJnb/T506gTUph8IPMRr6wQ/eEM7Fi3W2oPZoianJMWLson1x5UAgtLNkjZwlu1WQlw/dH/4IQ7LoYV6KHiYdpiqOmgpxRGJll3ZVpKxgdClXPN/UhvGm++yzz4aVq1ZhbhEOU3qYjlVMWsYmZ//oEQyTbnsWNxBDsouxmCnailqLoEz5+O3zzXor8kWHyeFfvmEPWv5MyHjsjxyHw/zbvwkf+dc34t6xhwlp3gcqabv60dr4E44Oc3646u0Ykv2S9TBhZIL3P6ltAZh0zgM/xR4mFhktxbxzqlok+sgU2D+BN+7Nm+Ew8ba6CnWxMIHYVNb/4yPDYdN998Nhlj1MzkXv3r073H///eFfvve94RyMTugF+3jg6Ep0lnfOv7hD5h9D/nj/lAd2vv+R0e63lFMPDvNo+M0/PhwuuOCCsGI5HCbaATn95UwAPTH7hw8dCj/5yU/Du9/z7jAHPVmtJ9AsY8d6A+02Tsb+M89slfxfcP6FGMmJmZUg5iKiJmv/4x/9eLjjjq8H3ie7TLV6SsMyj1JshijDDtosrDq/6MILwz333BMuf93rchWfYPnLiw61mL14/196+XDY8dzOcNlll+G+YM0IrsmUv04DNOvfk088IQ7zPLxY0y1Ntvzr+n8KOwIO7N8X7rrrnvD+D/whXqzXxPpvxR3vfyNa4RMdHkkvHmGQL6zSi5EMZWqvt2fPnt43vn5H75FHHukdPz7iSUnSkFkTMRoznPEY3uJmdXT0VO+1o0dg51GxiTdsY6lFEr7WbXFv2XBJKKbryJEjvUcffay3d9/e3smTp0C2lGTOBDWVCKlGW1zD/Ku2Hu3t37+/d8rnq7A6NfbhWHrf/d73eqtXrWRNwJ8MSERY2kILHHn4xDV+gZWf1dvrsvj8BQt67373u3vPPfdcUR455223zkpJSzfnOkNKcb8QwXB97+GHH5EyNEqpKduarH30ZnuPPPpIDw7LEmkmi3Aq7GN+u3fnnXf1fvnLXxTtCcPCvZ07d/Y+97nP9V7Y9Xxh1yJTYf8I2txDD/289+KLL/ROVHXT7BQJS8hc3oay9LSV/8GDB3tw/niGDBu7hPmuZ6hgYMQUV4QazfgzTz/d24K/0VF9ftQ8tbJsNUOVmVpEyDfeeGMPTs21JW1D1jYsTO0ptSFrSz5str/Zc2b30EHBM+rRVvtMRJ03i2vof32OjEtxGFaWdjUycryhL0mVIp1oY/OWDff444/3hoaGcF/4rM1XLvUMZWqETElF8GgMx/ZeePHF3mduvaW3A+3GSsfzqHiJyVYzRD68YEBF5C1ITl5B9wsQc5i9O+6gw3y4dxwPLbmcTEI0cErxv/3sj4KIxQ29R2GHTvoEnVihE5GswKsFTFqFaolm8dEendhjjz3aw6KmHrazCLeqcL+FTkSygko7aRXKRc1h7ttHh8nSd8wNUBHy62iax4go8DQERMRhiK/3PThM9IxcY25pnHzHi04xN25573NyaMjOcarTzLoWLDgtOsyhZN9luwHm4nMZaICKkF9HG4Zjefg3v1GH6fBqBIgGrmHe3T7H3ABHeydGTvQexovb7hf3OCW0EZmdzGTtDx8b7t11553OYapyrJ7t7dyxq/e5z3+uhyEzmPnt2D+KNvfzhx5ShxlfHJknSUWRz8nZp8PctIkOcwS6neIGqAj5dbRB8/80nCWdJnocemvcb759TnEDVIT8Olptnw4Tc76uraBdyIbz3D7q9uJfOgn3a390xpdu2Nh7FM8ovZCYnAGXK4KkVaiWaBbPzOj59x55+OEeXxIV634zW7QREQWehoBo4MoE0GFu3z4kWfht3H+22RfhMG+99VZ50Syta6wt/z7dmgX9FYfZpsQLRLWObbSHhSPaw8Qb93G8heTLZTsVVgJiAbp4FiyhyEKHScdCx0ybGOoAX7TRqmZy9tWJPSYOU3uYlixvbGrsm8OUHmb1hjVW+UtqfJIsmVY2jCf6qDyQxGGuXMVBl7JBMw4HmPHxzdZ6lW38bNhRTpync7LsYb6HPcwh7WG6hIz7/qds5cxIxiz/w+iZPIy6sf/A/sg6ufuf7KWyM8yoPDw4orJ794uamgYPeafG/nE4TO1h/jImQI1hWBgNf0fvs+hhPt/aw5wa+8fgMLWH+WJqc1YSKY9TkH/sedYeZvEMkWLM5gTyxsbf/p5++pne08/AYTrnXxkoo97cOOzfdONHpIeZ25Jra66NNJzmgO0PB4Ggh7kBIx1dPcypuf90mBy5ocPUyxfI+Ms/Fa6oybpSD7No3+DOLJOyz/by4gsvZIdZ2U/pqoEO+85hKofnS3ACTOuoDsl+Az1MFKoNp5CtZM0xgyw0TTlUiqcLjJ+jr2GYlA8q9Gq11+e4jCnadpQiNYa3MNs1SCmvsYeJyohFTXkoqiHkEAJqnL+OUsQMbyGtctiLw790mKNx2MvTE5wASvFyCAE1zl9HKWLDeCDRYWIeODpL6yWqc0zOr3KEnBVLjbto1N7BljBWyUoPc8dzQ0iDXpYuCw2fQ6V4eoITYNwZwZ7Yww9rD5PYTCFvjhlkoWnKoVI8PcERwKpBrYd4Y02X0JSBv5E1knPMIAuTfAKUYnS+CHzzrjt7v/rlrwqlJ+kwd+zQIVn2MEUgy5q8qs0xgyxMZhOgFKNjfr33s58/hN707t4p9GrLy7iAFTDLOooRRdTwFpo+LMgQhzkSh2Q9PcEJMCmHEFDj/HWUIrYFzpK9zJMtPUzVmnU0rJRKC711/j8iPUwdkjWnaWFqR/ICOrH2h/lE9DA35B6mpC2nvUxqjhlkoeUxh0ox+uHDh3u/wYsoe2hVofbNv8mr3hwzyEKz+/jjT/SGhoZgQ3v+np7gBJiUQwiocf46isToMHdjWuGW2MMs6aaPYdZh2MSbABuSbXBEhPVVk7oMcHhUh2TpMNHDdEpFujVuyBiWQYsOvMnEHubDcJi0yTHp1stUG7E1bsjSsGGZB+v10WHy4WSX5zFcESaGiG2NG1LDI3gRkOFfmcMEzsimuE/5G0sKG7KJIsDx4RE4zO82hmRt+GewORX3tiyN3sc53a7OVYZkf49zmDtyIiR9lsgYlsGE8q9zmOhh7juQbREyU4aVuCFLw4ZtyiSKkGQOEy+IL9ocpunutOcYRJXpi2EZFGlmvu785jcxJKs9TJPkA4xzMZzD1CHZaMMYzGRr3JAxLIPCPlaL9x762c9kOIujOiaZATM0OfsHD2FIVuYw0ZNJRkxnRiQoAeOz//QW9DCf3hKHZKOSMpgS++WQrHvZ9C+eru2Mt/3NnuXmMH0R1OXSGjdkmXHD+vKnw+RUh/Uw23i8eS8r+CQQuSRuyBgieOIJDMkODemockQnvVPw/JMeJodkb/mMjMyo7mioDAa6/7mH6RKXEgzA8mCh0WTRzx3fkEU/2AsX0TWXcUc9DbJDdNg/BTx7YuYwbV4xa85p9JCnExZLzpzSHSLaPyqLfh7Foh84TPegcJy16lRG47V/5MhrqYfZlq+Ubkt/w7IictoyVLPyHn3vu/3mMNX5tb4Nx6GkPGyrDwJzkOWbc+jRYcqQbFz0w7RIyhrJc4iO+28cFjbyBcfym9jDHG/5F/wD2B85MSI9zNph5rRlqE6nUBpkh6jsDw8fx5Dsnb1fVA6TL3HmMF+QOUyfC6evSsB47eMADwzJPiQLJrjQrlvz5OynRT+2DqIt3cBN1j4X/Dy9pZ7DdFqr8rdkGIeFhvdhpo32brzpIzKHWbQjaz/OUdZtxuKFnPGbPELpYV6KOUwOycbL2zdcHQpPZmxIpnnQSDlEh4k5TOzfFkxD1BnItAw5cpZvkEd71sPE+da1SJYD1BB13JmWISOLw8QUivQwd3DRj78c/4D3PzvMDj2CdnqNDYeuo4f5dVk1OOJWybawmkgOweRG2jPeIKdEephxSJYLjXQOs4UxopyoMTXDPvaPyAIjDMnup8OMN7FTaZPQxDTN8+4z/1xYwYrfmMOsldTxpLJJaGKUmfPMxaIfNL7C4VmjtDfhFHeOtMDFt2enx/TZkOxzO2wOMyVYASRy0PsvAl2ZghaZw0TDZhny6mQVavyZoH06TJvDVE1Na02MNzy4feaLDlN6mE4pHwCcw/zc5z7f27VrV0O5Y23QEgJMY5U/h2TpMLlgonNUp6W0x2s/OUw/h1krqeM+IwlWoIuV85cckj3FoT8wjZX/Qm2X0pb8+yHZfgvj9OXT9UBT28rtypwoQ3Gk4NEeJoZkMZXTVts7k+ozNED+D7+kDlN6mJ1Km4QmxhuOsLPfOodZK6njSWWTUGNSD9Mv+gHTRO9/6TBFUUoNtNbmM20vh2TdthLlrPgtKiF/YjIj3shJKxAFDvaZBF30gyHZ3XCYfom7Y1bQIajUohLyZ2z7nMOkE+OQ7Ck3JJvS6AHTn0w5BPksKiF/SvvcLqMOcx+G8EHX/5TUq0/5C4Pojaw1gnGjI+Q88/e+/904h9lslObsGo3UHGj1tlu+CeeGT/yC0+K2Elv0I+ngT5l/S54kPaa3wA2QfxmS/c3DeMGhwyykc1TQ/JmcfRmS7dhWopanzj7zdZcMyWIO0122reTz1aKfqbbPIdmfy5Ds7uol1SXGZXei9nXRz6aevHRDiVOJSBFzhiPoyAo6BFksipDDsU8/s0XnMCPeyEkxEAVuAvZv4hwmtn5YOyraSR+nOGj7s20lXGfhE6vpLlKf6YLmz+D1n0Oyj8iQbJ6WSuVkgDOnoEOQx6IS8qdp3xym8ILFRMTEBMpf5OwHyjgi8+ILXCV7S2/nrh2qPxopbFEGiALXYl8dZsGl1kqUi0WwMYdpiRxPaGotdLKGkh7m0df0zZ49zK45TCc7MJiMZAmbw7QhWaUYI2IOzFITgziHKQ4T82/y5uvUlGZczIGOfUyQ+zC/973vYw5T92EWDZlOMTVmPy8ZYaNZSOfp4ehMTWfqYboh2dYEWl4sdEwlysUcSHZxmK6H6VSMDZouC51EidKY9DAxh5n2YTr+CYFmxEKnBCft5B6mq3Scw7R9mMUcppMdGDS7FjpBHBGZe5in3EOzhdeJjQ+ELulhbvpOtdK+bmbOqAPHY4xbSrhStthWYrosdApLlIs50LEnUOcwzWGWL5J+nYC1FXWsg7e/NIeZtpUk0+MHLC8WOg02JKtzmI7BgY59YiB0icPc/hxqeKm4M1YSxrRLh6n7MLmtpBqRMV0WOm0lKsfKHmYSyAxdqD17duuin4cfxduh23ScRBOQiiJj6gaRrEQgc9qin0fxoOIwcDkkC3ZhzfzJWAYS5LgSrrasc5iPSA+zsOWFvdAk7JtzZu+oHMNvMdaCkmQMaJ8Ls3hwQdqHWTk8a8B1WL4p6wPAeKyxl/HQ020lv9fDl1hyEgH5LHjYF6fCLdQWFHmHjx3HSu24D5OIxJeAhMoYx0aZxuU5IxEoHC8oL257/KIfYXX8CUzAhOxzb3MakmUSojoOMe2SRT+f1UU/gs+2jC8JZNFMcjiqbl6jvWPeYXIrlzNR8E/SvuzDxKIfvtDlq8VYC0r4B7TP4VjOY5rD7FKnaWihtqDa7N/4ET24oG4T1o5SOMH2x20lG+3gAiZgwPwnVkl09+1U8mhPFv3EfZiCGzD/uZ5kAYMs9GnJPcw2akysF3AoAUXMySZQAbaXF+K2Ej24QBUktlpfVlpSogAcJny7k3ZgEjCchSRwTyRXyXIjt00MJ4EC8FIeNqYx7EOEBxfICStcJSv7MPMNb9NomjX0HB42rtL+a3hQpCHZPrZMk4WmrRl6Dg/bilw65+wwS44yB55msIVNu4ZRDjm4AEOyyWHaEGvVO/SbrNnodahojDfgatiWPczfwz7MHbJK1qfQwzl9E6l/punY8HHZL7Yfc87tl3GS6mHjLu9/O4fysp7rHObupKmN3zRr6Dk8bFzt9mVIFnOY3FZiUgx1DnOn7sPEoh+jmbZm6Dk8bJzt9mVIFnOY3FYih4WA3UsbbKFpa4aew8PKySFZHlxgDrPJke16msEWNu0aRjnoMJ/BkKw5TKNS+2TqX23f9zAbw6yVk0zOU9qZjeaUvdK6/ek+zEt1HyYyUdvP+TLIc3g409vyL0OycJgc0TApCylpsIWmrRl6Dg8r5+OPP9bbvn0ICpXW5Gi3ZXwWqrbmL75mlA8uwJBs8xrf/Xc9zGhaAp8Mj6c5jeM80rStxCp7MzFNTNIMIMHCFmMSZAo+fKz7FdnD3M0ephseaqofE5M0A0iws6/DpLGHKfOlkSsxJ2BMW20MSRqA7Pl87LHeAfQw09F4wpC4oCLCCZWANvWdOJ6kYvsw/dsvl7X7uG/EMuzKRp54cg8zL4ev5Wdglex8PemnZdFPSj2ABEuqY0wCT/F4MnqaG5LFS8cgV5IGkGARjDEJPCXjtYeJE6d8D3MQo44naQaQ4Bb7dJh3Yh/mL3/1C5WOzHwAsIf5+XTSj1M+AJhsjmFftpVgH+aLu1/QdQNecAA7XSxeDeFD2FbyHX80njAkLnBEOKES0GWiFS8HF8Bppn2YUFNqijEJPMXjqdrTmqZuvPEmrJKdpXOY5iAlLB2htbPxtj/qZg+T29EmcqXUA0iwKIoxCWIPE/swR07Enn9iTsBEzGebUENNTzzxBA44GYK/9AssvY0IJ1QCBrIvi36wSla3lexs2M9KvB1vw+PjPswslCEvIlggPG43nNcdd9i2Ei49dlQDJYQHz2oj1MTULMbhh2R347g6W/TTfCsyCZcUQY3P/lEsxHmMZ8nu1W0lKV3Q5SzYC5GQFe+oBkrYbV+HZPXggvrN11RMlf3iaLzkAPlWmxsyG3HuVcY3Xt8D5RFf9hCo5RIei37mY9HPe94TT/rpzn/KWwswaP7pWH6DN+EDB1wP04THKP8WswllKjziOIZ37CzZ31b9M3vlHCawSBDTZIt+PvvZz6d9mJpWl2IDJZxY+RdzmHFI1tQyjVOV/7RKthiSLdsa7Vn+BWbUJUbBBiIq0fyzhymrZGX7guM1hVXY4ADC47rsSw8TeyX9SI05xxROov3Zop9HHuEqWb00XS51Bko4sft/6JBbJUsz0GVqJeoiCjYQRflrSu0386ZtJb5A1ZwxawiRLAXYRRRsIESAL5icwyyPxnO8pZUUa3AAQVzqYTaK1acoqcnAbsxhfgMn/fAEHjm4IJMAmTkLI9GiFiY+SiSkMkf7xIpjkYML8oq9Bn80EYVjrNZZozPd9MnpO3h7w9dY0lmyheqkIss26UazMAkpENG6DxPbStA7sheBpGuM8rf0Jv4CMLsWYv4ND6Tvcx/majvpp3SIqTHTQUbnJz1P5wgLHjrXDhp7mO95NxymO+lHkmfJsdDd80Z+Bsw/5/q4X8y2lWgxmAELY+FY1MJx2pdVsjxxCj3MRnrHKP/x5h9f6NGzZH9lR+OpgTwk+1nMzbQfvj4V7Y9z+XKWLN7ObRrEZ3Gq8q+Lfu6X7UFef/FELAgaGa99Lvp5Zgu3leDmT/D++2R02dchWfYw215Ec9uq21IR79P+8pDsIz45FWwZtDCSLWphLohGfT6Eo/HkLFm8JLZdXflXXjNgYbd9m8OsFz1O1f2XHiYc5mewrQTfKi2T1yf/XfbxuZ9mcXgUe3h2ZSh+rQQOU79W0nKivWeGgioqKgXXQvAo9rzYePXNvmXRT0ycl8nKIxFBg264ikDnzHMa5aQfbtjuyH/WrFClpmGwQYeYbGHBHLAejZc5MgQ1U2RfDi5oOenHGmpjvqXVcepDwIZwa4dpeNlWgpN+drghWZ8nKzvBtRA8aqz82ypZ3VZimhF6Jc2oMI7X/vG46IfzevVVmZu0fRuS/cUv4pBszIM4TDR8+VqJc5hTbd+GZLlgwg7VaNhwhdCgVYgqKpLEHTygXyvp2ss91v23JDT0Vwg5uABO04/kCEvFR30eNV774jDjtpLcPkrnaW3Oh4O2P1n0syF+rcQyX6VZ0D4TbXTDVXyUJUoW/WBI1neGWljJLleDViGqaJJ5/DH9WokvdM873vKPyUk3UR3m7ng0XjmHKXa8sSjsUbX91MNUXs9KjI97mA4Tq2TTPszmCjflxm8pFs20IWt7GmeC2evj4evcyqKHJ6uaVt0ROVH7dJgckhWHWcyXtqS5BWUZHsS+2uIhCZjDlDH8WqGPe3j8+deDC76Pz3vFHmbdO3TxRuOtaOYYfYMnbHK26Ed6mC3J7np7s7KLuUPghT2c828Ok710vZQv/baITdQ+e5iP8mslNofZpnuS9S9mQrbL3HlnPhrPyoLbqnRbCVbJdhy+Th2Tzb84zIfi0Xh+Lt8SmI14jLescFsZuZdAWyWrH3ComX3cw9FkC8rlvLCvBxc8o6vRnf2oqUOhN+DhDnag8YF2zGHathIdxRHHKW1IvtZYzm/yxdS9nPp2lNqXa3/4ZmheJduSpK78F/kcIP+6SjYfjWd6Sz1FLEY0Uem3LY3O/hP2eS+psTWzj3u4MFUlQvnsl4uW+LEEHZKN20qc/VK4tuHjCovD9F5UC8YxCqhx/hqFzuvrMiTr30KMWiZDy6KDRp1FBrwVELGh/4jsw8SDCjZPxJWrtKAavV4PkyNeorKDBhZvX4ZJH8OiHzvpR8RUVtSYTsoJrL+K9nDFWORRaTLUjOFfOue8raSyIipVb0UZl30OXcpJPxiSVYcX33pjY2zgfAOPcKMBA++dp8F2cMEO24cpCdc8uFJJoC9/LVXHK6DG+esoAh/n573SkKynJvVRZQeNOot7U1kRMZXlKlke0bh7jx6+rlj9VWsenpx9PekH38P8BYdksyUeAM8N2Oxh7pKj8bxND0/Ovp70g+9hYtP3ybgPk9q9BYWbGGdZQRH0fJlDV8ny4AJ76RbmzCBiKltRXKkYu/JZLIVAP70FBxewh2mLSxJx8Ps/iH1/cEHRppxjLPDjbH/yea+N2sPU3Po8e9hnEHBRxx1NSF6OMBb9yEk/j/ROyCluSldKls1YwynGYikUwXba4zxLdvt2lz5hTqJ6k1W2ogx0/0/gBVMOLrgFBxdgsVzbNWj7p33tYUp6cqIkJRpt0y84rli9Q4ZkuQ9Tv5mWRAikSFNFgyy8KpBAjcrDTOYV8WZPJ902n0ILZI8iVWR89vXbm3Bi9aKfppoCMxH7uucTi37QOzrlP2xbKCvMdEYKkSKiIsWin9h42xpuPfdib7/We9Q3YL4Vw+Emp1oOOS2Yj+9hYkh2aMdQa3obySMi3r0ECtAqXiCHh7kPky842JpjFAIpYsgcNsjCqwIJ1GgWAnQibivZgzfW+iJ7EikiNWdL9RRBlTaQ+0uLfZhRDYeYdvFoPC76qYZkVUNMSIpMzP7RI3qWrByN50/XaqoTDM0lk0WkKeDJ8rUSfg9zRPdyiw7P0BRvxRQiRUTZ/aKfBpmImPoECtBqqhVpOnXRT/weZnSGtiYgvXBOov3JkCw+76VH4+WkmH3BFJHMY1CDTESV/8P1oh8T7ggLnUWkKeDJsuhn+xCs6yrZlBQBmrJdGK9TshLlZUg29TDVYRa8VCi8KpBAjTbMhSbeYwjHeBmI89J9mPnzXsbasALZcpI4KquwKmc0xiCFN0KZV5SDC9DDxJymv5Q7ynjRimlQ++zN6j5M28JS6q5NaLzk8aYFBrnN/lEcvs75Uj1L1jRbSEnCMV4GotY4ap5ENACyw3ggpbNk2ZDxZz1CdYplj7Nu3CmOlbKFnL05u5BDsjx83Q4uYBba8l9jNbkxoxIhHONlYDnrcTWpfd7LWBPRAMhOhX0OyT6M++W3lWiyOhI3CfsyhylDsuW2khGMsOjBBfq1kt+W/Twki20lcZUssxNzajmL8Ynn/0Ccw8x7ub0FwqVuT83pKXlS4gwAeQv2YOYPSJuWslYou9FMe6nbU43Dp1EX/cQhWXOYbBu+vU2i/c2a44ZkkQBNT5lGzYf7BbnMqeWixKqE0g4f5vcwOSRbbisxSdOu8YitiY6ptGSMo73H0pCsYzZQclfqNklj0XjJYzSG4jAxSnILj8ZLPUzTUqZK5YzGGOFSN3qYipDfSFPB/NuGZm/vG3dg0Q8/IJ2GU7KMhwp5RhqIiCrwqoEo7fU9gpWr3T1Mb6+GC7WMNBDZvvb6dJh0kMUOta22eMNcREjPGeVHhyn7wwrGrKkDnRnGgChvPczV+IB0ay+yeOvVHqQ4xvi1eMJ5EQPp8S8+FLwTrY/GK9LPSAORy78tKwV7xWCHr3Mva9dVyE/CPpeo28EFXbba8BOxz56z9DB/lQ8uoG4+APLReNVRX23GgZuIfftaCb/MYgcXdKgfE93P/oH4AWn54lHBmNV2oDPDGBDlrYc5yg8qFAo1Ir8FPivtQGcGBxUOk23G2kkMNV6OyKS2VPDHF9Oq/dkqWb7UD3oV6WekgWi2v3TSD+pbwT6oUcdXyFf2eXDB0NAQRthAKBizgg50ZugD2dF4aVsJlRUKNSK/BT4r9WgdkiXNYzOvQjb+DR5j06+V5FWytYjFjZ+SGTaqC7uIsH3kNT1Lloev+zlMJ90JZrWD2Zd5RVsla/OlLfnvNFgR+tk3W3JwgX0ZpZKX6BTY5+Hr3/2+OxrPNeS6Ubc3YOckRbZu9Dk+3w5fxxxmv/wXWc2MBXqs/LMnxn2Y+/dX38OMWrLawe5/0zgwsfw59SBzmLbop5W5RE7UPvP1TTnpB3OY7v7LHCbelPm1kkHOkp2offYwfyYn/fBrJXFrAZRlfWU+u2KZv738uehHDi7AC0Ln5fKf9XVyFwTjf/rpLehllqtkWxkLZIyMwz4d5ix3+Lq2pf6jN+NpfzKHKUfj5X2YbUk2nOV/vM9fOky2K05D+PqX9ZmF/mHmb7//3FYiBxfw4xNd1zjKv1bB9vIiVrXfijnMHbva5zBFpo95n/8Z5MMNa16Y38QwAq5Wati7b2/44YM/DG984xvDxRdfHObMmZN1sP+BC/Ne0pnheAQ7IkRTW4/1J757MRA+UpWdonTkEmeAh0fYvm1bWLV6dViyZGmYPWtmGAUPdYk+CvgLMrwmYn/46LGwlbZWrgxLli4JM2fOirrES0StvSmxP3xsODyz9dlwNvK1ePHiMGMmUhzTbvnXHPp8almON/8nT4yEv/27vwt/8id/Evbt3xvLH/cE3UYpp1j+Kajuvy9nwmZfCsd+mHYQ582dF97+9reHz332c2HNuedApaY5ksd1/8fKPxp0eGrLlnDOOeeEpUuXakomcf/7lT9e1sJTTz0ldWPZihXMqvxFc1YKVlEk17yhE8k/RgTCd777nXDppRvDW9/61qQbn5wLmEMNm75zf7jmD66RfCeiAT5BTGTjincCgba/BkPAWbLhH3/zj+GCCy4MK5DXWbO0HRhn1GDRMhyH/YOHD4Wf/MM/hPe85z1h7ty5WU9V/zJBofHaf/aZZ1i1w0UXXijtTO4cEF35xwMoVr3WAhRdbZSbbropfO2rXwvYVw1r5NCU2vNPUm9oifAnIsogUR1HQA8zXHzRReGee+8Nb3j96wueFKFJu6izcWmamLSu/L90+HDA5/nCZZddXj7bo66ooaFZEOOw//iTT4TTFy0Ka9euxVkPLrETLP/aPk5Qw/Nuf7j7rrvCtdddF84991ywjJ3/rvs/g28esWYkPb4UyoLJhljRH/zBAwErIgPOJy0aFEcR6Ib5qJiJypAfroqTwYaZTDdN4493jZcDmaaZoDF1eMMNBw8dgp2V4YxFZ8CJQThWLglVOv1m+wH2/cM9CtFeh/3hkeMBny4LZy1eEs44fSHsMAd28dE3E8lmuoFD4IjGJId8aP7728fKwPDCi8/DwcwPGMaEKpRPMpbznxRLeap94UM6ikoWGXP+c/njLSk8+eTmcPfdd4WXX3qlM//Uq0lAamL556wOlv+5c2eHyy9/ffhXH/pQWLFsWXH/003uKP9cnqV9zVrTPk6+CdgriBcp3K8zzhC2nP/+5d9W//rZp60Xn38xnHnmmagfZ036/vezj2FQOJK/D7/zz/6r8M9+53fine2FUydHAxbihPvhTP/g938/rFmzJtJ8oBXTqqeFiaNAuIgDj+Fl7je/+XVYf/4FYWVymJHB+CxMig1QgpEtNKpvN4cOHwz/8J9+og5zDhxmqv/KXcrGmCEtTIoNUIKRGdJhUvmFF16A50p8fgi7cSHiQCE1UJHB+Cw0ZoR0mF//+lfDiROnBGttR1kshlBAKDCU02G8Wo9LAraVIA8Xhnu/fW94/evgMCnfuDRhljwLE1uBcBEHHn7p5bBzx1C4dONlYW7qDEUG47MwKTZACUa20Ki+nJ948vGwaOHp6jCZmSo/pWyMGdLCpNgAJfB3FC+5e6PDvO6698Fhor0Uci7iwFJTjuUepjFbaDwtIVkOHzoYvnDbbeG79383YAgClTDnVFRYlJEyhUWcjoUVQ1i8dwOKKnuo3LPhIP/5f/PPwwc/+MGw6PTTxTnT9ZJhxigcMuTNXLJmiMI+7YBAeyJBxw6H6OwPHx0OL+INXh7AsDVjFvIGW5QQVTSAayrsYxFJ+MUvfhW+9rXbwysvv4KkwYK9XQBk/kdhyezTrqVhvPbn4GHEXuyOHTvCq6/CYcYSG6v8a/uWBm9f0k1CvObOmxfe/OYrw5/+6Z+iN7YKWKaaNwThGOXfL/+Wd5ox+yeOnwg7du4Iy5cvF0dGmlib4P3vZx/zh1J+i+Gcly5ZLDdoquuf2Wfd+I8YEXjTlW8Ob3vrW5gtubAAJ2B7Vbh/033hvXCYq1euRn5jyVgRo3SkTlNCSFIiqkB+c5wtR8qSKNf+OKqDk17COjjMFei5z8Cojl0qjV+2P9zPydh/6fDL4Wc/+0l45zvfGebMg8O0+g9jmh2mj9mgVb0mYn/7tu2S3vPPP1/alWqn3vb809JE7P+bP/k34d//9V8HLFbMiZW0U5tdmgPGxtv+2MNct359+A9//e/Dxssum3T5d+Wfz6Ndu3aGSzZcGubA5mTL38pbSyDnf/PmLWi3p2OU7WzUMZTRFN9/7NsPBw7sD/fe++3w/vfTYZ7HUsef3o8EGWChJrTxix4mu0v+MglDa7XRBx34IvnQwYPh3958c7j9K7fDNpDG7lV1wOIIPX80QXYHJum5c+eE6z9wQ8BKp3DWmYvDrNnaeGNSIp/FLEziBZCoAqRY4jl29AiGZLdLb5ZOcxYcpmROHvQKxrK2ooiypsvCpLIAEhUADjYOD2JY+6Mf+2jANhY0HnX85Ol7oZBykReRTjH2YNejoWHvXngNDrO4667QHdipi/nvZ5+2rrrqqvDF274Y1q5bW+jx+RclVpiJyzisFGKKOsof84phy9NPhXPOPjssW7YcWkw+KSyARBUgxRyP4RjyyvbZw9z8JIZkV68MKzFkb5zKZzELFVv/JqoAKebYFIc557Bp06ZwySUbwlve8mZki4UepId54OD+gHm/cDmG5JYtXRZvhunSUN0AYX+pc8PIP074Ap43UW4mgsiqHDMCVkeGbdu3h5V4ETnjTIzqBAzJSlHgZybqKfj12Ya4VIaoK5bKoPZfe+1I2LzlqXDFG98kw41mPyVI0kdjtMN0Tsw+Fi9hZGq23LtZKICx8j9R+1/72lfDT37y04AThZDY5sVSGqT8C/ss03j/Z2GKaMWqFeGPP/bxcC6HMa18pEFLAcECsVqSZQoUN4h97EeHozmAEYxz9Xk7yfLXdDTtP//8C2EuXpSWo+1ytEw5LB+UAiyVjSGi47z/vA845i/8/Oc/Dx/+8IfDORiRoRqtplZnibDLcAx5idFU/jM4i58ajnK0/poaI2L/VLj55n8bvkKHaZe8caoh5is3QrWncSMgFBDmEfJNSwQkiDAYSOP86Aeuvz5g4jacddZZbvjXUmWhJURDcUBUAMOwIuaEAvZY/8Skzz82bIdtW81hLoWtNudsdsyuhYbXcCz77LE88P0fhI//8UfD3r0HUAZ4BFX51wSWejVmZeRofcp/HobOz1+3PrCCvvLKyxCCvKjoX/4TsU+H+farrwq3feG2sG7dOtgavPxdbgqwo4QDvsKCecXNYc0554Zly+E83DVW+TP7UifNcTjZGqR9Tg1s3rxZnCWnIaKwC0upydjnHKY6zEvgMN+iyYR6PgCwUCb88R//j+GXv/x/4GS4diCWTnX/OdtiD6FRoTF9yDWavMxdswDIAwfIkRbRQxwaxxyMGl2IubL/+j3/Osw/fVluL2ZLKo+6TJGTBqUPPGgQ/tI+LEsb9/Z74eTR18KJw8+G+SvfgB4GnTLyInzMU75iDoEwSBKPuCRYZZhHoXv7nFKZEQ7tfir8p+98NezZgxdTTE+Mlf9sR9NhVnOKKvtMB+yvxosUR3FG8HJV5h+pEFXgG6D8u+xzLpnz9bfccivWjlw4QP61TMTfxfJnvWRaZRSCj5zq/vNZzJdq7IQI7JHTZs6/QVX+qbu1/Pvb345n7WkL56NNoYdJlVI8KpPLOpdGhgazj0MJZDT0wR//KFz/h9frHCayIMmlAcmO5clbLGHjkB6mRYQlRRJQSsYY9k+FT33y5vDloofJTFCuvDT7dFmZ6uGSW8osaWGD5xg6Hab2ML3DVElLaawHrI9a+KbYGCxehZ589Agc5rateBNdJQuM6sUOlahETd7sWph4jSEhFOCw2wMPPIAe5sfC/n3awySlLpsUT4DKaxS/8pBpkzS+GWH+gvniMHe98Dwc5isNG8pp/Pk+FVoHtD9//oJwNRzmF7+IHibegl1r82YSXBRPiiQg8bUBdJibt2wO556zBot+lsl9H7T8TV9hKUUSYGyBi342P/mkc5hKMk6za2ESNIaEKIGCHCPaw7wfPUx1mCZBh8k3/2uvvTbgcHQULVwE7r9UAXkK4AmIUB4+UUiGTY2H9xCXv5W1fcrOmz8vvOlNV4R3ffgvwmmLMewrTCAIoIH0VBr2wYj/aj9akXTFNBLl7I+OvBaO7X08nLbmbdDEhUXgoxkqkVS6tAqB+HHYF3uzwsGhX4f7v/ypsHVoO7LAUpNkqi78xmQJstu+E4oy1OTLf+NlG+SFmz10uyZS/u35D1jwOBsLsS4I3/rWtzCH+TqWVmGfTpC3yO4NM5Tsu+SPlX+c9BN27tyFRWeXyvNXSt2VP/OmOiZn/0m0p4VY9HMeFuPI2hQY6i5/WIz1b1D7+Bwknq0Hwt333BXejznMNedx0U95MW/+/mukwCaBxpCsspXMBY4JRo4O4C1XHOaXv6LKYFEabTROmViiSm/51QJ3hOKGaBY4Pz979txw/fV/GD6DtyouuMDSaic0FpjzIhB+0ttFiyg+a4QK/2xYjTF1rshlD1M1RD0x/y2iHagoB6pA+DH7XOH5fSyc+vjHPxZwPJ7Qc4WIt1AKVUsqlxcg4nnFgGXdr/zZ61u3fn14YRccpsxhttyelvJXpeOzfxp7mByS/RIc5nnnIZGUb+ZfkNWPlFEscSMVuKr82RPjytU1mMyX4UkTSqFKMyoQfqz8E4sDClsRbzic44qFU3CY6F1qD9MJdoIqTbJA+BnEPg56D/fdtyls2HAx5oPfghJUPdgbHPbTYV53Leb+fqZKqXyM+0+W+tK76rDu/rO+vOmKK8Lv/dFfhAVncaXzKIZlkQopf51VJ7skiyqc/aRR6N35J/nk8Kvh+D51mGjYol/zGtsdKrWOPk3c/owZs8OB7b8O3/7KJwN7NNjgIEn0yVcEMMxfogIYZ/vjvCJX9ONADa32pi5q9cFE7PMF/iLsSkiLfrzCVri7/NvYlbsXXsKin6HndmDx3kYZxbD6J+UjN75Nug3X3z6+hxkWuVWyZl8LT/UVuKr9t1n0OHGY+w+Eu+Iq2fMwxDxI++uyXznMnLnYPmHb4VxM5jA/gTnM2+kw461v1AAm3SEB6kM9AiRTfbwcp6HkTWk2Fqxc/wHtYZ6J1Ymz41YPKztJYZnMJK9AX6Lj7QVs2A5bt24Nq1dhCwu2leiQLFOml9c0Wfsj2OrxABzmx9DDpMNkZaR+f7WVCenu2cYY/iDZyqxIPgDXn68O8+VXXtUbQUXOYJt4G45i/ezTVjmH6UuN0l2X40tgAkTIx1j+fJPfDIfJHmY9JJuteKmMbUKOL4EJkB7mk5ufDKtWrBSHOdn738/+8WEMyd7POcyLMSTrtpVgMcmBffvDdXCYP/0pHKZc8S613iyHBDho+1swf3644krrYcJhSjHwsam9M2qV9fUAiMGDRBYNSZkwTeTnJQ9XOigaj/b5xMIwIK9ROMxh62FicZ9qB0HskSMCEkzMPkepDmz/x3Df7eowseVPE2LqGeJCqlKyBdGBI62r/l+GVaXb4DC5aEovp9XybwVBBuYrXo7TUI00sbPAbSXfxipZrkSXdICb91WYk6QH+hIdY+Z76fBLsq3k8svgMLl6OV6ZA0lHZLL2S4dJIywFXMlQAko0WQawz21Y+7GN7q677g7XvQ/bSuAwuy9nK4EJELHKYbp0MkH4i8lv2MAJHeGTN38Sc5i5h+lvvhfwFaEV9kgKujgrO1d4Xn/9BzBuf0tYjDnMmZzriKnrl0afBuXL3ALlaGKVHuY2dZiL4TDNOSeGBNQaE6EVqLkZP4nhxB88CIfJHmZc9CPCLv+qLCLKoLTTkMlkkubBiZ2/fl14AXOYL2NIllcSSYCgHSHGjTPy1ezC5ZDJYdqQLBja8t/WyJVP7XrYUpJDpeKEmLClbw/T68oaBcrRpNajPEwGLvp5CltzVtBhYuEPC6rmSYoqQPkyt0A5mrgNxZ7zfVj0s6EaksUh/Xi52o8e5jXoYT6U5OwWZUSG3K0p2BI+AVEGcTpM6WF++H/DkCx7mLz0n3lNRgAAJsdJREFUl4EMQzL/gPnQpGKBycK4uzglg1lDcuNPy4xs9JmnRuAw2cM8522Qw1wZZEUfaFmVKSQGF2moPKIL8Fj2Z6KHuW/7r8Kmr9yM3t9QwKkyooZaRWMCBK3pj6YUExnKIDKXMuIwt3uHWarzphKcgFJXNpANc0iWDvNb92JI9vVvcGWUudsgZsfXVokrsmA31EsvvYQe5nPhcvSYiz32ibvWmAitQM0tcfw8gX2YzR6mqlCZVnVA1hrb+biqHAfDhG+ih/k+vGTqKtko3WLAozxs2pPDbCMqk75T+sJmWrny6BNY9HP77bejofg7nm+u1H4yCyrzsIKzceWqZDQNLSYciMyeMy/cgCHZWz59azhrCeYw0bBEZ2d16c6NFXQOLZeqEiecYEiWc5g8JEF7mLmZM2W4kvoEKD79duG9cA+9o5OYw/wBepgfl4MgRC9+fP5VpcMIyEcFkwFeAIOUPw5ED+vXr8Oin13YVvLqwOU/EfsLFswLV119NVbJfglzmByS9ZeVjYVKK2Mlf7/y5zwwl6avwUKI3MPs1pZvXslTxtrt48sH6M1i0c9yOsxVYOqS6sJTr9EsVFtlLGAxky36wZAsepjW/vC1jbB/L3uY14Wf/uynA9//1BZhbpD2xznvKzAkyznMBYu51xNOxsayEIoO4PhCK/VPvCXzwpoJXmHQWkqs4lljdW8wQ3ZJR4+/gh7mE2HBGuQRq1hZPl6K8bSbeIL2Z+B5IT1MOEz2/jisPOjzhym3tGewu/1xo/+2bc8GvsilMpcM5VwNUv4snXxl2dlYjHXRBRdLD/N1r78cLKTVV12bPN1oFiqtjAUMyaKHCYd5WexhWv0T7sScAG8AcBeebEbTUHuYp4fz8JzwWxOzQt5/lrfJORUelwU8Q6DDxNGj2sMUh8m6bOWZy85pLzRp/cv24TBlfCIzJckEZJqDuFLvE7KtJPYwE80SkxApebGVRQL0N1kbQtrDxLYSLvqpVsmWKbSCzepFv0TBGRubtOtcTqCWWvCVBmwrwRzm2Vj0s5hzmOzNtl+l5Pjt65CsOkyZw9RWrMb6lU17ciK2KUgMF+Ksv+D8sGvn83EfJlLfZM2a+9EyVws0A4cwzA9XvT3OYXLRD8t4wPLPt6Ms3RZDwsrDH2QOcw1O+uHSdGMsxKfGPlc1+1WyhQmkRht2TEBBHL99fL0jbLqvfdEPHwBc9CNzmJbfFDZvXMKol8sJTIQknIAFp80LV7zpSjhM9jDPlrIm0WfLw6Ro/qPSSGQgM568/1iJYgvBdQwRrjU6TC76wdBRrCeQkrFj6iovb9PD/ezPwkKI/dswJPtVLPp5lot+2MOkDQ1KCzHWj9YqoEh1mFvdkKwzM47y70qbDcnei5N+XodtRbmErPxj4orCQWSc7e+ll3HSz9AOOMyuHqaU4KTtP/EEDi5YhIMLsP1MXkNSuhPQWdolR3v+tYe5L9x5J4ZksQ9zzTnYVpILDbpLLTla4WMqUg+zFszmM+RTTof5ScxhftnNYbbXMcUazUJXjbzaCkYRouHMxpFZN3Af5i2flhNWuBdJrvY85TxHbcamof/15hTPHubWrTyGbyU2py+Dw+S7jdxKz6ywKa4oNdriGuZfLvrhKlmdw9wb33q9slhaEnhYeeqyzPGmDi7EWbt+PU6q2YUhWcxhSlVnWvpd3qaHVSbbU8ji82Hrai76iUOyXfknf76MSzG51mUo80YIIvjwMBwmephwmMtwqhCvUlOOK97/Rj0tUtlqhsRhsocZ5zAbhqK6qbCPQ+VxOMF3MId5UexhqnLpYXJIFg7zISz6oS27l1b+ymm/5b3JPBkyTh/OxyjBlVe8GQ7z36GHeQ5Ikd+JZZ+mSCOV+Wf7YR9R+p3qPKFL2xSWEh23OUzM00oPk6kgXY/MoFThiM0IuWCIfsDSZqTaPk/rOoQh2Xu/8qkwhB6mzGFafijeeUWNEnhYBcyet89FPzxaE9+fjVqVy3gtNJlO00KI3BIoLD3MCy/CRvzuk37K/E+s/nOV7I7ndsJhXipzmLTeuGpDkaFGW1xD/4sh2bTo5zw861lL9MqtLkNGS6EpTgiT1dJljAcX7N2/L9xz153hGqySPY8n/Uj9yjxNKZaZPfUzRD5xmNbrKkguMT6LAuPnII60uhkOM81hqtX4G2+04fIYhGFawixj7HKT8MNJ5w9iDvPTXCV71mI5+Ufqu2hBYiRRYJTQqyYNeFHk8SXs838Mi35kWwlOqOHZpJwvVbXut7BDG9Bnb4+FLdK67adtJR/FthL0GvTNN6qCKFVRNS8PS0yeFkpr/pbcTBvnpNav5z5M3VbST8aX/0TsL1hwGhb9vB0O8zaskl2niW8aTBhf/unVhIaZDVwKul9H4/aLpzZzlSz2YcomfpXRXzD2KX/jHNT+SRx39gT2YcqiH5nDpAbaQDCB+9/PPhf93I9FPxdj0Y8fkj15alQW/Vz7PsxhpkU/psnC5v1veRsz5hhmGWZlPk5ruvLKK8M70cOkw9RZyLhylfnlBCTD1vybLvIApkJlpoAWl0DsYb4aju15Iiw8922hhx6ov/9WpHx08fRoul2aZNUfj30O9R6Aw7zvK59E28Yq2TiHGZMQg5xGsQsbGVPCEutof+yR0cbw8LGs3hRmTAuUrRl7xmT70sO8EKtk7+O2Ep4lyzJGYIVFoXSRBkSBS8QEtNV/niXL/aR8AZiNbX18haEi+VUwytMGSTBS4Ekmrb99OsyFCxeFdevWQYc5KRW1dKta91vYoQ3wd9hnm92Pk364SpbTGHqWLPjd1ZZ/nxdnWR2mk81gkSiiPaKHbSWHwqfYw/yqG5IFC++NcTIsrkg0npqW66BxoPkA5A27ITpMLvrRrR6gmaFCkXP7iZ6AmDgXL2QDVslqD3M1zq1dggewrpIlk5eJNjwq6RncvjrMOCSLtyAuO6TKMUoxWZJS4o9dEM4lpyk2kq2SfT4OyaodoyKEYFv5l1ocv4pIe0jYaJ8LjN6BHuZt6aQfWosJFdDFk3AFNFg8Ipf/cZyWpEOytq1k8PKvLJZRb04oPZwPijlMObhgBbaWrP6t1D9LxAgc5n04zUdXyfJoPE0Q92HuR1255trrws/Zwxzw/oveWDliYKY0BNLf/wXz52KVLHuYnMM8W+znx1kuf553kJKAJPq+IR9EQpQnEnsPQJAHhqiLV2NIVrCg2VMMnKrG3VfBafsfxD7d7YEhXSW7LQ7JUmdxVfm38taw4EwR5qAuf64qfRYOcwQ9zDYbRIpc0hKBAe3zaLyLLroQi36+Hd7QepasKyctOKYSf7SKS0AXV2zjVw9fZw9zY1z042WiDY9KGsZnP/UwbUjW9DR0e8Tg9nkIPve433U3hmTpMLlKtt1xmGUNvTnBKKIxJOv5EpwA09nDaSOHsEqWBxeow2yrBIaz0KQ1BFZaqFLlNzImGIwz8W/27Fnh+htuCJ/G0XhLzuQqWTY+cuGStGkC+csrUgDlhBtkoTAWP0rhKtntcdFPWiXbEHIIATXOX16D2tc5zAcxJPtR3NS9XCohSfb5l03Hkg9VnB9qasfbNJhqeImeGNpJPzwa71VZJQvqAOU/Efu2SvZL6GGet3Ydk5LuhJaUoKofpXh6ghNgIhnBnthTOLiAR3gtjUOyg5a/adNQdWbNOc2WePlaCfZh8usdXBQmlwhkWeKmwj6HmrlK9tKLN2AfJo7Gi0p1ley+cC2WyD+EHiYt8yLZYEE4XBtNJPrc//mn6SrZd3/oL7EPEwcXQAlPx5kJR5ZOiqHNPvn3zpN129LB0OyPDr+GRT+PhYVY9DM6C6cWQaF0XsUeO5LQIs5z4va5SHAf9mFuQg+Tx17ypB+zrx5P3bc4P+RH0qmJRBNhLmLJAjdW+7N9mNxWInrUkmlgxuNlypRLfqNAgsFZ25+DVbJy+Pp939YeZp/yR4lRg9gzyMKYCBcoxeiyShZfK3ndxsvx/MViLFUT+Y0LUQGzLBkya+YzyMKoCEOyT2IOc2FYx8WBGJL19AQnwKQcQkCN85eXt89tJQfwgvlNbCt5HxwmR6IyXfn1N+swumJATQB0ozJqnaeUI4gSqagqnkgR4BzmzXCYeUhWB1O0clHGJBjyMpzG7Fd60sLSRee2Enc0HhzmLDjQxmXmjNAaN2QMy0CSzKPxZB8mV8nisHI7JMEkU7bMjoWJISJa44bUkOegPvBDnPTDIVnMS9mQrKkcX9i//GWV7Plr49F4uq2E+scq/8HTkO3LkOzbMST7JbdKVrJc5t/K0rAWTzb71D/jSQcXnMOj8eLnvUhMSiPnFNiXo/G4rQSjD6vlaDxLRZe9mm6JimEZFGmWVbL33YfDr3mWrDsaDw+AfRhiuq6x6CeXf25rvk15OKer6/5z4dYVb3pTeNcf/aUs+jGHx3KlY6G24kpIyxRCKpcbwYBCpsV40MM8wSHZx+Ewfwd0312ljOlQLWITqGTKJyAhTbfJwhnCYR7gop/bP4Hh0qFiSLYr/171YLCW/0b0yPKQrMv/BJ9/tW1uK7no4jiH6T/vFbOd+FvjhoxhGbhCjqtkh4bCZZfr571MstGuzGBiiIjWuCFjiODJzU/gaDwMya5dp3VKbrLpAIPUIZc0U2F2LazxMZ5WyXLRD6YxisPXI08STUC3/dzDdJXT0sDQdFhoNFn0g32YX/7Klw3lQlae9F6GTEdFjqMLbLCiwHj4+gdwDuCt6GHmfZhZQ05bhjJVIaE0yA4R88/vAD4be5hLsa2Ec5iWJn8vvf6sJUOeTlgoFZmb7h94gD1M7sPEoh/wma1C3pAI9Q1XEVUpO5GKAnaukpWzZOPReI65AM1UK3JA+3SYV2MO87Z6H6ZlMCl3iHHWP1NBx8KtHhxqWbaMDpM5aF5iyZlTDocYwD5PDeE+zOU4L9Q7zKwlQ3UKhNIgO0Rln0f+bcIXSS7GPsy3OofJHiY/V0SH+RD2YbpW5kw2779ULsfRBdr957aSK7GthHOYC5ecDSeDkuX9hyCX47B9m5WcC4OMEq1ASLIHcvJrQuKiH/YwuQ8Ti37gDKwRZO1qV1bXTtD+DCwS3L8NPcwvYw5ze9ccpqaV+WMuisuQtM88SCn4FGZuDmHSKR/HHGbSY/KZrRNqZTUkQulhXoQ5TNmHqd/DpB2ypMITuPwRnswYiQ5R1b/D2FayA9tK2GPm0aSOs1SMWKZlqGYSSoPcQw9zs/QweSLYDH62sbpMxMKKLNFMy5DxicPEC+add2IfJqYxzi2OxnP8Vf5N3jgszA7TOBga1XB1HPh0+Dr2YdqwQdVM9C5Stu3CHTY5IVuliJUxBWil/AbcDTdcL0OyZ7GHmbZ6NBPWxLQYB5NtfK6pctLPs9hWcg57mPHw9U6lTUITU1tAPNo/iX2YP5B9mHCYGDaQHT4p48pn0lI8qYyIjREEVo79yl/mMNe7RT9OTmwk3Vmv1IOYAMEmnv72bUhWj8ZbGzW4IOaf6W296kKs40moh1WyOHydi37wFQKuku1kTTIAJmhfv1bCw9cxJIs5zGZDacN4wxEewD7nZjfhaDw5SxZH41lR2Rzmtde+D9tKfir4Qe5/IxUoepMTWrq3CizAkOwVcpYstpWchTlMoOnsZN6AIRAcEeFHz5WgDkTXtIpGkfF1KGKlkNj+ON1ySraVwGFi0Q8PLlBDKCCZ8qQhFhawZsY6qeOwr/swf10u+oG+fvmX8oZduyQlMTmKixGnh/X5UjhMHo0nJ/0U/KYphk5OMIk3AinurAE3GwuYLsKh6/feex8OLmjuw2SSKdr3YpGi/Pu1v5dewT7MIe7DxLYSPH/blTatNTEtKXH2W+cwayV1PKlsEmpM6mH6RT9gGiv/RX6d0tJhiiJXNh1el+nl0Xif4CpZt62EeLnP7mY7MBITl4sTLPqkZNI0Y5iGX06QfZifxtdKeHBBy7YSzZPLGRVYVEL+EAVLEW9kISgxHMGQLA8uWI0h2aUYkp3J8fuuyylQ0CGiPsmEoPlT2j+Oo/Ee/AEX/XBI9kA641IY8aNlV5SgIZNa5c08AuVo4uMQG4/G27XrBcxhclsJ0lPwtZc/y0sLUi1ZtMTmGKH5+DKK7MO0RT8d+Rd0VCsBEEUPpE/9M37ZVgKHeQ6Wiy+ve5hmYIrs99tWoqbMYMyURSdgnz3n+zEke/GGS/XzXlGlbSthD/OnPEtWrrL8xbHRJq5M8ZGIdcS6/bG+XIkh2Xf+0f+uh69TmeXHVFkcBvkAYjdSDjIw9YlOAUSA5yEHdFSMM+gN68EFHJLlt2+FRFu48HASnBoGwvSRxqjFIdTPPg91PzCEVbK3Yw5z61B8MdX0iE7RNzX1nyfjbOVJP/gANy9Jp0A+ErGOWJd/lnVMQNq2km9zH6Zb9KNFYQUSDVpUQv6wCPs//6z8OYe5A0OyGy9/nTx/o8YyMP2il3l1CHJaVEL+NO0/GbeVcEhW6MgucyzXAO3fmNWUGTR5ft3npJyMddfdd8rReGvWoCcb2SpuSa/lv8u+OsyGZM5rTDmCmI3I25zDrCqHCOabrVAdV+0iKQ3O4jlkA5w9d7bsw+Sin8VndMxhZpHBIcu3hZDUVbJ60g+HZLU36xgcOLihdk6Zw+TReB/9OOalMCTLMyTaLis2C8nj4SjTRGUM92GuW38+5jB34mslr1bi4Osof1Ftaiwcw37qYboh2ZjEMrCytNBRS5SLOZDsaQ4z9jCdirFB02WhkyhRGpMeJoaQVmIOc/DD153SGjQjFjo6T4q5X76Hya+VYNFPbH/cV8Zl8nL4erWtxN8eVZUxCtVxMwh8df9tSJYHFyxYgt60OCWwpR6eyeYwazecYpg96TC6WicUEEZ5NB62lZx2HoZkpYepsr5IpDcwCfvUe0gOX/8Uhku3Yni5fg1s5t9yIKFlzEIiPRyZieIQZj5LNjMpVMejIJVV5W8UCU0MofYwMYeJs2R1W0nBOb6IFbKFTtqGZPXgAnYamAhcLbxKmMAvdMnReAtxcMF6ODKz0TDjjDpwEIv8WAGnMO5BD/Na7MM8V/ZhRknTZaFTWKJyrOxhJoHM0IU6iLNkb5azZDEki1KkhL/sHntcAVcMFm2EHJLlthIcvv7pW3E03ln4WkkakoVGSapLbwITkO5xxnTfd53DtK+VmMM0O0UONCJKneYEJqDTvh1cwM97HcDSZ/k0qTNFDXZpufjfTBmk/OnE1q3H4etYJcvPe0nddAYa5Q71jhzZB7PPgwvegTnML3zxS5jMX9uZf2prv3LZJXoLirTjw/iA9JYn8WFYzmHi4ILEl4CEyhjHlgx4wHNGPFDyeS8evo45TH6xRC5hdfwJTMCE7PNliqtk0+e9ojr5vBceANdca2fJtvVNGrfXZ05hu+GRYlELT0MPk2fJppN+xL5SjUfzD/vwouqCUK6Rj/smMWCr9QY4GVKFAGV5yZs88LIPE3OYC+NJP6pblCij/Ua9vHPjtY/JUfm8l3ytxPZhFkpyeRnaQjOvcf+bKb79bdwIh4keZuu2EhNhWBmwaB2aiFnmjgE9SxYOk4t+pFxceSUwAROqf/xaiR6NF0/6yeosSRoK3hETmIC+9m1Ils8JqSSiNcsmYy2ozOqICVSAQ7I8Re1ubCu5Fqtk+RkxXolNYvVPCzWi4DDxmEbtZYXm1cKacJ7Gz3txW4mukrXbrDrst9GU29mEPZGkZdGS1ime/jCLDvMGHFyAIVndh2mHCbSnV4TTj0+1h40Bzt7l/8gxHFzAOUwOycZFPyZlISUNttC0NUPP4WF+aYMn/fwAq2Q/Lkuf6TD1yUI+zT9/JdbvDbRufTERvvxlDvN8nCWLIVlxmJHHgq7yn4h92nr7VVeFv4LDPG8tKyi18yrzbzhf/u0cqsHTDB6GY5HD19ecDYe5XFUWv8ZJpIeNqbz/7RxqfwRH4z0l+zDVYVqZWe5MYxl6jR42rnb7MiQrDnNDuBI9TLPFRT885OKaeNKPajGq6TSsf5QD184mzIkU258MyYrD/Mswn/swUf+kekYTlhMZ4hMcMfliTD4Hlic9RYd4yswm+zB5cMEiObiAh6+j1orX1eTyVzq1k7Bvn/e673acJYsh2baDC+r8M4nE8VdyNmD704MLdA7Tt7+oSqugRMqfQe3rPkwevn5veAMcpt2HUpuPeQ4PG097/ZMhWTlL9nI8f2enqqNlkltSm0bTrKHn8LBSeTTeQvQw12MfJp99TY52W8ZnYWkzx/znva57Hw5fx5BsebXn3/OYDQnjrhLQI1qxiFdFY1KR79ChOIeJfZjpZosVFzNQQouoZqrjxfZJlRYXpP2ARrp8rQSrZG+5BT3MxWegh9lnXtFkO0KfDXnLTXxK4Qek5SxZfg9zKXqYsnILifCCqWyS8MCAV8M5zB/KkOzH5PD1+JzIulg28dL2SkR8l2eSqAyXYhUuYkZAaIevcx/ma+hhRtExyz9phYC921MtjXbZl8PXr8Lh6/I9zLWmQkLaFXnqAyCwpwhD4gIlwgmVAJFKQ7I4IzIfvi6k1p8kDWC89rWH+QR6mKtyD7PVSjdyUPuyStY+7/VmDFdGQc7JHMD3/Tgka5/3YhmSrJeLGSihRYoa0nn/ZVvJle7zXvRavFvoTdIR8L/cf8uQFGaKlEmh6VHK4OGkWiTBFAkyJPu4HL4uR+MJQ+Qi3SQmYZ+rZA9s5baSm2UfJpf80gKvsZ4/yiVJhwwT1L/9pcPXsT84ssdQZcWmaFHN47U/e/ZM9DD1e5gyh6lqBv6ty1+KWKQjRQL9HuZz2IcpBxfge8R2GxwwsE3PWNvnB9kXLVwoh6/L0XjRvhYaJX26XNwr7QPbKtm7vsltJdfmfZhQO972L9U+O8zSasqYoSsDBw7g4IJPfiLtw+SNtweoiDQQpgghePMLW65I5NAbmN+MOYdpQ7L/x2duRQ8TQ7JoALQllQ0ymlaXYgMlZCOVJk718TIGi+fwGPdhPrtNHohL6TBt+BcivoCnwr4djadnyWKVLJTW+beUSSlJhpkQYqtyQ7Rf+UsPc31cJYsPSA9a/hOxvwBbWK56BxzmF3A03rrzxlX+Zq9xhzrKnw6T38M871wcvr409jBNWMLx3f9+9kfgrJ7CkCzPkl0Jp/nbqH9mv5zDxCrZmP9Rfq0Ee3avuQYHFzz0U2OXtPS7/4mRAOrKWPd/npwlq0OyPOmH/KNydB0TwrqGNsUqiAhr7UwOy4oHFBS6lyByTh6CjfYHnK5Q1SFZ+x6mHL5OldAnbUH0izk5zGCi9sOM2eEg5jDT0Xhc3avZEFtqQQyzaATHVPuLePZ+hVdIEY5MJLH8pYe5FT1MbBkThFdiMHgnap9DshddiB7mt3DSzxteJxqZnKJvpghJamv5S96Y/u7rML6HuUMcZh6SnernH63bwQVrMSTLZ71dlgWLM8kTsX/y1AnsQDgQ7varZAfIf6d9c5iNas277zKQEh4Bfg/zU5/EPswvf6UmxTgzT7N6WVFIm8poI5dhFBUZNDwua9avleDwdZwlSyfWSG+hwbJrYSRa1EJXcKbPDi5gL2JZPEu2UJ1UNR4Djs0MWJiEWLNjRdaPH9s+zL046ScVl8t/v/KyRuoMO9AMKYqLftavwyrZFzGH+XI+uMAJZHCS9tk7ufqqd2Af5hfwea91Wa8Vh4Ut5Z+Yx6h/dr/4tRI6TNtWovJmwMKo1aIWjtO+/1oJF/7Ur2Ep7UlvMtSRrEy3/JgOHt59P47Gu3gDFv1wW0m8dFuJzmH+/KGHOp/JuaKpIG8pr371STnwC+YFdpYsDi7gST/1xfTyc0yFk05MzBeX+bBbqJblF2ieF6to8uR9mPy8F3uYwocfLoAT/WKDba28xmOf20rEYWIf5tYh7MPEebx9LxpD8iSIcBt/W/vTIVl+rWRElURBS/+g5d9lPw/JfgtDsm9oS1a0awk3y21o3gOl1/XvMM6S3cmzZHlwQctOgZq/TIjptTBSLWohMqkOc1H8vBfrjPGCiQXccQ1qXz8gvV8dJvZhruE+TGe/K/9SsVvsz+AUZl0bkz4kVt/0rFBNPfdhYg7zkzgazzlMclFWa5rmVxtUopDaevHhw0Iorig2D18r+QA+7/XpT6OHubha9BMFfJoFVSGqaGapCFwly4MLzuZJP+hhzsQcqr35VKxFUhu0ClFFRZZ7CB/8gX5Amr2GUe7O9lfMvwT5x4pX6pN/YEX21vLnqsfz1/N7mF1zmN3ln02rBbNTPzAMv4DbSv7bq8KX/uqL4bzz1kqO2vIvuBaCR3XVPysmG5I9B6tkl3PRj11eCXBVVLgE10LwKG9/5ETuYer3MM1Yi36vZAL2+SKwiYevY/jtrW+FM4k6ZA6TXyvBkOxDD+FoPNqJl5W/VZB8fxLFWBth3f5sSPad/+ovwiIcvs4RVe1VwmDMm+iPPjFll0D0lWg6MX1at5iKfCmuN6wfkJZtJXHjetJFm3ScfDZMwj7nMPfHD0jXJ/1Yeur8C54JRmIkyD9WvK3tT1bJxm0lkyn/Lvuy6Ic9TK6SdSf9pDKzDFWIKipcgmshEPUyv4eJHubGSzfi4BgMyeJqYRV8K61irqIiR9yTj2P++nQ96UcKFjjP69ufx4sC99OgRYTuwzwQ7rzrzuID0hQVlobgGPaRIIrEq5b2cQ/TYWKV7Cc+GfdhqnhrpQNJKg5ZUOvTYzlWRpUkE+kac1zirObgpJ/rP/ABmcNcjB6mniUb+SlXXJrO9MuWVvMwy0xU4+phWwkW/WBIhQ/EJUvYm7X5UtVYiLSgrLgHsV8MyaaDC5jcVEpqjkmlQlykMRKjgrOfhlwkMKtcubp+3flYJcvPezVXyUa1ItHQM077tuiHZ8m2fq2kT/mXN8sXsIdjxoDSz3uhh5nmMJUv/Y7z/vezz8PXeUjCCjm4AKtkW5JkyMna54sAT/q55BI9Gs/0snfEQy7avofZuG/u/jM942l//LzXFVfgaLwP42g8nPSjjwlacHVTlEJvrB+kjcocJ88E5Xs4GNjmneMkTt7RY/uTVbL78MUK9jDJCKlsQ0sRCOhRONOIwx+vMezztC6e9HPfVz4lhwqckmOLIGfyToeCLo8tNAp6UbLwYtouxeewtmMlrhxcoOhJPf+i4pRWjrbp4etdn/fSckq/E6z/+gFpHI2HD2JzSkwTwIJ2lxpxCILJMkoD8Bj2uQ9z4aJFmLpZK7dRb6ap9AY8HOktqNo+v1Zy4KCe9HOdbSuZxPNHtpV4L64GmaBYOJIoTRl/eZHCHuYn0MP8KnqYHi9wqsDUFiMiqcI6fl8wRS6HIz8Km01o9jwcXIDvYX46fkB6NhqAkPEjN0WkM0aI/kcShZ9WJwkzKEDrRR49egQLA3hwARb98KQfvvUywdES1TKVvDK2xCjV/XbYz6tksa0EKx855SNak7r4eJBikR9VaiDCPBei6RIVka6B/srnvc7HPkwcjfcqhmTTfWnhzRmcmH3pYeID0l/CPszzuFw85YvGmpcv/8gMpshL2T7lfwKf99os38PkST8dR+NNkX2ukuXXSlatwkk/K3EguaRSfzVXHlaM/E7APkcf5APSF18c3vJW3YdJNbKt5AAcJuYwf4Ye5qD3P6UGxaoyxY2X0vZ1QnqY/ID0h/4inLYUeR3loQKSEW1GABkz18j7pZ8Ay/dYLeBXnB242f4UCUnFj468ImfJLjoXBxdgSFbGa8kjdOWJE5gTts+niHze63bsw8TReD28dPi8MiOaLP2VCJNAZw8in/nxh1hjlrAu/6KHCdZkRwRVdpDyF/YW+/J5L54l+y37gDTvAhPIy8OKSWjJpPE5GqXc80914CzZl7GtBB+QvnzjRtkHTxvUzsu0qDVv08PKK78iiJ+W5y/3YS48bWFYv25dpAtztiIq5WdC9mVIFttK7kIP87r3cR+mbitxqWvNf8plZV/3YTaQUZ2VjNce4YNY9HPzp7Do58vch8liphK7FBMJatuTI5tyVbxJSJlk0Q96mPyA9Kf5AWn5vJc6TLPG0NRTWxkhorwKXpKIkIfBjHCEPcy4rURWyUbnXGpoxgqdRaSb9yQeij/gWbIf/Wg8uIC8sTy8GFD+GC/lECTSzkbNLJhRp0MJopILcdavd0fjJUuRyXinwD5X5PJ7mLf91W1h3XnrmKDispTSpFxExPJPIAmJQbhaf7ialNtKzo4fkBaRhoFStEFORuPrV4NB5Xn4+pN0mOhh8vNe/ipEiojnUrhBJqLKv66SZQ+TBxeUc5j8+sI1PBqPi34GvP9F9YhJYlmlB7pGmBDB8gXrClkly+9hYtEP/lkdEw56kfhZEcbpgngRNucin96SvBFHgl4GihzPkt3zWDy4YLakR7eVgCploqK6RSXbkAVGA9qXVbLSwyy/h0n7Xfm3tEooSanyz5wyfVX566If9DCP43uYaiCHhVJDRybjTUKOWUypfc5hXnwRP+/Fo/F00Q85fZmWEacnggWvCVf1T3qYftFPU02BKXQWkYJNIp4sc5hYJasHF/D1S4tVGFkmA15ep89/WiWLs2Tte5gFL/Uno/3bP1ln6C5MgnaJdIw41RFt1EOHDoU///M/D3fc8Q28OFREk5YbjQjIPVRu+VQPaZGfDcM2N8vbB99EYyW0KkCHORvDEO/9l+8Nn/pfPhVOP/PMMAe9PlrkpZb1N0YEL/VPflTl6ID2+eHXoaHn5LzQxTwar9pWkj5xJFYmZ/8UHsB/+3f/Z/izP/ufMGxwEG/xmBCq8q9mkBHLIspDPrFk9oEfpPznLpgb1mIP0h4c8v7qa1z0g0fgAOU/EfvzsGDkd3/3d8OtWNW8On43ctDyz/mnZWaaV3f+R0ZO4GSVZ2XV6pLFS4Q1SthzW1ROhX1+W+9ZnBO6AovBli3XFbl6W+zmaFKnwr4ezP9A2LBhQ3jb234n3f+TqCOHMBrBTdgPxUU/g9z/8ba/+fPnhTfxayUf+ndhPs+StSyOp/5ZcUBWTusRZ8DSAQJ6WP9OwmEex5BsPks2ToqSbYD7L4+MrucPNNDRSw/zuV+H79z+v2L0aAhaTynlt1D/9Wsl2+QEKr5TSNKY/wGfP7n+s8DtyvWfe9IvwkjR3ffcE16HBTnkio95LS6w8mJA+1LUYBpv/X/pZX5AemfYiB6mnCWrhqCzev6ILSNGwzEYxP7jmOI4HUOyHImSpKfnH5QMcv/FVrd9ORkLc/534mi897/v/bGHGfmhny9MschoEJfRDGYIjoj+fwEAAP//s8d7rgAAQABJREFU7b17tF5HdSdYkq509cC2HpZtyZZ1rx42luQX7mQ6gLHBZLrT9JrJAINNjD0rnbUG6LWaRxpIAjZZE/MymAyxTbCBaXo63bMS28lqmPQ/4WHAhEDodP/RBIMtmbRtSbasly3bet2rb36/vWtX7apzvu9+r7tmpfse6X5VtWvX3rV3Pfap51nU6ZzphLAo4Ccskh94qqcN/Pzzz4cvfemL4atf+xpS818InRZEws/gjy4f8ugwRI9LJEkJAox+RjJXHQAWL14crrn6qvA//qN/FCYnl0tYUDTXEdvxF2KKQRY1/zOkLcKSF3OT5Z+ZOR327d8fDh8+EiaWLA5gJnLhV/IrMipppEJ6+YmiRLh32vh7+Q88+2z44Q//Orz08svIKGKQoJa/A6bKH/nUyMzC83dyG4Lxn1y2LJx99tnh2PMvhJOnTiPDKo8VmiQlaAz8ly1dFqamp8Kb3vSmcO66dQPpX5RqmaeLDFF+ltAi8fvITpiZnQ0HnzsYVp9zTli+fEUuCAqOx+SPQRG7V/n34j8zMxP27dsfjh07FvM0evn30v/jj/0s/K833hh+6Zd+KWVrFvIePnw4vPvd7w4/+tGPkryUT+qGCSrSt8uf6p/gaKWpy39ycjJcesn28A//6TvDslesFf5t+lcOMRtKSitwzAedXu1v9vRLYebI34VVF16F8p3AH1ukPiJTLP+2+s86IbIAXXBb+C9GzJlFi8ORp/82fP3Bz4d9T+9jM0MC46KJDDRq/Z/eMh327t0bTp06JUK0yd+P/imRyFfJv3jxknDRRReGj99xR9i2bUuUvLv8bfz7qf/Hjr0U9j+zP2zZsiUsQT/Yrf0p5+H5737i5+Gcc1aHDRs3oo9Dbplh/0T5h+V/Bu3lwMGD4Wtf/Wq45ZZbwkUXXqTUE5+y/Bv8ga0YMRk6I4ZLqMblX6LEmkQDQV40KB/72B3hK1/5SsQjNJIijnojMwA6Z0JnMSpBhGfiSi81dsQbD+KQ6sTERPhf3vzm8Du//TvhrHPODktgxGIqYan43fizegK/jT/zwrzCMf6nYUz+/D/8ebjtttvCCy+8gGTId4v8iT/S6tONPzER18J/+fLlUiEPHzoUjhw5Cl1RePyPeSJdzRuAlf4H5T+5bGm48OJN4cAzz4YXX3wx5tnlPOpiHPyXLZ8Mr331a8IdaNQbNm6ADP3r3/NnlljSvfR/6uSpsPuJPWHDBRvCmjWrRSDRHxPj0S51PPyPv3w8PPKX3wt3/N7vhSee+LlQFybyM3j5W1otY4QiCeZ/2dKlYWpqKvzB5z4XrrvuulT+M2dmw9EjR8Jvoy38zd/8RyQBMtNZYvj6lp/J8DC51X/T/3IYzIsuuihc/pr/OSw/69zEP9dNSSXpqWrNB3z8zywRiCfFwWzy5dfgGhvCzIlj4ejT/yX8+L/8OJw+M6PpESkiRbdX+RsdSUHirfwXh5VLF4VTMyek/gu9nLBV/r75q4CW07B27drw/LEXwuxpyIKnZ/0TDJW11n83/osnloDHunDD/3RrWH3uBjBABgSZP8wMHufV7AHQ0v/EwmnIT8DpU8fD6ePHwsqz10eapIH/cPA/M1EGOeyi6J2L/9EDfxce/U+PhJfYJ5FwwSOCRMb++fv6dwZynzxxKmxG3/fbH/lw2GQGk5nzT5LDA6Pf8V90BrVHFVAhFgVRxSF46PChcPttt4f7778/RxpTuvKAsrQQNicxBxEctQIe0ohMU1Fh4kT+i/B2uBSdxztuvjl84pOfDKtXr5GRn721xiSRX3Qif2vENJnGX/ClYcEXsyF4DAB06sTJ8OBDD4X3v+994fkXng+zs+SUyjL5jb8A7Id8iwwh0EP+lStWhK3bt4f9GLUcOXIYb76gqtmIRoKESbAkS8ig/FeuWB42T03J2+8Lx54HH1DpQ//D8F+OWYAbbrgh3H33PWHz5k0QqX/9i7ogn3aSJrmXX2mZ/KdOngyP/vSn4cILLwznnouOnQ/LAY+UKwiOiz9nAb75zW+F3/rQB8PPHn88lozykt8By7+X/lnnt2OEd88994brr78+MWF9PPjcARl5PvLd7yZ4u4c1RTNl9V/wDJwSRYBzaDCvftXV4U3/+6fCyjUXiayq1lL/iYT3RP1LqfWo/8zaqeOHw+7v/T/h3/7rL4bjxzHLAlgje6DtYd7v2Tb9hrkobNu6BUQWhT179oAFmKQ8MlXEK52CnFFy2EW8BV75yleGJ/Y8EU6d5gjTUuX6L3gGtkSG1wd/Dh42XTwVbvnQH4Y1F2wFhUIQpZhAIDiH/tUANhmfOfVSOH1sf5hct63K8njL/9k9PwgPffFjYc/ux9AcXP+XdKMerzLvr9CqoGEuCm+/6cbwmbvukn7C2oRUA6AQq/F0sX+LbEpWElDRVeoSFENwDtJgfuS2cN/99zV4oV6yL5CH5KIXPgvBFS9iDKTo7hcFEzs7vm2/A8PpO+/8VFi7eq1OyVo6uo2HHNlFZPIFmkVIOheA9+Spk+GBBx8M73svDObzR5LBNBZV1Tdw4fYrPw3mtu1bw769nAKGwcRoNj9RfmbPPcPyXwFe09NbwtNPP4WR87H+9T8E/5Url4c3vOGN4Z577wlTm6dSOSQxnMpT5WVkAVfsEhRDBoTL8nr00UdlNJQMZiTk0KSajcr/5ZdfCt/8xrfCBz7wgfDY448lcrWn3/KXRmL1uCKybNlkuOSSbeFuGMzXJ4PZCWdmO+HAgQPhRnQA3+1iMMfBn/XlmmuuDv/41z8Gg7lRNMoCWox/fJmRt2womLzqR9otEKj/xfizlxttk3h9YWJGgM5pGMw9338g/NFXYDC5LJGe8db/7Xgx5cv34yg36ZtE7xSA+UhMnWc4/jt37sTsw24Y/5NCqyRvIbjiHZz/0omlePHdEm7+l38Qzj5/OvZyLtvwDqJ/MahSmEiI7KgX09inj4czL+4PE2umSVEjx13+oPqcGMxPht00mPPY/910003hrrs+C4O5UcubIsnDwo8B542RUjUSKkJ5hGnI5lqKFpcohw8dDLfdjhHmF+4HGUKqx7i0RJWYRIxIzkscCaKSTy6dEIP5qTvvDGtWrw6LlyyJFcWYlBRJrYypITmcfNFzUkaYD4b3vue9MJhHwyzXFdslFCZs/MPKv3LlyrB1K0aY+/dCnzCY7FqYj/ioOtBw2zkMxF8N5jQM5tMy1Ww8opY1qAxT1LD8l6OzfeMbbwj33nsvpkI2g17ScqSdw8lnHnNTLpoeRdFfTsn+7aM/CZswfWgGs0mihuRw8pnH3Cbb8DI69G984xvhAx/8YHj8MRhMKGiU8lcWTunOy3XgSzjCvPfzGGFel3LDNcwDzz0XbrrxbeG7jzwyb/xXYLngmmteFf7xP/t4eAUMJiZUfdWUOklruegM1wjZRvLDEDttecRxShVvDp966Wh44gd/HP7oX8FgntARplFSdYyn/qvBXISOeXfjxTQ1Oqd/5mEY/jSYuzGKPXnyhIoh8ptEba5j6rzEbOPPEebm6a3hHb/5uXDOBVugf7yQjKB/zi9KWTGf7u3mDKZkZ198Jkys3QIweyDWgPwQMnr5LwoHdv91+LMvf1xfZOax/1OD+RkYTK5hUhJq1/kMZK7ENn8wwrSxoEVaCrp8Yiny1SN66XLd7cNY57v/PkzJsnEYuibq+evfgAXR6GZuKT03GiyFwbzlHbeGOz99JzZ3rAlLJliyTtgiZPkXYOMnxYonhRLeKVT0Bx58KLz3ve8JR48eReMiTvVQFQBrTBGoENuDJv/KlRhhbtuOTUb71GDiDcupoj0xoQXLItA1jRnMp2AwX8QaS1HqjqnzdqU1F3/y4pTsvRgdbZ7aXNChzshD62wKORyD0eUTc1TVP8YQgwbz0Z/+BIv5nJLleoulJ0bzSbHiSSGHaDC6fDL/lzFl+I2vfzN88Lc+EB7/Gd6ILT5XBoHM9WPln/Cc0s27DGvO7OTvNYMZ5Z+dOROeO3gABvPG8B0ZYSLFPPBfsWIyvOpVrwr/BAZz5ZoNqC/kgxyLqwZSRo4ML4YmUKHEUCb9A85KxjTp0Ve/OLiUfJ9++WjY84M/UYOJFxJhkfC7eICURS4CXRIE0SX7ksdhMGU9z4qXKRxT5+1Ki/jd+O/cuQPTvk+EEyeiwWyh0k/5tyQT0MSSiTC1FQbz/X8QzuIIk3KMoH8R3oQmLSHIEebLYebYM2EZDKY8EgffWMufI8y/Dn/65U+owZzH/k8N5l1hI/oJiqvV1IQSCeOPwejyicqJ9X8RNsminhuSorT91hiHMCK67bYPh/toMO1BTYAFlhDpxx5FWaaweeCKF+zh6koq0gpMfkCAbz9B1zAxJftpjDBXY4S5BCNMfSxX5kawxVI0EkBGtDFbBCAAM6ZWnEzJPvAQpmRpMJ+HwZyNiWpH6RbQAeVfuWpl2LZlK3aj7Q2HDtE4g5eQNdrmFlxioCWuB/9JGOctUxxh7sUIE2uYZCQkeutfFTQYfxrMN2CEeQ/WMKemppC4f/23cSKsSwnjTR4GEyPMiy7cFM5dH9cwIxG+Cw5a/r34c8qQI8wPYoT52GOPx1y5FD30n9uDlVtv/avBvAQG8x5ZwzT5OcJ8DiPMG2+8CVOy33HM4R0jfzWY18Bg3iFTsnla1VhSDoMid9Kg0F6lpDTIDfjUv4xPJG9MixD7CIZB4vSLh8MTP/zj8G/+1ZcxJftSrJOkbRLTbXsMx8UJD8XP+laSWzFa50hp9+49sU0jvZAYb/3ftYMGc084zhFmzLqwSdk1D1zxDsafI8wpjDBv/s27wznnb47Cg9GQ+ped+TC4nY68xkie2Bd3xGA+C4M5BR4sQeTTqVozP2r5LwrPPf6D8Gf/18exxLEb7zHz1/+97e03hc9+Jq5hmrooD8toAPsnI0xJY8pIgeSxmMI9ePBQ+Ojtt4UvFCNMqwwFKhSdFU6qfNoxm3FscGkNU0aY3mAqvuU0tkN9sfWlawiK3vj10ZySfeihB8N7ksF0o74q0xrELxVOIl2k6ib/CkzJbtu2Lezdty8ccWuYFZtMtYoYhP9ybPqhwXxqr07JVqQKndRxKZw8iq5B/Fby83hHmpLdvDlWyoJFEfD61wrM6AJa4PsADeZPMMLk7rd1686VTtjqQcKbg1QRnQLJk8i8fPw4RphfjwbzsVguTflTgujpVv7k0PZQr0tlhEmDWW/6MYN5Y+CmH+nGKv3XNIfhv1xGmDSYHwurZEoWVGnhqFw8dLDpXfh3wF+yIJ02IvCfqKk9RLjgCDzFhNMvHwm7/+pPwr91a5hEUS6kkXFzQ/BwYPch/7bt28RgPr5Hp2RrHkrR082QhJs8Hq/kv2PnZdjA8kSekgXqMPrvJr+MMMVg/kFYjREm8UbRPyUhDYpmSmfZzSaDOZ3yP/7yh8Hc88Pw0Jc+UaxhVmrOxV5FaBC/fZQ/1/xpMDfiSE79JPlNBySctVKgN6ZkNXFBIiaNsNgbHcSUrBjML8RNPy7fKgj4JE/BMwUa0a5BxiIMWMLEsZJlOENzc/jMnZ/GmZ1zMCU7kWjM7cmyiA8/0n67JDyBXZcPPfgApmTfH45gSrbTwVsPE0ALOb/wsZD4RIeRVm4JL3kUtf5dxTVMGMx9MJiy6Ye6jR2Sya9ElVAmB9+A/Dnqm5rGGbGnYDAxJcsn04s5a9H/MPy5mekNnJL9PNcwL46cVFWiI2Y/sqwdqpOvVx6jgMX6Z+lOcpcsN/1swhomDGbzybTEh59e5V/wisQMxmMlX6fB/NBv4Y34ZxrLSD6xSBQ3VouGghXVfhvRTv/c9LMNU7Kf//w9OFZyfdLJ7MwMpmQP5k0/88Sf9eVqTMm+6TfuCCtWX4gSOaNrWaJ/nopEe/ACOPlNPilkqc9EbJY/oSdfOoI1TEzJ0mDihWS+6j+nt5nhPRjJyG508PbZZ/68QdBYwqDgAdr/Dm764QiTU7INBsIl/TSiXfl348/Ztakt27HpB2uYMJhJXyBm/U/JwGpku/654iTlyETwyKwMS/v0CeySfRa7ZKcA4+hzdh7Kn2uYP9QpWdklS10zv3yoHTqEqab0V4AKp9ehm/wJL3lC4JQsd8letBF1GXBGtT0k16v/qQymoguh5E2eAixrmNgle7/sko05cxnMmXFAeFWo6CESycfHYRpI3mInsAHilndglyxGmOfgrN0EDu/ysb5TclhmM6VXT89Ih9uRKb4HsUuWm36OYtOPnMN0GOYt6ra1jDYBLI4JK/m56Wfb1mww23i1kiQpRKS6ZTxakRXIDlAOVcNgPi+7ZKPioxOz54uDIKMsfv/Tiz95lWuY/etfOYJTSpI8wt6HKP8p7JL9CQwmR5j1lGzOr0+VoU2fw0ve5AkcYX79G18PH/oANv3YbkshEhXfQ/+G1m/956YfHivRKdnXp6zyHObBA9j0gzfm73znuxE+fv7c9PMqbPrRKVl0MqIGdiX64kiO1tkSIksx6FelTTJXxOfDimJTt/CK/OyxuO6G5zQM5h6MMGkwT2DK25JJJH6YuoYxrlf9Y3x+lIJs+sGQmAaTG/kkI0RyxNt4tcGYrBv/nTt2ypRsXsN0FODtt/zJg49LLWEOFqa56Qe7ZM9aj9EfCI6i/1J+K12UGDb9zGDTj07JWsGOu/wxwqTBxAjzcRhMzJX77LTKL0DqBYoZpP+TNczPYkoWBrP7w8pAjeNJ3uQRcGUwHZ5PI6jlz0HskuU5zPvuyyPMhrQxiS/0Vr8HMo0Lc0p2KQ3mLe/AsZK8S9ZyWopT5tGHFC9jiy8HE6qMMDElS4MpI0zZ6hwzVDopjXhcnsuIQhwvWli1AiPM7TCYbtNPO62ScSurVqDmhFGTMGJbpnEOE2uYz+NCBj4pSfII2EXEsGFGvBpdsBwwGUzukuWULB5VdVa4+HJQcDKeBluiE55RZHn9tOcI09PKFIfhz00/3/y6rmH+jLtk/ePk92D6fVSr3wNjAhpMGWFWU7JycwkM5o03YZfsdx/JrGoaOWYo/jSYMsLElOzKNRxh8tFfOjINCMpiIMkbf+IXxQpy+oE5hclkty5du1AhGm3mqeMwmG7TjyRqyBIBpZPot6fJ0UzG886cQt6DNcxZadOuXCLdlKIOUzjmunQSunhinBhMXKSRDWZK5tFKf82vDjvGnJKlwfw17pI9fwt0Dp0SH3/D6F8Gb5Ib/EBEGX2BFg3maRjMSTlWwhEmS4x/6oyn/DHCfCKOMPkCGsvFxFVm/I0KKZ0c7VBKoIaY7G0YYX72Ltslq5Lw5UVIu0Qe5P2GkgxmW6QixTcYURZZ4wEypxA/gk0/vLggbdiRSC9Vix84+e0gxptComtQkiPuxNLJcCumZO/81KfD6rVYw1yEESaRfJ4YTE93aXKaEsdCnOJ7CCPM97wXI0zZJesWtklfMscugJS0sg4r/8qVq7CGiXOYuLiAF0HILYWkKbTJzB4HGZL/iuUr0dCm5BymXu1G2ka3dC1EDH0cRLy95eeGkRve+Ebskv08DCanZP1jmjZX48pQiZ+7WTLHk5A7cgXZT37yU90lmzb9JATFL34tzlyNLEM+Qa7/L2NK9hvfhMH8lx+K2+BHK/9e+l+Kqwx1lyymZK9/PUpKcziLEeZzz3KEeRN2yX4ntiVXPlamsZxEWd4P0fppf1zz1l2ymJLFxQUySrS5LLhCA2aQL7RS/6W3pt7IDG1GEJr5ojb1mALlWYw1TJzD/KsHwr/5yv0YYWJKdp7q//Ztl0iWdu9+XIwMs9tL/xJNFHmcHFGXCmmW/86duzDCfDzwRc6mErVIMo1+9N+N/wRODExt3iYjzLOx6UdpgfaQ+pf6IbVLW5npfxbnMHWX7BRKhMf44tKUyU+WI5f/EjmH+adf+mR4bDeWODjyn6fyv+nGt+McJg0mzmFqgURXChhcFaoh/5vbPzFgMGV+ImOklMmT45zvENYwPyLHSuIIM8XlimGgBJHSNSjopwiDOTfG6QhzqdwDyBGm3yVb5tAEizSKSARiY5d6RdrpKRDlGqUHH8Ia5vuwS/YId8nSYA7yNIVKkEp+2SWLLeI0mI2LC1KiQXgTt5mQEG7EmcZtJ089+TTuQuUIE3I3UUlAn15xhtPqLgor0Nne8Ia4hikjzP71n2tuWS5trIghN/1whInF/HU4VsJsy1MkHw9/O4epu2SrEabxbVFqUmVV/i2oicqySRwrQSffa9NP+8UFiVuilSAD8F+xEsdKrtZNP/niAqk1SceFilFw2uVGbjGSjqx4sv1hiMfLXIhhU6JmMBsXF6RMJzH69DQTEsLjW4twJ+rjj2E3JjMxT/VfDebu9hHmAPrvVjdsSvbm36wvLhhO/2WJUi3QFoZeZ2ZwrOQF7pKdBjDr1Je595PO4OXPTT8/wJTsJ2VKNo0wwdGxZGiAJ+fVEhHCXeV3/f5nw8YNG+Ulw+Ka8iOGCVg/1MNAetIIs0Yw8bMiUhrx0GDypp8vuDXMZlaJqlCLM9fgJdU6xDfZTpjA2/atPIeJm35WYw1zSVzD7CJTA2yiq+t/PT+Fc4TJNUzukn3+6AvNox5ZAFempYyeqslpycwlXM9h2hrmIfBiHvwTscXxfsXxtFhOOdykwY04m6encfn0U7qG2QXbp7S8K2r//OXiAm76iVOyqlmrYb31b/znqn+CB1J60w9GmDCY3S4uGBd/MZgcYWIN8zFMyWZ9qy+HTQq6ZVzGyT6PbX7ukr1k+6XQ4d1xhKkxMsLklCzOYeouWcJLHkZD3TIuc82+El9D3CV7zav+AdYwfw8jTK77RHyXjFNa7F8tzqJM30qJY2OOKmXcqcYTtLRzxU0/2CWra5j341gJR5j+8Ty9X3GMX83fU7C4SzAly2s4n8AIU9YwTZ4SuQp5nt7fnT83/cjFBekcpqazvJpr+aoYVkHPU/0ywpzisRLskj1vGjKZtnP7N4jlspf+M0OfCuNJXIo/e+wADOZmKT1ylxacBdD1WIlQoEV5SpSzO3+ew7Q1zJ/FGbaco6QjIRypGxOgZa/6crhJ4+2Ykfk0N/3EEWaZR+KXEOYZ1kfg5iOWGEwbdWWkMr2Scr/wHjpyKNwGg5nWMEktPVXW5c2K6Xs9OY2hE8I8c9PP/4Y1zE9xlyzvkl2M5ieRRABdyRoA4hJmD+MAT7gGL10vPw/C66YfGEx8kaWx3iFJSTPyLUnFEBkyM/ExgSwcXdn0w2Mle3GsBBdq25lPQ/dUvF8EGpA/16Smp9tu+rFMZQ6j8l+BtdkbbniDbFjZfPHUQPrXSoo8UX3MEh71ul8XxxtVHv0Jd8niHCZ3ycY0KeWA5d+L//GXT4S/wDlMbvqRKSTmo/XJupRoU2grrgFzGqLzCrRLLrkEN/3cC4N5PcRSoWd4lywN5tuxhpk2/RgNczMtgQzBn3fJXnPNNeFXsIZJg6mrkBwrQsX8kcPypI6AAMFTXMKMP+PgJ3+JZJxDg1+OlXwfx0r+9Zf0HCZgll2fyvuF/oD1fzvaGWermjf9MEd8ModR+POmH724wBl/I6iMuvz2x19GmFPbws0fwBomDKZOlTP7SD+E/pkZTqlrch6hYz5A9dTLuOnn2bAUI0y9EHFWXGHBn7GUfzxW8kUcK8E0tpzDBGlTV9aILx3mDjEDlj8v+rgr3SVLGvnx/b/Jn3VpalXluhFmJiC+pHyDe0AnHMTFBR/lCPOLbkoWKCakuZZa3AjsFpd1YBhakBO4S/bWaDB5NR4/NyNW32cpMXJmP8UnT5TehVM69egIEzf9vOdfYJdsHGFWOBaUXPLHHpDNOVdWFiVujDQcM5hyrASXr3fQGTJnc1ARjITVJ3/bJft0nJJVPomUsGzTf4sUKZHI0cKfG4x+GSNMXhyuN/04fYvXhRO1ytNA8YBYxgCdPO3ukpVjJaOVf8qFZyfADq7GwxqmXFyAu2RxcUE3+S0p3eKRBLl06ziv/2VLJ7BLliNMvbjAmq1eXHAgvA1TTN/jOcwW/Y+D/4rly7BLliNMrmFy3cfp1fxgxBMHKQsI07Cz2+WIkh2RKokRAhExbGcn5U9Tsrh8/cRLtks2KkoTE631EazEHCjCX5xGyu3bsYaJLOyOU7LMWvGAjtd/O5UihfKo+O/CTT+P8/J1jDDbePg8FtT65K8XF2zBpp+7dYQJw5WyIPIPpv8iDymA1yNcvj7zIkeYU8gyzYhu21Jeuf2NVv5uSnYPljjmsf+76aa4hsldsizorLUkdeFpoCjAGUwFeLzkTx4j2cHNNIexS5YXF6jBpCKJ5h+DmevjJMNSQzVWfiNi8iMBL3uewCdtbrn11vApHCtZi2+nLYbBTAJL3jSDxp/p9VE4/eYzNyI4R2O4WP+nD2BK9v26Szbgsmv+kweEc6PSHMQYUb/5jWgUpzWOqVeuwtV4uEt23769uLjgEFiBAv57+Yu7Skfgbzf98Gq8Y7JL1ohpLhPPMfC3XbKfR2d/8eYpUQd1o5zUNR1lVzEMj/DkTx7DzgBeNCFX4120CWuYeg6TfPTJeOYz1zCyqzE+Pvmjh8dKvolzmB/4oDOYkYDJlumV8pJE+SBFj/q/dFJ3yf4hNk7p5700te6SxeXruLnkEYwwje64+S/HBfrcJftPf/3jOIeJq/HAQL5NizqabupBltQoqoJ8Xphbbzy5amh5pCshyH8ad8nu+as/xsUF98uxnfmq/3bTD6/G07Uy5KKH/u1FZND2Z+cwuUvWy2u6EdGd/PrGo0ZPeAJR0qmSkEVqMaYGbCl2yW6e5uXr0WCyACiHaFupx6QCsZeXbvrP/GFo+UYBehw8zs7oLtnla7akMh5/+WNKFnfJ/umXPo6R/8+w5weMKQ7EGFb/qoGsB9UMdsnGm37S1XgeUfyKafgEJX/yUNV8EClKTh6hIMqT8XFLYq5h8puReUpWB7NauCJypEqifAymIfu14Xf3eB4r0a+VyNV4MJhLYEAbTyPvwBChIqbEG1J0S0c0xDUxmZLlLllOk4p2GtxaAIPLvxJTl9vxRYqnOSWL74valGwL8T5AvfnLLtktm+PVeHqshETn0n8fjCNK5i9Tsm/AlOzn3S7ZPvVflhkSMYN4YlE5j7JNFxfI1XjrFFgkiKAx8Jer8XisBJ/34hpm+WT5c132dd77c8pu+l/GXbKYRqQOr7/++iT/7Aw/iMvL1+uvlYyXPzduverqq8M/+Q3eJcvL12Nzgh7ZmWmpZDkyMJYU242UHcN4JJFRMRyMME/gph9OyX4lT8lqgkF/e8svu2RhCfRqPOZDn276t/j+XeW/AyPMPCXry9z7M9VB+ctNP7hOk2uYcnGB1AzQS4Viuu1P/xiPiEGU3EuZad74tZKZF/aHZeu2AKBGW8ocZBOrLIYDDsJ/UTj48x+GBzkly93LvBpv6Kd3+csu2c9+urx83bIKniZbUbFTHYZ4ESePMF2kz7MhmmtxsukH5zC/cN8XDORcZj69F2luSKCPp1GtUKN4r+Y7bsZdshhh2tdKPKmct+zz8fRLTCPaAaL83HXJz3vxWMnzdqzEMgVXXkpFqzpR4aR0LPuTP12+zpt+8AIi1/rGvDpiWX8j8OcuWblLNl6NV9B3ARPVgQbmT4P5Rqxhcv2tOIfp1K30HWDA+mf5o8H8Ce6S3YQR5rnn0mBSguYjnBw7xXCAPvjze408h/mBD34IBvNn4FTUcse0imlVqkN3XkPlsRJuVKEO+XkvyylHmM/K10q46ecR38oKKkXOjKjD6OY1VB4ruQYjTK5hrloLgwkbw86d8brSleu/5c11K6VmkEjUC8Sys+WmH44wefk6Nv1gBG/8i/wZEO6w7Y+7ZOUu2Xg1XkHfBYyVA6nQUci5+Ovl6z/HbvvjUmZCp5VowSEFWlENCFdHmFjDxDnM1TyHKVOlmsVh9M85PEln9T/KyWMls7h8nWuYcnQIGxLHX/7x8nVeXICbszh0M1GTQugxINy59K/pmu2Pu2TlLtniarxcc7WCklH5GIa52WB6PIs1WB0GPF2+jnOYNm1QZTMLanS8K8K7Zm1KMe3EsBwrwQaIW2+9RaZkV3OEieuh9GlmrAnxTHMyO3hbx/Ju0gcfwLESTMkePcIL0fVtVLKT8shUlkEWosoxqPyrVqzC1Xg8VgKDyQ9IYw7f080tLkJH4C9rmNNu0w9oWb5FB4l2lmtY/jYlq1fjbRbyxQ8KqZv+Ba8uxDqciOFmplO4fJ2bfuLnvbqipjTwDMlfv1aiFxeky9edHgct/176X4Yp2e3o5OVYCa7Gk+qGrNsa5o04VyaXr88T/xWYkn3V1bzpBxcXrMYaJvjQ2OWhJuo8jmcs4m0AEqEGVFe6gMeH+CyQ+on653LLKTmHCYPJD0hjDTMlqtJKsIDFABzTYy/9y00/6PHTph+XTrKXaGe6Pu8CTThMkfE8/8swwuTVeHJxQYEvXPIP4iydABNuptvGf2IxzmHKCPPucPZ5m+PSsKah/IPqP73we/4wXGdmOcKMl6+jfGXdmTjWRYHX6OW/JByQYyUwmFjD5B4Or9c2+TMs68n02Kv87Wsl/NA8aQzb/5QGUwhplqUQ7a1DAuUPR0Qf4S5Zd6yEGCJGUn4SXxMneBbWFNAQNtJijZDPe/ED0p/COUxeXNByrITtkmbL5V4bq/HkqwkeadYRrcIW/BOYkuXFBe/lCBNTsljClFT8laeZdYCNSfTloIvxaIqwAl8r2S7nMDkly29vllMSiuWIMQMxWEJzSHw5aOhyNpJX4z311F6sYR4DIQhW4KnRJwt7NNohMSIGS2gO0bccX0aRc5i26UcULYqcU//se0lDnh71T+PjsRIYzAtxl+z6eoQpfIE5Jv7+WAm/h6kSMSel/NF+SBZzjEeLUBdZ139OyV6CKdl7Pv+HmJK9Tmjxx46V5M97EZoJiS8HXYxHiwgFXln+nJK9BlOyv/Ibn9DPe5GN6dNIWRgCy/EGjhBglEx+aXLGgwH4ZUemFDK6aoRnXtKLCzglyw90+0eTGoEYE4MlNIfEl4NJ/u24UYvG/fHH98TjC5ofK8Ra/+SmZByxDEx0NVcZZxePlfCmn+MnJCrHJILZ4yL75W/HSt7Bc5jcJStDruH1H7tFyAMaKD8pGuSQU7KzmJJdum6ryCGFb+VtElgYiYYrf0zJ7uY5TE7J8lL8+ev/eJXkXbgab+PGi0RlLEDLfhRQRQScxSJPS/+jBrORsibmEKK3uYZpFcy40SVrJjBfHZYojZWCt3B22QAnlk3IOUxu+llzdpc1zJykf5+JZS5S5nOY7VOy1sCcaIlfls5AGaK+MsypS35FYd9eXFxwFFOy8oZlaZ1rycxllPdH1CYoQ3gOc2p6C9Ywn8TnvY5VyYHXRf9C2siYOwf/NMJ0U7Ixi6VjejfXxZYgF3Jeoqc1TPcBaUemt9domeuwS5CGZIT5F3ENE1d5pboQ03n1KChD1FeHjSHglf5tSlYvLrgOiEzLzRi46QdrmPz6Qn2sJFMXVPxkiPrqsMOr+NuULEeYK9ZugKxqCPnB4pgVS5zcTN1ACqH2dOIvY4gPEad5Nd73Hwh/9H9jSlZGmJbWuZbMXEZ5f0RtgjKE09t8+d6NO0t53jnHRGKV/JGkOoZsbkzSVv7c9MPPe+nVeDmB+uqwcQG8T/5phIm7ZPVYCbWrT6ZeQnrpXxWBlOmYiKa1KVleXCBGFETEHWv5Y5csr8b7Ii4ueAJTsvPY//Ec5mfu+my86Sfqh4oxpdF1j0UpKIfKEWZKkBG6gQ7hLtnb5C5ZTMmi5jCFfywfHlb4KwQLNlwYTG76uRWXr3/q07gabzW+VpKmZEFRsurym7zJoyiGGjORY4tcyc0xD+BrJe977/vkLtliSjZq1/KoKdveDXM5lNRdCES46cc+73UUVw3yzKfRNtdSaNj/5ph+9E8jNjWNr5Vgl+wL3CVbMbBg7WYuVHV//HlxwS9jDfNufPx4Cjf9mK7NJU3vNx7ZbYltARH/5IlT4ac//dtwoaxhYpdswkueBMoQh5aZOp/HjGCAuEv2G7x8Hd/DzHfJDl/+krFIvtb7JEaYvEs23fQTs8Qp2YNYw3zbjXaX7PzwX4kRJnfJypQsNv3wZVsWsZBpy6tkHb3oIlhRhUKvEW8x5u50rVNhaMapHJjOOmH7vNe/+8oXMcLMH5AueJA10xS/pMKnP/k5Jcv875GRDHr9ioEFa1d5GLrPRY7x7W8HL1/HCLP1WIkloWuMIsyCtWtJjDNPDOhdsnHTD/Q9iv5JP1YtYaV8MCWLr5Xo1XjTgAOaRltWCoIuBTk8/3gOEyPMPfIiM3/9X/paCadk8XiZoyTOaYmNIBhMbDWRSq/4LaiJuI/j5714rER3yaqaHUfxNqpyO1rEVSGkUUqr0zq1CG+FS2gwb8XFBZiS1XOYS1rzVPPXsM+19xs2jL2T/wTWxB7iGmba9BNfBnq9Ada1P5KeS349h7kVFxfsx3qpGsxafmqBue75BtoHf1nD3IK7ZDElKwbTxE95bdf/MPzJi5/3+kMYzIs3b2LmI5e59d+OoRR8nPlPYM1ZLl+/aCM2/ayvpGLQMGu/oZbl77EzhvJ/CR36N9MHpP0u2faKPVf5G326iYJYlg42uummn3uhw9dhStbiuemHH5B+W7zpR2lYrKdImr4r90xKPIYShchfpmTFYH48LOc5TNR/6TNjUtMTu0+mjbUnxmpI74x1QxJpQ4ptiDyHuRsjzH+HNUwazPmq/7KGiWHubkzJ2kuw5YFuLb/BGENZ+21/enGBjjBH0X83/vYB6V/jTT/xe5ij6J8lxf5PlqLBlEdHYBR0Shabfpat3aIvPnwpgiKs9MZT/noO8yGMMPdgDVPKJda/bvIT3nxS6RVRXv/6tRLcJYsp2fLpv/2LzLCWUh+0ioOxQkGzUo1pKHZAh3FuUNYwcQ6zzK4LmVdcCyjlyFTaB0lauBAGSag/+VoJdsneiZt+Vq85GyPMQb6HWVCMuQeMPEk/RTMHizBiwbGSh2gw3yef97LGpfaS2PqGxYSmOYUaIRcyr7gWyPLzA9KXyJTsPrl8vXE1HpPEZ1T+dvk6z2G+iBGm6Zv6FV0YI+8OyV8uX78Bl6/L9zA3e4rCV8h20b8iaFlowuhPoOSR6DQl2/PzXjkLKTU8beXfi7+OMP8CI0zskuXXFUgMT1ShBnzIIsS1QInfTf9yrMQ+73Xd66WMSHp2dgYjTP0epn3eK1OucmMR4lqgP/5yrMR/3ot2jxlAxykmEl6R3xQqykwB1YWxpHuGadE5KRWtcwDNypTsn8jl642r8ZguPqPWf7t8necw0TNLPki6m/6F7RD80+Xr6EdSVSAd6idyzb7B+U9MLA7T09gliylZWcNkIRh9KikxdV7Gd9H/YioANFLJCIk4wvSf95JrO4E71vJfFA7JlOwn5OYs/fgE8moP8x2fUcvfLl9P5zAh56Dtn6rtMiWrRevyKwDP4OBBXFxw+0fSOcyod5MPlJHaepQMVZ8wVh5FASNWeeY3Y65h2pTsJz/zaYwwMSWLTT9ST2IGtZpYZQER84rLqiBN3OXCEBwoevl9xQceeCjeJVvvkiVDpGVyXzEZQlQhbgPANPEBLisADSa3u/PiArt8XUXK8rskKODh+csIczruksXl61oBST3SzFkTmDagCDSsPvmvwBGWG34ZBvPue3DTz8UD6d84NkqIaqfeIoKVvx4reTRcvAmXr6+LI0xLLO5g5d+L/0s4KvBNTMnqXbKPA5UM9GkUdwNgmHApB+URULv+J+Qu2XJKlvJzY8RzuBrvbW/DxQWPfCcRbbBrABJqX/wn5S5ZnZLlTT/M7xkMQ2S8xbwjM2RBKdi+FssIRAAqGIcs7GSRsNH+ANOdjXo1nn0Pk+dclcL463+xS5a7eymDqIQc1cfgqPxlhIlPiHHzYNkhCDP9AZNh+XNKdgp3yf7a+3FxwQXToKfT4cPqXyXO8lsGZ+VqPI4wp7V80eDGX/46JWvfw+SFEqPqP2m5qv/FLlkpb+WU8CsPNVJgACD9j40wG9XaeqSKkAX5PcyP3o5zmF9wV+NZpLhklwvCmJOpAxcpUiDiSBo0PN6reQt3yfLyddwlyzXMRn5TYnpMXHNjpAXNTXhMoc1aLy7ACPNfYNMP75Lllw2I3/JUZVJhlIKKLMDw8vtzmPnzXkBy8nv8ikHTSBcIJX9u+pmewi7ZfVjDxJV/PZ8R+XN08sYbfhlnCO/GOcypzMr0bm6L/hPyHPXPyovnZvkBaTtWoumNgbmRqgXNHZC/7JJ1U7Kjln+StfZA/8tQ5+UuWYzSr+exkvjosRJdw/zeIziHSVlan7L8GeLTqz4pBn6BvGISu2QxwvwVXFzAm37qh/rn6KSdPzPFbT55Olb4A9wRQ4ooWgzQsHOY+fNejJModaIfkMYziP656Yfm/vEnsBuz2+YS4zACf52S5ddKToFaLhyRn5Ae8hj7XvIvneBNP/o9zDUbcA5TRn4pZfT0r39RNstFyiMOLJDH2ZMvhzO8SxYXF0hTdLKQyTjKn+V3gDf9fDmewzRZoo7Eif5aQoYHKX9u+rnrM9gly3OYVA/pZo/IE6VnBKKARAbVs4hLmJo4xyR6AHHGlqM8Ph7OEdHv/d7/Eb70pS+nuHgEVjODtoLlx9ig9I2RvzGnKU0sJ2RBcchFTVdERRJugHjLW9+KEe3vwmBiShaXrwslZIty8aEzN39BjT8xT0KIudIwR5hf/dr/K+uzz78Ag4ldidIxCC/FojaG4x+ZxRxM4kL0bThTtf+Z/bgkgRe9c1t1KT8bxDj481zf9NTmsH//M2kNU3JTyT8O/pPLJ8N1114XPv2ZO8MGfE6H2lWpouDitOufUUlL1Pkc8p86eRobcH4WLtiwIaxft07Sgp301c36J4zjz+D8j798UkZ1v3v7R8MTf/fzosEyz3PXvySZ5EFCEWT1z/S/DOv2U9NT4XP/5+fkph8mICrXMHk+mLcN/ef//J8GrP+efzf5taTY5ngP8JbLr8MeglUyjtFRJWhYnqV8kCm66qiHimht/4CnR/kv6cyEY888Gn74V9/Ht00xKgMl3/7nKv9+2//5F5wvtfDZZw9In5bqpMkS6+io/Dnld+C5A+E06mWz/iUtQc7e+mcVFr1W9X8C14KuW3tuuPzVvxKWrTxHDeYI+m/2v1qESzj1OosL2Be/QkfD5AFrz/OYVthisOI7UZKMnn7LH7Rm8EWUH//oYZk1ORM/uzbu8j99eib84v/wi+EO2KuLsDnQHslzyrhBk3gCaNg/G2Eqep3ah70/SKf7xfu/COPyVTWoiKZhtb1xio1fKhkKZFj88ImN5psm0xDMOPHQx65DK5PG4FgJLqLecdll4Rd+4RdltCm4TCWva5ZWU56Jc+xKSXF8xSVl4e/eHgQ38uc64pP/9cnw3Ue+i7fE45gCQ2yVN+aLaeSHcXyINqD8y/AVFn7f84Vjx3A8Apc1yyUJTfnHwX8CIxaOzo/hJeA477kcQP+D8qdcF2N37Ktf/Q/DqhVocCx/UZiWbC/9t5V/zV+1D4Iof64xv/jSi/je5/IwiQ+Nj1r+vfjP4OXpADrc73//L/HxgUMjl7/UGa06jTrGOs/ptw9/+CN6l2ysbDQgnI345//83eE//uhvtByHrH9CMvKX5iCFpPWP/F/5ykvxMncAn4PDd2FhqE03FHwc9Z9EVmHm4yqMZP/ye4/g5XQm8UhlzMIfQ/u7EMeO2B/vx/KH7EaP9T+qDm2XiqBUo7W/Ldu2SP9x6jQMJgWco/8blD+Xo3ijFc+H8zpN0U0kMmj/w+yJ2Exfyb8CZ6kvOP+88F+ffEpf5J1uxln+/MD8C5jJ44zlOPRf2x+W+ZnObHj9698Q7rjjY/IZQOHj+n+Kr4+Wv4UoZ6FgKEnWML0VVSQmoQbxSBpNyF8+jOEI8/bf/Wj48v33A8BXCsJZzREryjcHAVE2UjOT/A+v4BHOztTeoiQhX02VmlQ24CxftTxcesllchvOUVxXJx+AJQ3gLUa80BoT/0l8uHfTxZvCk6govEygg46iI2eUOKoFU/Jh/sbAn59Q2rodN/3gLlm5hk/IN+UfB/9JjDCnpvE9zP37sOnnmOqsT/0Pyp8jzG1bt8ldvC8cexG6omD4G7L8e/Ffhun5aYzSuXOUO43no/4Zf176Pw0dPoMZgWcwUp+P+qdDM93otgVTb/fcze9hvo61jhqUm34OHsTl61jD5EudvfAjSpqNVKFYP9WJASLwQTC1PykTwFg04kRcOFzz5vcwn8AmmWcPPgtjRspC3ZAdLUThiamTp6CpKC6Nxq5dt1amnP/Dn/85bm06DayYGeLT2CBMPccfQhP9LEsJtox4/ttxCcQizEztxtV4+lUgjW3DFRhJDsFfzmHGiws8f80hfgHsR/+C38Kfn/fauHGDbE7kSHa+yp8v8lObp8NPfvzjcGoW5aKFoGJE1WVZSnCrThWlIf+uy3fJRSpPPfmkLHmDkZYv8VvkFzJD8JfPe32W5zAxJVs9A9k/jjBhsOwnewVGePtz8LlDnXe9+12UjmKxJbm/GNY2zj7MxWU/5Jb0kjbhlLTw1tRZuWpl58orruycd955Haxfsug0naQZL/8VK1d1Lt91eWf9ueuFl+XNyzgu/qtWruxcAbnWrV3XWbzE5DY364n6G5U/OsDOjh07OmeffXYqiyQH9dlF/8PIv3xyhegQtzIpr0TbyQSe4+A/Obm8c9WVV3XwpZIkl3ZJTqYx8cfms86VV17ZwZv3vNU/yztG6R2sh3UefvjhogHOzMx0ntm/r/O6110Xy2y89d/4Y+NW57WvfW1nw4YNHXzsYOT6V/YPWg9Y/mtR99/y5rd0lk0ujeU3P/Ufm346WBPuLF7Mt9/M3+QdV/1nmbH+W7sp3Mh3FP44VtK5eNNF6AvPn9fyxxWknauuuqrDOj+O/sdk9i7Lfxf62qnNUx2Muea1/LHpp/P0009LW6JpK8zbAPaP05PV4yH0x3DpdA4ePNh517toME3QFtd3VPBrBwk8wn2YNGRyPMY5mhiUdHBesXPF5VeIwVyMCpPoOLzWfJCP4Xh+hPuw449PbnUuvxwGc/25MJi5cWU67KAc3V7+OfivWgleV1zRORed/WK8CAgPn6aNNvQ0DH98rqmz0wxmD/mlbNr4GqwP/pgeRXld3lm9ds3A+h+U/7Jlk2jYV4oOUxmlvLpy8uU9pPzsPK5AJ7LhgguyXMarzfVlOSB/fHAABnMHDOa3tH3G9nd6dhYGcz8M5uvmzsMI/LFxCwbzNTCYF+QXR8rYR/mncuiD/5q1aztveQsN5uS81v9tl2zrXGoGk/ny5RHlGkf7E4OJ+t+g5fmNwB9n0mEwN0lfmPTcVvdEpuHrPy6IkXaFa0nLejbm8t+5a1dnaooGM/a11E03eWI5DdP/3fj2G5PBTDYNti02K2cDPYT+GI4OpzcFWX4j0KXOcRUwGcwoYDchariGW94io5IyvhoGKhLHLzDCvLxzPt7sOcIsFDpm/hz1qcE8rzNBXqgg5Md80XgXvKUAFZbzXeLUcA0rTXkRgFw0mFZhMn40jGPibyPMc87iCLN//Q8jPw0mdbhmzZqGcffyN3QZ9azw/uTH9K+8Ca8vRpi5DLI+fTkNJz+NmIwwvcEcc/2z/PJFQEaY3/62NVlpgRxh7vcGc57449rGzrUcYW7cKC9zzNe46z/LeS1eqmgwcRVgameDlL+9YJne6jplcBthLlnEjnm48u9H/sJgFvV59PpH/hxhbvIGc57KH/sddITpyqUf+bvp3+BaHln/u3btFIPp+5n5KP80wqSNK+ycBuS3gGeD58EwmPHxUIOZi50v8sAxtIMHMSVbjDCzEqwSm5JSBY2Fm+G+EuVOzsdjh2gHRyIwdYkR5vrz8kisUenHwx/X1XV2yQhTp2Stwfk8qd/xQ8NIMtLfkDPiVnA1mFdg+hcjTGnITR2Mi/8KGDF8SaGYkjWZuvPQFwXDK93u8k9idGIGs9BVJb/RG4X/JEYmnDrCLT/S4QrNBp92/Q/KH8ebOldwSlYMZnf5+y3/XvxxcYEYzG9zSta1v9PJYGJKVuqd1RmXnzHIzxcsTslu5JSsvf134zdk/Wf+12KE+VaOMDEFXcqjcnWvG07ePvhjDbOz/dJyStb4decxeP2nwWT9N9rqjqf+kRbWMKPBxJSsyD0/5Y81TGlX2K1d8Wnh14f+Ja+Neskp2V2d6akpvFjX5Tne8scaZuepvTola2atcM2wFcAYcO2vZUrWI3WnggugK4NpivSuKaGaRmworqxQvgLLGqaMMHVKNq9hej7d/IPz1+lfrmGWU7JFnoqK2o034b3580VAp2TX69pK1IvnZY3Cw7zf4tvdzJ+80hrmAPo3up6n91u8d5djXZHrwGtWr42NbfjyN7qep/dng+nXMK1Msvw+zVwGrcCNZU2YrWH2PSU7R/mbbKmeuPJnR6VTsg8XTRg7dWVK9tp+pmRH4M8XLJ2ShcFM+wZUr236ybKY7ueu/0yTpmQ5knHy1/Q8T++v8cpwLn+cw8xrmPNY/2WEifqv+cj8izyPwF/XMDd11mM/Rymr17v5h+e/+hybklWD6fPv/b3zMDf/NCXLmbR5LH+cw2xOyboBYNHIGBAj2bR/aUpWEjTj04hSCUYEOM9xDfOd7WuYfuheKjcr0IbgpqSm4tHJUoEcYXKalCPM89ZjmrSaU28xXqPw5/RvmpLFZoc6X93ehDxev/zFOF+pU7J+M4LSivJX8g3LX6dkd8YRJitnLItG482Nzcth8vXDH1fjiQ5XN6Zkhyj/OeRvM5g+3yPXP8ef6zncYHTB+b3XMMfBn1OynK76VrHpBxvkYTD37+u9hjkO/jIle+1rOzjfWiyD9FP+g/Bfu06nZDmitjo2H/Vfp2QvjZt+5q/+02Cy/pss46x/pMlZDnwsveca5iD679b/ckr26quv6kxUI8xxl/+uy3VKlgMj09l8lL9Oye4tzFgj0If9yyNMQzZXqbX+EuUgR5jYJdtVgWLsrPPt5TpFVZ23VDZMVepu0jzCTIoF/rj5c0pWDCam+GQNE2/pZaV3sozIX14ELtcNKzIl2yb/mPjbGqbfJWsV0+sz+dE4Ve7B5ceFDHjBwQjTb/pxhsfzSKMrxg8h//Jl2CUrU7LVCJO0KnolXyvHOeqf07+NMM+3NUzQH3f9szxyihLfVsSmn28XbZBrmPtkDfNakW+++HOXLNcwL9iwMbYD05dzxyD/mjXYJWtTslV5DVv/RIek5ejZGmbbi6np3OMTNgx/mZJF/Rdajn/i0WgH/dc/0uAI8yJZw8QSBOjPV/lzl+zVaFcTqIfz1f9Rnp07sUt2akrlqPQ1jP6TnknL0VOD+VRsS9nIJZ95zC1aXQ7kNcwEsxR0nd95iXoII8x3yhomCtxlLGW4UTFyQ/NvQILv0teFo1OyWMOMu2RxcDdWFKM3Xv6yc7XXLlnKhfzmfA7PH1fjydrsudiRaw050zX5Wtwh+JvBPAvHSgbRf2t5zsHfb/ppSz9O/nKsBG/COMxdvaG26C3WyWH5i8G8AiNM7BzN5TR8+SfdtNT/vEv2YW2Hsf3NnMYIEwbzujQlOz/88y5ZjjCr3eJzlH+Sq0sf4PXPNcy3vBVrmHGEmfXavfyGaX9mMLm5zvOXvLbov6cMPeTnNDrrf6/0o/DnDBvOiXfOT1Oy81P+eZdsyxpmD/l7yW1xXn6uYU5Nw2DGEeZ8lb9t+jEzpqYthWjS4mMwus4fvbw0wEXENC2OJbUo3fTzzrJiQGgKLELXlTCFUcDSkFjQ6lcFRrjgZRxbw9QpWb9L1nBcwxoDf575vBzGef16bvrpNf07OqQPilcAAB6vSURBVP+Vq1bJi8D69TiHyRcB6qWS3ypZ0x2M/3IYZ13DPGcg/Tf5mr678+f6F0eY3DjA9GV9sHRw+yj/ufjrlGw8VjKG8u+lfxthtm/6YdmNr/7rpp9dGGE+LE3O2l/eJVtv+hkvf930c62ew6x3plv7Fdfqw3D8167Bpp+3vhkG0x8rcXWk5pHChtMf/22X2BqmLbOMp/4V9RPlz1kB1n+tR5q3cdb/vEu23vQznP6lffo+J/p108/Veg4z6dzpOq2PO9gQ9X/XTmz6md4Mg+mPlVjZmut4pLy0xPXgf+Pb3RomGpO1p0Htn4wwU2I2zRRIHmmw9c9zzx3svLsxwmwRAgLatIFUnCiw9xeVTvCzgmgw05RsdaxEaYCnFDLTjM6fU7I8Q6jnMLVxpbwmPpq/UfnLGibWZnno3kaYUoFTpfB84B+BPzvAnZflXbJJporXOPhz1Od3yY5S/kV+WuQnrytlhMkp2dHLv+BX1dWl1bGSUcufvNr+SFdHmO0XF9ixkvnkryNMvbhAlyZGq3+1Xq3+cYT5Zk7JujVMizPdpHBL+UuZJ3j38ucI89LteZdsotlSBnVcCic+vl2W/c8OjDBZJy3vKrfmK9EBT+/3uIpf1ouEC/7ZYJ4XaZT8a1rD8tcRpl5c4Pl7+gofjT9HmJunptIIcy75h+XPEebep9p3yRaWLgWSpzB9jSlZRSuRC1jcYstNP++Wm35i4aIwTbHm1h28F7ZNMTbiUDxWMryxL16Ec5i4fYfnMHnTj2xxj4XkK/CY+Oumn10wmDzCghGm8GBesnypkY7I314E5OICyoWXg6wjlX9c/GkwL+PFBXIO0zd41zjHxF9GmDyHOccaZqon1mkNwT9t+sG0ttEzdxz1z+ufO1evxAvOBRds0HoxYvmnfLbIzxHXDrx9P/zth+M7rLbCmdOn9Rzmdbi4YB75c9PPa1+LEebGDdoO5qH+U36ZkjWDOUT5p/YCXZg+zfX6ocHczosLbCRTyGN92OjtTzb92JSsLx8rY+emfBqsD/n58rJp08Wd83jblKc/h/xJT8YLbi/+eg4TI0y8JNqLaMaHnsh7DPxlSnZqSg1mH/KrHIPzp8HEt4BlQFhat8IeFm3NYrz9qwymI5W8ySPpLSRrmGmXbKxoXoGpYFwlRLwqvUXgtgIEDHcklzf9xOkhPw9uBVoU4JD8dSNOvhovVxJnWJjXQtbh5Of0L8+XmsFs49UGY6UZlL+sYeLt9xy5Gq9//Q/Dv1zDHK385+JPg3nlVVd3zl2HEWZRJlZe4+PPKVk7hzmo/qWhD1D/89V437J2K+5pXOoqa5g0mHUdH6P8djXexvqmn8hzXPJ7g9lW1m2wYeq/rGFeekn3F262qaRPqzvtsF785ViJGUyhN776R752DpOXuMxn+dvVeMvqm36ijsZV/t5gjkP/WSdWhqp/WcPsdQ6zsG4ImKHLHsGoDKbD82kEtfxpnMNsbayaaa+IVn+d1oV1DRNrfbxLNk7JehpJQS5NglnhRpdwnzb5XVoZYWI0yzXMdF2dTfVFvJTO0W3vrHvLv4rTvzSYbtOP5N3lR2WJjW4E/svlHOZl0WBW+ar51eEB5S8NZhed+7Ko+dXhHvx5pZrskoUO63K3sC+vVn/Nrw5H/jYl23oOs5HGGuxw8nOKEhd5pzVMa334okc8VoJdsiPWv6SLOu8I8wXrNbzpR46VxLX8iJfSjYG/N5hJnjo/Pcq/e5pS/9vkHOb24hKGJEfNrw4PwH/nDtwlWxjM4co/ySU6zu3fzmHyiF2B08hzKb/hJpnnaH9cw7wSu2T5klgPSDwNoztM/0c69aYfodeQJcvP+GH43yjnMG2XbLRzySha65rb/iWD2ZI2UrH79hwGvIfkpp93xpFOFKgq3FLRGSe/nRisdL1CiMsp2StgxHjTDy+CJt20LibKtfSsJNHv4d5PhUvY4VoauLKu6G760Qrh6Eda4+C/UuTiCHN9vBpP+Xj5x8WfU2y66eesnvK3V8jB5F+O6+rkWAk2dEj+B9D/oPzJ6yqOMNPVeKOVfy/+PAN3Je6tveD8DfNW/4y/bvqhwfxWMU00wxEmzmFex8vXU1125WN12evc+1Oa9vpv/Gkw9fL1C9KULOO0Yxxf+1OD+dZ4Nd781f/tWL/Uy9eRd9FHb/lFVsorf06/UZfd2v9OTKOzTpqevM6M5ij88dk1nMO8GMtTuulHabn8jan8ddMPDSZflhz9OeRPuL7OeX9V/3SEOQ19kYfymY/+76ab3h4vLjA7Zq6auTKUDShNqMbpLwxmhZqCyeNTJz/vktVjJVapzHXKjRUuKSApJeKIIi1d5cY42yUrV+NhDTOP+ir8tso9BP90DvM83vRjO+q68WqD9y+/Tsl2ubigl26SrP3z5xQbRyxnncVdsv3r3xp5/+4iecOWm35wcQHTjVL+c/FNa5jpWEn/+u/1VtwW56dku+drPPz59Q5O79kuWWt4eZesn5L19WA8/Ffgsv70tZKB2sFg/O0uWb/pR3Q75vq/fRt2yV56KYylvnDPyWNI/mow600/sXyG6P/qemZTsvxyUx2n4cH0304jdFav4U0/NsL09Wsu/2D87S5Z9vNFXobUf+rbXB/J/uemG7FLdu/edMuktadB7V8aYdYJza5mC5tZ0EeD+e5qDTN1jC6zJoDFmWvwQklFOhaMvg2ukLW++Hkvd/tOTSuHfaFqQVicud342xomp0nTsRIpvFigriBrWjncH3/bJatrmFWFEV14nt6v9DM/jcvhJn9ejcdNP+ecfVasmG38fDr6PU/v781fLi7gph8xmGXech7Hw18Npo4wM20vx/j4y7ESjjDjxQWZX8mjrNNlXJ2mxM355vQvO988wtT2JyPMePl6TSuHMx0rQ4sz1+Dd+C+Xr5XwWAlGmHFWR3DHWP9JL0/Jtpz3G7L+lTKp/nk1Hjf9LMEmQo031+uq9kecAdo/X3JY/3MelIbp3dy59F/k0fGXEWa8fL2mlcNejuH4nyNfK+GxknLjo3+RzPxKHll25qOMq9PkNUyfZ/Nr2uZoXeNrWjls6ekqDV6NJ5t+ivGit2nlALGb/RODme+WdYkaXgXIL37whewed8lGQc0A1m8PBi/cnMamLKgA+u1rJXyr0hEmcF3DLQsoKynBB+CvRkzvkk3b6ZmPOq9j4G8Gcx02rKRzmFFm5t3z9H6pBAPyl00/3CXrvoeZ9COytevfcAbhvxyj2csv3wWDad/DzLSNXtPNOL78Da8bf3wYG9fV1Z/3yrQk/QDlT/xu/NMIE1Oy81X/jD935OpNPw8XTfy0XI33TOd1xaYf30GMVv+NP3c6y9dKaDAxwuymf9Gv1B+fh/71T4P5Zn4P085h9tB/5gX6A9Z/u7jAH9/K9EqddSv/jN+dv276id/DNL2Mqf6Rv4wwMSUru2SNfsPtX/+FTJEO5eddsrzpxz7vNV/lT4O5md/D9LuXY9l6nt4/TP9nFxd4E2n+QeyfG2Fa8ug6g6kQDzgjd8nKCJPC2R8UboKZmwsk4jmcOi6nsQLnCJPHSrg5BkaMx0rc9JDgG+9KyZmWa8gVTht/HWHqF0TSCLNRIZXmqPzNYMoIE7ep5Dxn+Ys8VvkYhL/tkuWxksyn1E2Gj8afb9g8y7oG91EW+e9D/4rfP3/5vBfPYcZNPyaDuePkz3s19fNecf2I5THm+mfy6+Xr+eICmwHSKdl9HV6+LjLOE38aTDlWgk0/3ZZBxsE/jTDx4pPLrP/y71f/soaJXbI8VpL5jL/+7+I5TOiuGw+Wb7e4DO8uv57DvEj6QsGfp/LXy9d7XVwQ5RiRfxphYuTfj/y+PQ8if1rDtBFfZe4aQW/uJFIBzmAqwOMlf/IY2TM6Jes+75WFzZXQYOZ6YfNbglaOJLxVqFgQrODp817YJdtt1NfGw2Dm9sNfjDM3/WAXGqeibHFf0iJPnlY3v/GxeHMNri42GMWpZhpMmSqizJX84+JvN/3wajzjr2/pvfU/DH/bJbs2jjC7yT8O/pMYmfAD0m3fwzS+5tb6H5Q/p0k5mr3gAmcwaTStzKLf+Bhfcw2uLvQu5d2u/2UwIDtw+fq3eZesa3+6S3afjDA9Xe83PgYz1+D98F+Bm6Feg8vXN+Iu2fR5rzHXf8q/dq3eJTvJ837zWP/tph/77my//c+g9Z/7BGyXrOnd3EH0L7oQfWv9kLQIL5XPe10kI0xP1/uNj8HMNbi6vevfarRdXghSfHZN8tPs30mvjYfBzG3jvwtfNZqampLjg/NZ/nbTj2tKZsyiqzE+PvmTp9PRKVlL6iIEZGNVBFJU9KQPSKdOgm8IVri1SyUbLCtcFI1CSAWYaBkMBYERpoz6cPyCU7Jyl2wLHumPg7+OMPVYSeooWvnlPFr+B+XPDUZXXmk3/Qyzwcjnobf8K5Zzl+xljSlZm37qVj5lJff8an/mL1Oy/LyX7ZIV/Q1X/nPxT5t+1mGncapjxstc5tX7c94HkV/WMHG8ydYwy7xl+TMvz9P75+Yvu2QxhW6bfqz9zZy2y9frTT/j5S+7ZF/zmh5X42UZhq3/TLdund30k7/wUeq15tMt3Fv+7du4S3Z7caMW+QxS/r3zpfzLKVlf5t6fZRiUv9wl6z8gnfqm3vLnOpl595Jfdsni5ZB1vrfcRm84/ly60Zt+qvuKk1xGfy63N/+bbuQuWTtWEltT6TgjZzbUWl2OyiNMZxzNftK1JOZanGz6ede7uyiTmXcCJqPoYD7e+Yt0hNNgYiTG+105b68jTK18uYOs6Q7Pn7fv8Fq3c+Uu2WjELP9wNX/j4Z8uX+fVeHGdoyG/6CDKNwJ/OYfprsbr1gjGwZ8GU6Zk4y5Ze3PsxtPDB+WvFxc01zALOlZ+rp55nt5fpDP8mD6PMLGGibj5qH/GfynOYbLztc97WfvjCFO/VsIp2fZOmJ2j0RHZhpCf9YW7ZOXzXrbRboT653Xs/WlKNnbMRb4r/bMeafzg7U/OYbqr8XwevH9U/jsxJcv6X9AZQv8+T6n9gI6OMLGGicHDfJb/OTiHyV2y8nkvy/8I+i/ksXKFm6ZkI6zQm+GNgb+cw2xcjWetiobO+c3Itdi/bDAdUrKSBmuhlS5fFyV2qcAmqAnuXZdOlJlwYycQwzLC5EiMI0xeXGCXlFtn4eg0KlCiWRtUGuKqw4u4K1fiGj6Mjjgl27pemmTI+TS+5qbKMQf/VeCVbvpJX4TIdBMd8JSKVNDLeMbX3JTO4Tc2/SCuwE+4mW6iMyB/m5LteTXemPhzDZObEzitXcjDckoy9V/+6U28Skv9y8UFaYSZ9WR8zU16q2gkeMxbgZ9wlS6nZGkwZYTp2p+tYb4unsP09bigN6L8nJJNx0rQ5katf4XsTv5kMCGv4mS9+jSj8m9s+oG+C31V+q/rTr/8/ZRsTcPL48tN4H3yzyPMePm6k6OQZ8Ty55SsP1bSr/y1jEWYebK/mO9kMOvdy0kfmmZU/sWmH7SnvAvWjJxzXXsTqAuXBlMI+YQO04Hp5dV4+QPSsZJDGbVgEnZKUoU1G0WjsCMt7p6yzTEyJRvfdgu6ZjzHwF9u+uEaJkaYE3ZvreWfbizIcfDX4zI8h7nOvQjkSqU8sm5Fd0Py52XaO3Ze1tE1zP71nwyI6aAP/jySIJevY9NPoafUCMbH346V8AJ76kf4JT4xXOU9yVTgVXo2Wq5u+WMlhVwOZ1z8OSW7S6Zkv120PDtWkj/vxfqS8z4u/nzBulamZLGG6TbajbP+k5aew3xzh2vRqTON5aU6zrKNUv+3b9+Gc5jbiwtCTBatNxWflvLvhz93NrP+myxFPUn1LfJK4cp495DfjpXkz3vNT/lzSvZqmZK1F5nYL8U8F3KNUP/0HOZm2YxlOjN3nOV/00034hzmUzoWjGatYd36sH9qMBsp81SstlaHEL3NNcyqc5JCz5WwFr6hcFd5TGF0ZZfsKv1u5Ho/wmzBL2m2VKS6YGPFlA4n0rM1zG5TsilvY+AvX0bh1XhYf1ucRpixYqa8IWy8zGWc90fcXvJz49QOXNt1djyHWeKinFroNWT1ON5f8U8jTLeGqfzq+mCyDs8/rWHKCNPomVvzq8MOr0WeWv4JbEy50kaYLfilTkm75leHu/O3KVldw8ztj2uY8rWSlmMl4+TPKdlrr9XPey2e8J9einkek/wywnzzWzscUSd9+7rv67rn6f1V/ct0sr4vvYRrmJdiDVNhpa4Aa6GX6FicuT5PLq+kqWuYZjAzf+VXh7uXf+LteYE/R5gXX9x+rKSUabT6Z1OysoZpcpvr81TJX+S7j/ovI8zN0/KRjTKt6Qau8TV3CP5yDrOekrVmZa57NS1BObSIOMho9RAE9funAh06dDDcdtvt4b777hd5aiJMXcM8OSHvEAy/4WJVHG+7YfvWbWH/s88G8j0zO+toY2yKkCMlbIxOwdMHKgQLYg0zbNm6JTz7DHgdPhxmwYuPxvtfIzY8fxjMsG3btrB3375wlLzOnElqsfxkLlpL8m+O6Ud+6nBqejrsffrp8MILL5hARqTBdxT+2FYfLt2+LTz19N5w5MiRxKPwVAwsWLuWRuH+V2Mmly0PO3ZcKrzwEmfoSZ4EqD3GKMItWLuWjHB8fR68LgsHUA/3P/NMStmP/o1Oco1RoqLtxcCTy5YFrLuFe++9N1x//fUpkvXxCOrKr/+zXw8//OFfA476t+gM6j9TIsiGAO9iaRMRpiBpIwqRZNqdMQ3+FkeX8WxNGPGFV152WXga9YVl2JkFD7RFxhqOMBqR/yte8YrwD37hF8JfPvJIOD0zk2hrqwK7+NDUjMJ/88UXB3R7Uv/Z5XEqQswX6LfJPyz/reinnnzqyTBz6mTUlNJXnWmzo0jD8sfHvMN569eHk6B/+DDa1oj6l7zgpy7/s15xVsD6dXjiiSekDxxV/93k37JlS3jxpZfCwQMHpHysbg2r/7b6j2NR4R033xx+58MfDuvWrqXIUubk1f7ERuQjIwgGk9aTjU5jW1ATcR938NChcPttt8Fg3oeEpg7PgdCqK2lHk0QpihkRqZUqpmTDJA3m9q1h//5nwmHwNSOWuaXUGQTfMPxXrFoVtk5Ph2fQIR5FRzHLjoJUpcYU5F1gOP40Ytu2bQ179+4Pzx8FLxhMKQgnP6UYB3+M+sL0lil0GPvUYLrc05skqPQ/DH/y2ooXgf1794XDRw5nTolJBpkvRQ3IHyOxsOOyHdDh08EbTNIdpvx76X9iYil4XRaehcHkX35S7jNoRP6Ykg2vvPTScM8994Zrr3tdKh9sTgjHjx8PX/3a18JTTz4Z2yb5o+4IlmaBRm+xmE0H115PEWJKdh1s//gqkEBolNApQA2LAjaYSP2f7ZAG8TIH6wvUHZ4/RnxhYmJZmDl9SjpM489Mkip/5XWA+RuBP6aVQaoTZmcoC58sQZv8xBiGP/mcQRlhjWwk/Xfjj82BAZcvqK7AZ1T9a7k2y588cEoglb81S9WJ1x71RKirZwj1W/8mJqgv4J/RQdC4yx/mI+BSjPCmN70pbEH/t3jxBFXrHq3/lI+P1QoN6a/BxM0jzAhWKDAr1ViqSPLw4UPhIx9Rg0lMRuvjQuYV1wJK2fAlowhY2KiIyyR4MO0WtmyeDs8+91w4evQwlAtsxEW7IjnN6TOfFCGgDM8+kIkBS883681TFwd8IDs8/8LzUvmZB7WXiszfcfBnZ791yzRGLAfCERhMk4fk5RFG0YsM2rv9MPyXLZ0MmzZdFJ5BR//yiy8mfdfyR84j8V+6dEmYmkJ5HXg2vPC8jWZVdyScfU39D8ofB7nDtq1bYcBUhwV1YySuBQqMRvn34o/vo4atW6fx0nYYsw+HUnllypV0FjEEf9Z5XPQefv/3Pxte8+rXagMhHZQc6//xE8fDqVOnM5wVWOL5Ezsv4RvhZxBAJU5orE8A0VASmGIEQbHwLVrIGGnRIQOMZqWDhFfqq6IKjWH4s1MmIRoYoe/4K73IYAz82XlylEmRRWZ4esmfEOkZA/9B9f//N///VsqfcqxcsQovZnxpUvNu5S91gfWBACrc178GHBjZYEps+onJU7hm8OKLL4d//+//LDyCqRTicmmAb2ryCAA+aQNsijGTGkuu+B9HTgYrXB2ZmjB825lYjDcRCD47c1o6DB0Vk5HKOC7+bMC44SfwrVqmftHARBz8kL/kGv5x8MchauF1Bm9XfCvlVJE+pfzj4K9yLQnYZQl50OkNoP9B+eOyibBkKXR4egYdFN8cRyv/XvzlTRgjvzOzp/A2HPUnCaDJMdU/44+dWQHfB0QdnIUeoUO+ReGR+DHXf3yVJ+CShPCrv/qrAZvdhAmbl7UJVhV52Yn8tTW59kcvM8Z81frXCER2fySpjwZggf+C/v+7r39mMBvNyrdI33Cifxad/MkTJzA9dKIlls2Ns+LSY0m8KJqNrgDHZimNUf2Cx0aOpJx+YCOVrAgV4vBRgyLxBtKI+EtgwUg7GoAX+EM1qVioJyoY/6Xzj4ZtDPrPLxRSovOqf75ocAoxP/NX/spLVwjns/5hkgxvxSvCMkxvk0/9NNprgRDLtTaMDbABWAUqszpH+2/gL/B3GjC9mhujLGiuK5+GPhf0j66pWe9NyQ19WYS4pmBzx6f/RVzC1N4sc/RsfGfk4RlbfY24ClAFJZHAWiI8aIF/NgZeLwv6LzXQ0E0FqIIL9Q8aEJ20KMaDFtrfQvuzl1FfL8rWF+uSB1bIVfDvb/tDg6As8anF8mHv74IuYMVLv34eJ7FBbOvbQ83Dh71/gb9TtWm1UIpqC78L+pdBdKGkrm/vdR3zYe8vVF2Qtq5DsfG7oP8F/dcDpYX69/e2/5c1TP8WqQ2efUAsZWn5qflL52Dln6ElpOpBIklgtxpJRHOQm+JIlc8Cf1GDKDlr2mkmTuhonOC6KR4Nx19RKX6SjovYBf0v1L+F9pfahjQWNJCF/kd6Cele5Ed6F8LK3l7jBPe/g/5HN/1USpHlLK8Z1UbPX5LgI8osAgr3v43oBf5QnChBq1xDQV577f4iSRFo4jeiCVjgTyUs6N+qAquN9Yz0z/EUdaoINBM2ohfq30L7+3vS/yzSU5i+UkvtjQBXtSPYxxJJw10ijSyiuakk75U0Km1LtxZn1Omi5XZhoeAukQv8VQNQz4L+F+rfQvuzN4DYX6BT8bUiNZb0pkA8Pgv9z0L/q9UAI0w91ChVyOqRVJL80wWcEebwFekZ4GN1N5aE4BSIisbfLuCMMIevSM8AnwX+qocF/UtlkDpSVJSoHjhdwBlhDl+RngE+C/VP9bBQ/6QySB0pKkpUD5wu4Iwwh69IzwCfhfqnehiw/uVzmIVWIy1zbJEaOG17GAytzc1k297mXIqM6IDRu8AfFRw1fEH/C/UP1SD1dc2W0oDkZrXQ/pqjSaeurCgHjN6F/meh/4n9b8uUrK8k9Lc3z171S4x2JNOePKaG09UASyVd4L+g/4X6Z03Juwvtr1vLgJaoHHtaq89C/yPaW+h/B7Y/aUpW6ldLKyxBuaKJISwjrYrC1QiLNjchFAAXcF7DLUExZEBzDTm5GmHR5lbRMehinddwS1AMGdBcQ06uRli0uVV0DLpY5zXcEhRDBjTXkJOrERZtbhUdgy7WeQ23BMWQAc015ORqhEWbW0XHoIt1XsMtQTFkQHMNObkaYdHmVtEx6GKd13BLUAwZ0FxDTq5GWLS5VXQMuljnNdwSFEMGNNeQk6sRFm1uFR2DLtZ5DbcExZABzTXk5GqERZtbRcegi3Vewy1BMWRAcw05uRph0eZW0THoYp3XcEtQDBnQXENOrkZYtLlVdAy6WOc13BIUQwY015CTqxEWbW4VHYMu1nkNtwTFkAHNNeTkaoRFm1tFx6CLdV7DLUExZEBzDTm5GmHR5lbRMehinddwSxDmKNKmH4sx11K0uIrSHbEZU0NyOPnMY24LXwMpSnfEZkwNyeHkM4+5xqzFVZTuiM2YGpLDyWcec1v4GkhRuiM2Y2pIDiefecw1Zi2uonRHbMbUkBxOPvOY28LXQIrSHbEZU0NyOPnMY64xa3EVpTtiM6aG5HDymcfcFr4GUpTuiM2YGpLDyWcec41Zi6so3RGbMTUkh5PPPOa28DWQonRHbMbUkBxOPvOYa8xaXEXpjtiMqSE5nHzmMbeFr4EUpTtiM6aG5HDymcdcY9biKkp3xGZMDcnh5DOPuS18DaQo3RGbMTUkh5PPPOYas8rNa5gpwlLQ5cM5Dfht7tSiFepmXC3CXKZtPilWPCnkEA1Gl88C/wX9oy4s1L/UFKzRWUvRdmIhcxVa/6ZY8aSQQzMYXT4L7W+h/aEuLLQ/aQrxajxrJNpE2n7bMQxqbpkyX0hQbTgAuulfZ2/b03tq7RgGNdenAA+sg+qFCAv8iw0PUNeC/tUULNQ/tJl4Bq5sPWWoSwtjYvx1iV1ofwv9j1wI8d9O//v/AVDv2q7oYg/qAAAAAElFTkSuQmCC)\n",
        "\n",
        "비는 충분히 많이 온다. 고이는 빗물의 총량은 얼마일까?\n",
        "\n",
        "## 입력\n",
        "첫 번째 줄에는 2차원 세계의 세로 길이 H와 2차원 세계의 가로길이 W가 주어진다. (1<=H,W<=500)\n",
        "\n",
        "두 번쨰 줄에는 블록이 쌓인 높이를 의미하는 0이상 H 이하의 정수가 2차원 세계의 맨 왼쪽 위치부터 차례대로 W개 주어진다.\n",
        "\n",
        "따라서 블록 내부의 빈 공간이 생길 수 없다. 또 2차원 세계의 바닥은 항상 막혀있다고 가정하여도 좋다.\n",
        "\n",
        "## 출력\n",
        "2차원 세계에서는 한 칸의 용량은 1이다. 고이는 빗물의 총량을 출력하여라. 빗물이 전혀 고이지 않을 경우 0을 출력하여라."
      ],
      "metadata": {
        "id": "pK7f7cXq3S-q"
      }
    },
    {
      "cell_type": "code",
      "source": [
        "h, w = map(int, input().split()) # 높이, 넓이\n",
        "heights = list(map(int, input().split())) # 각 높이\n",
        "\n",
        "answer = 0\n",
        "for i in range(1, w-1) :\n",
        "  max_left = max(heights[:i])\n",
        "  max_right = max(heights[i+1:])\n",
        "\n",
        "  height = min(max_left, max_right)\n",
        "\n",
        "  if heights[i] < height :\n",
        "    answer += (height - heights[i])\n",
        "\n",
        "print(answer)"
      ],
      "metadata": {
        "colab": {
          "base_uri": "https://localhost:8080/"
        },
        "id": "oqMsjPvSAXSW",
        "outputId": "babd63d0-a57a-4dda-e45a-4eb7ca12ec77"
      },
      "execution_count": 34,
      "outputs": [
        {
          "output_type": "stream",
          "name": "stdout",
          "text": [
            "3 5\n",
            "0 0 0 2 0\n",
            "0\n"
          ]
        }
      ]
    },
    {
      "cell_type": "code",
      "source": [
        "heights"
      ],
      "metadata": {
        "colab": {
          "base_uri": "https://localhost:8080/"
        },
        "id": "H-HE5bvW6HrJ",
        "outputId": "391fa9ed-d4a9-43ce-eedb-96c43b060a13"
      },
      "execution_count": 35,
      "outputs": [
        {
          "output_type": "execute_result",
          "data": {
            "text/plain": [
              "[0, 0, 0, 2, 0]"
            ]
          },
          "metadata": {},
          "execution_count": 35
        }
      ]
    },
    {
      "cell_type": "markdown",
      "source": [
        "# 가르침(1062번)\n",
        "\n",
        "## 문제\n",
        "남극에 사는 김지민 선생님은 학생들이 되도록이면 많은 단어를 읽을 수 있도록 하려고 한다. 그러나 지구온난화로 인해 얼음이 녹아서 곧 학교가 무너지기 때문에, 김지민은 K개의 글자를 가르칠 시간 밖에 없다. 김지민이 가르치고 난 후에는, 학생들은 그 K개의 글자로만 이루어진 단어만을 읽을 수 있다. 김지민은 어떤 K개의 글자를 가르쳐야 학생들이 읽을 수 있는 단어의 개수가 최대가 되는지 고민에 빠졌다.\n",
        "\n",
        "남극언어의 모든 단어는 \"anta\"로 시작되고, \"tica\"로 끝난다. 남극언어에 단어는 N개 밖에 없다고 가정한다. 학생들이 읽을 수 있는 단어의 최댓값을 구하는 프로그램을 작성하시오.\n",
        "\n",
        "## 입력\n",
        "첫쨰 줄에 단어의 개수 N과 K가 주어진다. N은 50보다 작거나 같은 자연수이고, K는 26보다 작거나 같은 자연수 또는 0이다. 둘째 줄부터 N개의 줄에 남극 언어의 단어가 주어진다. 단어는 영어 소문자로만 이루어져 있고, 길이가 8보다 크거나 같고, 15보다 작거나 같다. 모든 단어는 중복되지 않는다.\n",
        "\n",
        "## 출력\n",
        "첫째 줄에 김지민이 K개의 글자를 가르칠 떄, 학생들이 읽을 수 있는 단어의 개수의 최댓값을 출력한다."
      ],
      "metadata": {
        "id": "dNZw8fVdD299"
      }
    },
    {
      "cell_type": "markdown",
      "source": [
        "## [ 배열 사용하면 시간 초과 발생 ]\n",
        "1. int형은 4byte(=32bit) 이므로 0부터 (2^32 - 1)까지 표현할 수 있다. -> 비트마스크 사용 시, int로 커버 가능\n",
        "\n",
        "2. 비트마스크를 이용한 집합 구현\n",
        "- 하나의 bit가 하나의 원소를 의미\n",
        "- N bit 정수 변수라면 N개의 원소를 갖는 집합의 부분집합들을 모두 표현할 수 있다.\n",
        "\n",
        "(1) 공집합 : a = 0\n",
        "\n",
        "(2) 꽉찬 집합 : a = (1<<n)-1\n",
        "\n",
        "(3) 원소 추가 : a |= (1<<k)\n",
        "\n",
        "(4) 원소 삭제 : a &= ~(1<<k)\n",
        "\n",
        "(5) 원소의 포함 여부 확인 : if (a & (1<<k))\n",
        "\n",
        "(6) 원소의 토글 : a ^= (1<<k)\n",
        "\n",
        "(7) 두 집합에 대해서 연산\n",
        "  - a|b : 합집합\n",
        "  - a&b : 교집합\n",
        "  - a&(~b) : 차집합\n",
        "  - a^b : a와 b중 하나에만 포함된 원소들의 집합\n",
        "\n",
        "(8) 집합의 크기 구하기\n",
        "  - java : Integer.bitCount(A)\n",
        "\n",
        "(9) 최소 원소 찾기 : int first = a & (-a)\n",
        "\n",
        "(10) 최소 원소 지우기 : a &= (a-1)\n",
        "\n",
        "(11) 모든 부분 집합 순회하기\n",
        "  - for (int subset = a ; subset ; subset = ((subset-1)&a)){}"
      ],
      "metadata": {
        "id": "UxunvcXbNReI"
      }
    },
    {
      "cell_type": "code",
      "source": [
        "from itertools import combinations\n",
        "\n",
        "n, k = map(int, input().split()) # 단어의 개수, 배울 수 있는 알파벳의 개수\n",
        "\n",
        "if k < 5 :\n",
        "  print(0)\n",
        "else :\n",
        "  k -= 5\n",
        "  need_chars = {'a','n','t','i','c'}\n",
        "  input_chars = []\n",
        "  alphabet = {ky : v for v, ky in enumerate(\n",
        "      (set(map(chr, range(ord('a'), ord('z') + 1))) - need_chars))}\n",
        "  \n",
        "  answer = 0\n",
        "  for _ in range(n) :\n",
        "    tmp = 0\n",
        "    for c in set(input()) - need_chars :\n",
        "      tmp |= (1 << alphabet[c]) # 각 알파벳에 해당하는 bit를 켜준다.\n",
        "    input_chars.append(tmp) # 비트마스크 저장\n",
        "  \n",
        "  filter = (2**i for i in range(21)) # 26개 알파벳에서 필수 5개를 제외\n",
        "  count = 0\n",
        "  for comb in combinations(filter, k) : # filter에서 k개의 원소만 뽑아낸 모든 조합\n",
        "    test = sum(comb) # 새롭게 배운 알파벳의 조합(비트마스크)\n",
        "    count = 0\n",
        "    for word in input_chars :\n",
        "      if test & word == word : # 해당 단어의 포함된 bit가 모두 test에 있다면\n",
        "        count += 1\n",
        "    \n",
        "    answer = max(answer, count)\n",
        "  print(answer)"
      ],
      "metadata": {
        "colab": {
          "base_uri": "https://localhost:8080/"
        },
        "id": "i9cE-NlTFOY6",
        "outputId": "5cfe8f45-76fa-44d5-c4ad-3f99b6d8a6a6"
      },
      "execution_count": 13,
      "outputs": [
        {
          "output_type": "stream",
          "name": "stdout",
          "text": [
            "9 8\n",
            "antabtica\n",
            "antaxtica\n",
            "antadtica\n",
            "antaetica\n",
            "antaftica\n",
            "antagtica\n",
            "antahtica\n",
            "antajtica\n",
            "antaktica\n",
            "3\n"
          ]
        }
      ]
    }
  ]
}