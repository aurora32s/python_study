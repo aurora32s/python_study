{
  "nbformat": 4,
  "nbformat_minor": 0,
  "metadata": {
    "colab": {
      "name": "2022년 1월 1주차",
      "provenance": [],
      "collapsed_sections": [],
      "authorship_tag": "ABX9TyNNJg/rYhrrz8CDSg36Jxue",
      "include_colab_link": true
    },
    "kernelspec": {
      "name": "python3",
      "display_name": "Python 3"
    },
    "language_info": {
      "name": "python"
    }
  },
  "cells": [
    {
      "cell_type": "markdown",
      "metadata": {
        "id": "view-in-github",
        "colab_type": "text"
      },
      "source": [
        "<a href=\"https://colab.research.google.com/github/aurora32s/python_study/blob/master/2022%EB%85%84_1%EC%9B%94_1%EC%A3%BC%EC%B0%A8.ipynb\" target=\"_parent\"><img src=\"https://colab.research.google.com/assets/colab-badge.svg\" alt=\"Open In Colab\"/></a>"
      ]
    },
    {
      "cell_type": "markdown",
      "source": [
        "#인터넷 설치(1800번)\n",
        "\n",
        "## 문제\n",
        "오늘 팀전을 다들 열심히 하시는 것을 보고 원장선생님은 세미나 실에 인터넷을 설치해 주기로 마음을 먹으셨다. 하지만 비 협조적인 코레스코 콘도는 원장님께서 학생들에게 인터넷 선을 연결하는 것에 대해서 일부에 대해 돈을 요구하였다.\n",
        "각각의 학생들의 번호가 1부터 N까지 붙여져 있다고 하면 아무나 서로 인터넷 선이 연결되어 있지 않다. P(P<=10,000)개의 쌍만이 서로 이어 질 수 있으며 서로 선을 연결하는데 가격이 다르다.\n",
        "1번은 다행히 인터넷 서버와 바로 연결되어 있어 인터넷이 가능하다. 우리의 목표는 N번 컴퓨터가 인터넷에 연결하는 것이다. 나머지 컴퓨터는 연결 되어 있거나 연결 안되어 있어도 무방하다.\n",
        "하지만 코레스코에서는 K개의 인터넷 선에 대해서는 공짜로 연결해주기로 하였다. 그리고 나머지 인터넷 선에 대해서는 남은 것 중 제일 가격이 비싼 것에 대해서만 가격을 받기로 하였다. 이 때 원장 선생님이 내게 되는 최소의 값을 구하여라.\n",
        "\n",
        "## 입력\n",
        "첫 번째 줄에 N(1 <= N <= 1,000), 케이블선의 개수 P(1 <= P <= 10,000), 공짜로 제공하는 케이블선의 개수 K(0 <= K < N)이 주어진다. 다음 P개의 줄에는 케이블이 연결하는 두 컴퓨터 번호와 그 가격이 차례로 들어온다. 가격은 1이상 1,000,000 이하이다.\n",
        "\n",
        "## 출력\n",
        "첫 째 줄에 원장선생님이 내게 되는 최소의 돈을 출력한다. 만약 1번과 N번 컴퓨터를 잇는 것이 불가능 하다면 -1을 출력한다."
      ],
      "metadata": {
        "id": "sXowOwvG0vO4"
      }
    },
    {
      "cell_type": "code",
      "source": [
        "from queue import PriorityQueue\n",
        "\n",
        "INF = int(1e9)\n",
        "\n",
        "n, p, k = map(int, input().split())\n",
        "graph = [[] for i in range(n+1)]\n",
        "\n",
        "for _ in range(p) :\n",
        "    a, b, c = map(int, input().split())\n",
        "    graph[a].append((b,c))\n",
        "    graph[b].append((a,c))\n",
        "\n",
        "# 해당 케이블을 최대로 잡은 경우, 1->N으로 갈 수 있는지 검사\n",
        "def dijkstra (start, mid) :\n",
        "    queue = PriorityQueue()\n",
        "    distance = [INF] * (n+1) # 최소거리\n",
        "    queue.put((0, start))\n",
        "    distance[start] = 0\n",
        "    \n",
        "    while queue.empty() == False :\n",
        "        dist, node = queue.get()\n",
        "        # print(node, dist)\n",
        "        if dist > distance[node] :\n",
        "            continue\n",
        "        for i in graph[node] : #인접 노드\n",
        "            if i[1] > mid : # 최대 케이블보다 큰 경우\n",
        "                if dist + 1 < distance[i[0]] :\n",
        "                    distance[i[0]] = dist + 1\n",
        "                    queue.put((dist+1, i[0]))\n",
        "            else : # 최대 케이블보다 작은 경우\n",
        "                if dist < distance[i[0]] :\n",
        "                    distance[i[0]] = dist\n",
        "                    queue.put((dist, i[0]))\n",
        "        \n",
        "    if distance[n] > k :\n",
        "        return False\n",
        "    else :\n",
        "        return True\n",
        "\n",
        "left, right = 0, 10000001\n",
        "answer = INF\n",
        "\n",
        "while left <= right :\n",
        "    mid = (left + right) // 2\n",
        "    able = dijkstra(1, mid)\n",
        "    \n",
        "    if able : # 1->N 가능 - 왼쪽\n",
        "        right = mid - 1\n",
        "        answer = mid\n",
        "    else :\n",
        "        left = mid + 1\n",
        "        \n",
        "if answer == INF :\n",
        "    print(-1)\n",
        "else :\n",
        "    print(answer)"
      ],
      "metadata": {
        "colab": {
          "base_uri": "https://localhost:8080/"
        },
        "id": "W1BCEL-U3A9Q",
        "outputId": "e0459c64-e378-4b70-e044-1d2a28b405ac"
      },
      "execution_count": 2,
      "outputs": [
        {
          "output_type": "stream",
          "name": "stdout",
          "text": [
            "5 7 1\n",
            "1 2 5\n",
            "3 1 4\n",
            "2 4 8\n",
            "3 2 3\n",
            "5 2 9\n",
            "3 4 7\n",
            "4 5 6\n",
            "4\n"
          ]
        }
      ]
    },
    {
      "cell_type": "code",
      "source": [
        ""
      ],
      "metadata": {
        "id": "tlRryc4K2QFZ"
      },
      "execution_count": null,
      "outputs": []
    }
  ]
}