{
  "nbformat": 4,
  "nbformat_minor": 0,
  "metadata": {
    "colab": {
      "name": "2022년 1월 1주차",
      "provenance": [],
      "collapsed_sections": [
        "sXowOwvG0vO4",
        "bhlKy9O6RApq",
        "d6nzeLz5mqNn",
        "O2m_khErsfa8"
      ],
      "authorship_tag": "ABX9TyN84XZfqylIp4rQRhADTAac",
      "include_colab_link": true
    },
    "kernelspec": {
      "name": "python3",
      "display_name": "Python 3"
    },
    "language_info": {
      "name": "python"
    }
  },
  "cells": [
    {
      "cell_type": "markdown",
      "metadata": {
        "id": "view-in-github",
        "colab_type": "text"
      },
      "source": [
        "<a href=\"https://colab.research.google.com/github/aurora32s/python_study/blob/master/2022%EB%85%84_1%EC%9B%94_1%EC%A3%BC%EC%B0%A8.ipynb\" target=\"_parent\"><img src=\"https://colab.research.google.com/assets/colab-badge.svg\" alt=\"Open In Colab\"/></a>"
      ]
    },
    {
      "cell_type": "markdown",
      "source": [
        "#인터넷 설치(1800번)\n",
        "\n",
        "## 문제\n",
        "오늘 팀전을 다들 열심히 하시는 것을 보고 원장선생님은 세미나 실에 인터넷을 설치해 주기로 마음을 먹으셨다. 하지만 비 협조적인 코레스코 콘도는 원장님께서 학생들에게 인터넷 선을 연결하는 것에 대해서 일부에 대해 돈을 요구하였다.\n",
        "각각의 학생들의 번호가 1부터 N까지 붙여져 있다고 하면 아무나 서로 인터넷 선이 연결되어 있지 않다. P(P<=10,000)개의 쌍만이 서로 이어 질 수 있으며 서로 선을 연결하는데 가격이 다르다.\n",
        "1번은 다행히 인터넷 서버와 바로 연결되어 있어 인터넷이 가능하다. 우리의 목표는 N번 컴퓨터가 인터넷에 연결하는 것이다. 나머지 컴퓨터는 연결 되어 있거나 연결 안되어 있어도 무방하다.\n",
        "하지만 코레스코에서는 K개의 인터넷 선에 대해서는 공짜로 연결해주기로 하였다. 그리고 나머지 인터넷 선에 대해서는 남은 것 중 제일 가격이 비싼 것에 대해서만 가격을 받기로 하였다. 이 때 원장 선생님이 내게 되는 최소의 값을 구하여라.\n",
        "\n",
        "## 입력\n",
        "첫 번째 줄에 N(1 <= N <= 1,000), 케이블선의 개수 P(1 <= P <= 10,000), 공짜로 제공하는 케이블선의 개수 K(0 <= K < N)이 주어진다. 다음 P개의 줄에는 케이블이 연결하는 두 컴퓨터 번호와 그 가격이 차례로 들어온다. 가격은 1이상 1,000,000 이하이다.\n",
        "\n",
        "## 출력\n",
        "첫 째 줄에 원장선생님이 내게 되는 최소의 돈을 출력한다. 만약 1번과 N번 컴퓨터를 잇는 것이 불가능 하다면 -1을 출력한다."
      ],
      "metadata": {
        "id": "sXowOwvG0vO4"
      }
    },
    {
      "cell_type": "code",
      "source": [
        "from queue import PriorityQueue\n",
        "\n",
        "INF = int(1e9)\n",
        "\n",
        "n, p, k = map(int, input().split())\n",
        "graph = [[] for i in range(n+1)]\n",
        "\n",
        "for _ in range(p) :\n",
        "    a, b, c = map(int, input().split())\n",
        "    graph[a].append((b,c))\n",
        "    graph[b].append((a,c))\n",
        "\n",
        "# 해당 케이블을 최대로 잡은 경우, 1->N으로 갈 수 있는지 검사\n",
        "def dijkstra (start, mid) :\n",
        "    queue = PriorityQueue()\n",
        "    distance = [INF] * (n+1) # 최소거리\n",
        "    queue.put((0, start))\n",
        "    distance[start] = 0\n",
        "    \n",
        "    while queue.empty() == False :\n",
        "        dist, node = queue.get()\n",
        "        # print(node, dist)\n",
        "        if dist > distance[node] :\n",
        "            continue\n",
        "        for i in graph[node] : #인접 노드\n",
        "            if i[1] > mid : # 최대 케이블보다 큰 경우\n",
        "                if dist + 1 < distance[i[0]] :\n",
        "                    distance[i[0]] = dist + 1\n",
        "                    queue.put((dist+1, i[0]))\n",
        "            else : # 최대 케이블보다 작은 경우\n",
        "                if dist < distance[i[0]] :\n",
        "                    distance[i[0]] = dist\n",
        "                    queue.put((dist, i[0]))\n",
        "        \n",
        "    if distance[n] > k :\n",
        "        return False\n",
        "    else :\n",
        "        return True\n",
        "\n",
        "left, right = 0, 10000001\n",
        "answer = INF\n",
        "\n",
        "while left <= right :\n",
        "    mid = (left + right) // 2\n",
        "    able = dijkstra(1, mid)\n",
        "    \n",
        "    if able : # 1->N 가능 - 왼쪽\n",
        "        right = mid - 1\n",
        "        answer = mid\n",
        "    else :\n",
        "        left = mid + 1\n",
        "        \n",
        "if answer == INF :\n",
        "    print(-1)\n",
        "else :\n",
        "    print(answer)"
      ],
      "metadata": {
        "colab": {
          "base_uri": "https://localhost:8080/"
        },
        "id": "W1BCEL-U3A9Q",
        "outputId": "e0459c64-e378-4b70-e044-1d2a28b405ac"
      },
      "execution_count": null,
      "outputs": [
        {
          "output_type": "stream",
          "name": "stdout",
          "text": [
            "5 7 1\n",
            "1 2 5\n",
            "3 1 4\n",
            "2 4 8\n",
            "3 2 3\n",
            "5 2 9\n",
            "3 4 7\n",
            "4 5 6\n",
            "4\n"
          ]
        }
      ]
    },
    {
      "cell_type": "markdown",
      "source": [
        "# 괄호 추가하기3(16639번)\n",
        "\n",
        "## 문제\n",
        "길이가 N인 수식이 있다. 수식은 0보다 크거나 같고, 9보다 작거나 같은 정수와 연산자(+,-,*)로 이루어져 있다. 곱하기의 연산자 우선수위가 더하기와 빼기보다 높기 때문에, 곱하기를 먼저 계산해야 한다. 수식을 계산할 때는 왼쪽에서부터 순서대로 계산해야 한다. 예를 들어, 3+8×7-9×2의 결과는 41이다.\n",
        "수식에 괄호를 추가하면, 괄호 안에 들어있는 식은 먼저 계산해야 한다. 예를 들어, 3+8×7-9×2에 괄호를 (3+8)×7-(9×2)와 같이 추가했으면, 식의 결과는 59가 된다. 중첩된 괄호도 사용할 수 있고, 괄호 안에 여러 개의 연산자가 들어 있어도 된다. 즉, 3+((8×7)-9)×2, 3+((8×7)-(9×2)), (3+8)×(7-9×2) 모두 올바른 식이고, 결과는 97, 41, -121이다.\n",
        "\n",
        "수식이 주어졌을 때, 괄호를 적절히 추가해 만들 수 있는 식의 결과의 최댓값을 구하는 프로그램을 작성하시오. 추가하는 괄호 개수의 제한은 없으며, 추가하지 않아도 된다.\n",
        "\n",
        "## 입력\n",
        "첫째 줄에 수식의 길이 N(1 ≤ N ≤ 19)가 주어진다. 둘째 줄에는 수식이 주어진다. 수식에 포함된 정수는 모두 0보다 크거나 같고, 9보다 작거나 같다. 문자열은 정수로 시작하고, 연산자와 정수가 번갈아가면서 나온다. 연산자는 +, -, * 중 하나이다. 여기서 *는 곱하기 연산을 나타내는 × 연산이다. 항상 올바른 수식만 주어지기 때문에, N은 홀수이다."
      ],
      "metadata": {
        "id": "bhlKy9O6RApq"
      }
    },
    {
      "cell_type": "code",
      "source": [
        "\n",
        "def getMaxMin (board, oper, i, j) :\n",
        "  result = []\n",
        "\n",
        "  for opCode in range(i,j):\n",
        "    if oper[opCode] == '+':\n",
        "      result.append(board[i][opCode][0] + board[opCode+1][j][0])\n",
        "      result.append(board[i][opCode][0] + board[opCode+1][j][1])\n",
        "      result.append(board[i][opCode][1] + board[opCode+1][j][0])\n",
        "      result.append(board[i][opCode][1] + board[opCode+1][j][1])\n",
        "    elif oper[opCode] == '-':\n",
        "      result.append(board[i][opCode][0] - board[opCode+1][j][0])\n",
        "      result.append(board[i][opCode][0] - board[opCode+1][j][1])\n",
        "      result.append(board[i][opCode][1] - board[opCode+1][j][0])\n",
        "      result.append(board[i][opCode][1] - board[opCode+1][j][1])\n",
        "    elif oper[opCode] == '*':\n",
        "      result.append(board[i][opCode][0] * board[opCode+1][j][0])\n",
        "      result.append(board[i][opCode][0] * board[opCode+1][j][1])\n",
        "      result.append(board[i][opCode][1] * board[opCode+1][j][0])\n",
        "      result.append(board[i][opCode][1] * board[opCode+1][j][1])\n",
        "\n",
        "  return max(result), min(result)\n",
        "\n",
        "N = int(input()) # 수식의 길이\n",
        "n = N // 2 # 피연산자의 길이 - 1\n",
        "\n",
        "board = [[[0,0] for i in range(n+1)] for j in range(n+1)]\n",
        "\n",
        "number, oper = [], []\n",
        "formula = input()\n",
        "for idx, item in enumerate(formula) :\n",
        "  if idx % 2 == 0 : # 피연산자\n",
        "    number.append(int(item))\n",
        "  else : # 연산자\n",
        "    oper.append(item)\n",
        "\n",
        "for scope in range(n+1) :\n",
        "  for i in range(0, n-scope+1) :\n",
        "    j = i + scope\n",
        "\n",
        "    if i == j :\n",
        "      board[i][j][0] = number[i]\n",
        "      board[i][j][1] = number[i]\n",
        "    else :\n",
        "      maxV, minV = getMaxMin(board, oper, i, j)\n",
        "      board[i][j][0] = maxV\n",
        "      board[i][j][1] = minV\n",
        "\n",
        "print(max(board[0][n]))"
      ],
      "metadata": {
        "colab": {
          "base_uri": "https://localhost:8080/"
        },
        "id": "tlRryc4K2QFZ",
        "outputId": "760c9ba4-4319-444b-87a0-fc9fbc5b006b"
      },
      "execution_count": null,
      "outputs": [
        {
          "output_type": "stream",
          "name": "stdout",
          "text": [
            "7\n",
            "8*3+5+2\n",
            "80\n"
          ]
        }
      ]
    },
    {
      "cell_type": "markdown",
      "source": [
        "# 미네랄2(18500번)\n",
        "\n",
        "## 문제\n",
        "창영과 상근은 한 동굴을 놓고 소유권을 주장하고 있다. 두 사람은 막대기를 서로에게 던지는 방법을 이용해 누구의 소유인지를 결정하기로 했다. 싸움은 동굴에서 벌어진다. 동굴에는 미네랄이 저장되어 있으며, 던진 막대기가 미네랄을 파괴할 수도 있다.\n",
        "동굴은 R행 C열로 나타낼 수 있으며, RXC칸으로 이루어져 있다. 각 칸은 비어있거나 미네랄을 포함하고 있으며, 네 방향 중 하나로 인접한 미네랄이 포함된 두 칸은 같은 클러스터이다.\n",
        "창영은 동굴의 왼쪽에 서있고, 상근은 오른쪽에 서있다. 두 사람은 턴을 번갈아가며 막대기를 던진다. 막대를 던지기 전에 던질 높이를 정해야 한다. 막대는 땅과 수평을 이루며 날아간다.\n",
        "막대가 날아가다가 미네랄을 만나면, 그 칸에 있는 미네랄은 모두 파괴되고 막대는 그 자리에서 이동을 멈춘다.\n",
        "미네랄이 파괴된 이후에 남은 클러스터가 분리될 수도 있다. 새롭게 생성된 클러스터가 떠 있는 경우에는 중력에 의해서 바닥으로 떨어지게 된다. 떨어지는 동안 클러스터의 모양은 변하지 않는다. 클러스터는 다른 클러스터나 땅을 만나기 전까지 계속해서 떨어진다. 클러스터는 다른 클러스터 위에 떨어질 수 있고, 그 이후에는 합쳐지게 된다.\n",
        "동굴에 있는 미네랄의 모양과 두 사람이 던진 막대의 높이가 주어진다. 모든 막대를 던지고 난 이후에 미네랄 모양을 구하는 프로그램을 작성하시오.\n",
        "\n",
        "## 입력\n",
        "첫째 줄에 둥골의 크기 R과 C가 주어진다. (1<=R,C<=100)\n",
        "다음 R개 줄에는 C개의 문자가 주어지며, '.'는 빈칸, 'X'는 미네랄을 나타낸다.\n",
        "다음 줄에는 막대를 던진 횟수 N이 주어진다. (1<=N<=100)\n",
        "마지막 줄에는 막대를 던진 높이가 주어지며, 공백으로 구분되어져 있다. 모든 높이는 1과 R 사이이며, 높이 1은 행렬의 가장 바닥, R은 가장 위를 의미한다. 첫 번째 막대는 왼쪽에서 오른쪽으로 던졌으며, 두 번째는 오른쪽에서 왼쪽으로, 이와 같은 식으로 번갈아가며 던진다.\n",
        "공중에 떠 있는 미네랄 클러스터는 없으며, 두 개 또는 그 이상의 클러스터가 동시에 떨어지는 경우도 없다.\n",
        "\n",
        "## 출력\n",
        "입력 형식과 같은 형식으로 미네랄 모양을 출력한다."
      ],
      "metadata": {
        "id": "d6nzeLz5mqNn"
      }
    },
    {
      "cell_type": "code",
      "source": [
        "r,c = map(int, input().split())\n",
        "board = [[[] for i in range(c)] for j in range(r)]\n",
        "\n",
        "for i in range(r) :\n",
        "  row = input()\n",
        "  for j, item in enumerate(row) :\n",
        "    board[i][j] = item\n",
        "\n",
        "# 던진 높이에 맞는 미네랄 제거\n",
        "def destroy (height, direction) :\n",
        "  x = 0 # 파괴된 미레랄의 x좌표\n",
        "  if direction == 0 : # left\n",
        "    for i in range(c) :\n",
        "      if board[height][i] == 'x' :\n",
        "        x = i\n",
        "        board[height][i] = '.'\n",
        "        break\n",
        "  else :\n",
        "    for i in range(c-1,-1,-1) :\n",
        "      if board[height][i] == 'x' :\n",
        "        x = i\n",
        "        board[height][i] = '.'\n",
        "        break\n",
        "  return x\n",
        "\n",
        "def bfs (flag, check, x, y, i) :\n",
        "  queue = list()\n",
        "  queue.append((x,y))\n",
        "\n",
        "  while len(list) > 0 :\n",
        "    x, y = queue.pop(0)\n",
        "    check[y][x] = i\n",
        "\n",
        "    if y == r - 1 :\n",
        "      flag[i][0] = True # 공중에 떠있지 않음\n",
        "\n",
        "\n",
        "\n",
        "dx = [0, 1, 0, -1]\n",
        "dy = [-1, 0, 1, 0]\n",
        "# 공중에 떠있는 클러스터 제거\n",
        "def fall (x, height) :\n",
        "  flag = [] # (a, b) a : 공중에 떠있는지 여부, b : 바닥과 가장 가까운 거리\n",
        "  check = [[[0] for i in range(c)] for j in range(r)]\n",
        "  \n",
        "  # 4방향으로 검사\n",
        "  for i in range(4) :\n",
        "    nX, nY = x + dx[i], height + dy[i]\n",
        "    if board[nY][nX] == 'x' :\n",
        "      bfs(flag, check, nX, nY, i)\n",
        "\n",
        "n = int(input())\n",
        "stick = list(map(int, input().split()))\n",
        "direction = 0\n",
        "for i in range(n) :\n",
        "  destroy(r - stick[i], direction)\n",
        "  direction ^= 1\n",
        "\n",
        "board"
      ],
      "metadata": {
        "id": "1cZc0CJK-DFI",
        "colab": {
          "base_uri": "https://localhost:8080/"
        },
        "outputId": "91c4b268-329f-4293-9507-922e26ae14d0"
      },
      "execution_count": null,
      "outputs": [
        {
          "name": "stdout",
          "output_type": "stream",
          "text": [
            "8 8\n",
            "........\n",
            "........\n",
            "...x.xx.\n",
            "...xxx..\n",
            "..xxx...\n",
            "..x.xxx.\n",
            "..x...x.\n",
            ".xxx..x.\n",
            "5\n",
            "6 6 4 3 1\n"
          ]
        },
        {
          "output_type": "execute_result",
          "data": {
            "text/plain": [
              "[['.', '.', '.', '.', '.', '.', '.', '.'],\n",
              " ['.', '.', '.', '.', '.', '.', '.', '.'],\n",
              " ['.', '.', '.', '.', '.', 'x', '.', '.'],\n",
              " ['.', '.', '.', 'x', 'x', 'x', '.', '.'],\n",
              " ['.', '.', '.', 'x', 'x', '.', '.', '.'],\n",
              " ['.', '.', 'x', '.', 'x', 'x', '.', '.'],\n",
              " ['.', '.', 'x', '.', '.', '.', 'x', '.'],\n",
              " ['.', '.', 'x', 'x', '.', '.', 'x', '.']]"
            ]
          },
          "metadata": {},
          "execution_count": 15
        }
      ]
    },
    {
      "cell_type": "markdown",
      "source": [
        "# Watering the Fields(10021)\n",
        "\n",
        "## 문제\n",
        "Due to a lack of rain, Farmer John wants to build an irrigation system to send water between his N fields (1<=N<=2000).\n",
        "Each Field i is described by a distinct point (xi, yi) in the 2D plane, with 0<=xi,yi<=1000.\n",
        "The cost of building a water pipe between two fields i and j is equal to the squared Euclidean distance between them:\n",
        "\n",
        "(xi - xj)^2 + (yi - yj)^2\n",
        "\n",
        "FJ would like to build a minimum-cost system of pipes so that all of his fields are linked together -- so that water in any field can follow a sequence of pipes to reach any other field.\n",
        "\n",
        "Unfortunately, the constractor who is helping FJ install his irrigation system refuses to install any pipe unless its cost (squrared Euclidean length) is at least C(1<=C<=1,000,000).\n",
        "\n",
        "Please help FJ compute the minimum amount he will need pay to connect all his fields with a network of pipes.\n",
        "\n",
        "## 입력\n",
        "- Line 1 : The integers N and C.\n",
        "- Line 2..1+N : Line i+1 contains the integers xi and yi"
      ],
      "metadata": {
        "id": "O2m_khErsfa8"
      }
    },
    {
      "cell_type": "code",
      "source": [
        "# from queue import PriorityQueue\n",
        "n, c = map(int, input().split())\n",
        "parent = [i for i in range(n)] # Union-find의 부모 리스트\n",
        "edges = [] # 간선 정보\n",
        "\n",
        "fields = []\n",
        "for _ in range(n) :\n",
        "  x, y = map(int, input().split())\n",
        "  fields.append((x, y))\n",
        "\n",
        "for i in range(n-1) :\n",
        "  for j in range(i, n) :\n",
        "    # 간선 길이 계산\n",
        "    edge = (fields[i][0] - fields[j][0])**2 + (fields[i][1] - fields[j][1])**2\n",
        "    if edge >= c :\n",
        "      edges.append((edge, (i,j)))\n",
        "\n",
        "edges.sort()\n",
        "\n",
        "# Union-find\n",
        "def find_root (x) :\n",
        "  if x == parent[x] : return x\n",
        "  parent[x] = find_root(parent[x])\n",
        "  return parent[x]\n",
        "\n",
        "def union_root (x, y) :\n",
        "  x, y = find_root(x), find_root(y)\n",
        "\n",
        "  if x != y : # 같은 그룹이 아닌 경우\n",
        "    parent[x] = y\n",
        "\n",
        "# kruskal\n",
        "def kruskal () :\n",
        "  cost = 0\n",
        "  num = 0\n",
        "\n",
        "  for edge in edges :\n",
        "    s = edge[1][0] # left point\n",
        "    e = edge[1][1] # right point\n",
        "\n",
        "    if find_root(s) == find_root(e) :\n",
        "      continue # 사이클 생성\n",
        "    \n",
        "    cost += edge[0] # 가중치\n",
        "    num += 1\n",
        "    union_root(s, e)\n",
        "\n",
        "    if num == n-1 :\n",
        "      break\n",
        "  return cost\n",
        "\n",
        "answer = kruskal()\n",
        "print(answer) \n"
      ],
      "metadata": {
        "colab": {
          "base_uri": "https://localhost:8080/"
        },
        "id": "NleveCXg4XwX",
        "outputId": "43c866e2-3c32-413f-f189-56b02d7c57b6"
      },
      "execution_count": null,
      "outputs": [
        {
          "output_type": "stream",
          "name": "stdout",
          "text": [
            "3 11\n",
            "0 2\n",
            "5 0\n",
            "4 3\n",
            "46\n"
          ]
        }
      ]
    },
    {
      "cell_type": "code",
      "source": [
        ""
      ],
      "metadata": {
        "id": "50MqBPZeF7Zv"
      },
      "execution_count": null,
      "outputs": []
    },
    {
      "cell_type": "markdown",
      "source": [
        "# 새로운 게임(17780번)\n",
        "\n",
        "## 문제\n",
        "재현이는 주변을 살펴보던 중 체스판과 말을 이용해서 새로운 게임을 만들기로 했다. 새로운 게임은 크기가 N*N인 체스판에서 진행되고, 사용하는 말의 개수는 K개이다. 말은 원판 모양이고, 하나의 말 위에 다른 말을 올릴 수 있다. 체스판의 각 칸은 흰색, 빨간색, 파란색 중 하나로 색칠되어있다.\n",
        "게임은 체스판 위에 말 K개를 놓고 시작한다. 말은 1번부터 K번까지 번호가 매겨져 있고, 이동 방향도 미리 정해져 있다. 이동 방양은 위, 아래, 왼쪽, 오른쪽 4가지 중 하나이다.\n",
        "턴 한 번은 1번 말부터 K번 말까지 순서대로 이동시키는 것이다. 한 말이 이동할 때 위에 올려져 있는 말도 함께 이동하며, 가장 아래에 있는 말만 이동할 수 있다. 말의 이동 방향에 있는 칸에 따라서 말의 이동이 다르며 아래와 같다. 턴이 진행되던 중에 말이 4개 이상 쌓이는 순간 게임이 종료된다.\n",
        "\n",
        "- A번 말이 이동하려는 칸이\n",
        "  - 흰색인 경우에는 그 칸으로 이동한다. 이동하려는 칸에 말이 이미 있는 경우에는 가장 위에 A번 말을 올려놓는다.\n",
        "    - A번 말의 위에 다른 말이 있는 경우에는 A번 말과 위에 있는 모든 말이 이동한다.\n",
        "    - 예를 들어, A,B,C로 쌓여있고, 이동하려는 칸에 D,E가 있는 경우에는 A번 말이 이동한 후에는 D,E,A,B,C가 된다.\n",
        "  - 빨간색인 경우에는 이동한 후에 A번 말과 그 위에 있는 모든 말의 쌓여 있는 순서를 반대로 바꾼다.\n",
        "    - A,B,C가 이동하고, 이동하려는 칸에 말이 없는 경우에는 C,B,A가 된다.\n",
        "    - A,D,F,G가 이동하고, 이동하려는 칸에 말이 E,C,B로 있는 경우에는 E,C,B,G,F,D,A가 된다.\n",
        "  - 파란색인 경우에는 A번 말의 이동 방향을 반대로 하고 한칸 이동한다. 방향을 반대로 한 후에 이동하려는 칸이 파란색인 경우에는 이동하지 않고 방향만 반대로 바꾼다.\n",
        "  - 체스판을 벗어나는 경우에는 파란색과 같은 경우이다.\n",
        "\n",
        "체스판의 크기와 말의 위치, 이동 방향이 모두 주어졌을 때, 게임이 종료되는 턴의 번호를 구해보자.\n",
        "\n",
        "## 입력\n",
        "첫째 줄에 체스판의 크기 N, 말의 개수 K가 주어진다. 둘째 줄부터 N개의 줄에 체스판의 정보가 주어진다. 체스판의 정보는 정수로 이루어져 있고, 각 정수는 칸의 색을 의미한다. 0은 흰색, 1은 빨간색, 2는 파란색이다.\n",
        "\n",
        "다음 K개의 줄에 말의 정보가 1번 말부터 순서대로 주어진다. 말의 정보는 세 개의 정수로 이루어져 있고, 순서대로 행, 열의 번호, 이동 방향이다. 행과 열의 번호는 1부터 시작하고, 이동 방향은 4보다 작거나 같은 자연수이고 1부터 순서대로 →, ←, ↑, ↓의 의미를 갖는다.\n",
        "\n",
        "같은 칸에 말이 두 개 이상 있는 경우는 입력으로 주어지지 않는다.\n",
        "\n",
        "## 출력\n",
        "게임이 종료되는 턴의 번호를 출력한다. 그 값이 1,000보다 크거나 절대로 게임이 종료되지 않는 경우에는 -1을 출력한다."
      ],
      "metadata": {
        "id": "SFxPl7K7ZOJF"
      }
    },
    {
      "cell_type": "code",
      "source": [
        "\n",
        "n, k = map(int, input().split())\n",
        "board = [] # 게임판의 상태(색)\n",
        "\n",
        "for i in range(n) :\n",
        "  row = list(map(int, input().split()))\n",
        "  board.append(row)\n",
        "\n",
        "chess = [[[] for _ in range(n)] for _ in range(n)]\n",
        "states = [[] for _ in range(k)]\n",
        "for i in range(k) :\n",
        "  y, x, dir = map(int, input().split())\n",
        "  states[i] = [x-1,y-1,dir-1, i]\n",
        "  chess[y-1][x-1].append(states[i])\n",
        "\n",
        "dx = [1,-1,0,0]\n",
        "dy = [0,0,-1,1]\n",
        "time = 1\n",
        "answer = -1\n",
        "\n",
        "def setPos (x, y) :\n",
        "  for node in chess[y][x] :\n",
        "    node[0] = x\n",
        "    node[1] = y\n",
        "\n",
        "def move (i, x, y, dir, over = False) :\n",
        "  nx = x + dx[dir] # 움직일 x\n",
        "  ny = y + dy[dir] # 움직일 y\n",
        "\n",
        "  if nx < 0 or nx >= n or ny < 0 or ny >= n or board[ny][nx] == 2 :\n",
        "    # 파란색이거나 게임판을 넘어갔을 때\n",
        "    if over : # 이미 한번 파란칸 또는 게임판을 넘어간 경우\n",
        "      return False # 제자리에 남아있는다.\n",
        "    else : # 방향을 반대로 바꾸고 다음 한칸 이동\n",
        "      if dir % 2 == 0 : dir += 1\n",
        "      else : dir -= 1\n",
        "      states[i][2] = dir # 방향 바꾸기\n",
        "      return move(i, x, y, dir, True)\n",
        "  elif board[ny][nx] == 0 : # 흰칸인 경우 그냥 이동\n",
        "    chess[ny][nx] += chess[y][x]\n",
        "    chess[y][x] = []\n",
        "    setPos(nx, ny)\n",
        "    return len(chess[ny][nx]) >= 4 # 4개 이상 쌓인 경우\n",
        "  else : # 빨간칸인 경우 순서 바꾸고 이동\n",
        "    tmp = reversed(chess[y][x])\n",
        "    chess[ny][nx] += tmp\n",
        "    chess[y][x] = []\n",
        "    setPos(nx, ny)\n",
        "    return len(chess[ny][nx]) >= 4 # 4개 이상 쌓인 경우\n",
        "\n",
        "while answer == -1 and time <= 1000 :\n",
        "  for i in range(k) :\n",
        "    state = states[i]\n",
        "    x, y, dir = state[0],state[1],state[2]\n",
        "\n",
        "    if chess[y][x].index(state) != 0 : # 가장 밑에 말만 움직일 수 있음.\n",
        "      continue\n",
        "    \n",
        "    if move(i,x,y,dir) :\n",
        "      answer = time\n",
        "      break\n",
        "  # for\n",
        "  time += 1\n",
        "# while\n",
        "\n",
        "print(answer)"
      ],
      "metadata": {
        "colab": {
          "base_uri": "https://localhost:8080/"
        },
        "id": "hPsbOJbab265",
        "outputId": "565ed0d8-ce65-47c2-f1bd-56aabb80e032"
      },
      "execution_count": 22,
      "outputs": [
        {
          "output_type": "stream",
          "name": "stdout",
          "text": [
            "6 10\n",
            "0 1 2 0 1 1\n",
            "1 2 0 1 1 0\n",
            "2 1 0 1 1 0\n",
            "1 0 1 1 0 2\n",
            "2 0 1 2 0 1\n",
            "0 2 1 0 2 1\n",
            "1 1 1\n",
            "2 2 2\n",
            "3 3 4\n",
            "4 4 1\n",
            "5 5 3\n",
            "6 6 2\n",
            "1 6 3\n",
            "6 1 2\n",
            "2 4 3\n",
            "4 2 1\n",
            "9\n"
          ]
        }
      ]
    }
  ]
}