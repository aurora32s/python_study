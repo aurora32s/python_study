{
  "nbformat": 4,
  "nbformat_minor": 0,
  "metadata": {
    "kernelspec": {
      "display_name": "Python 3",
      "language": "python",
      "name": "python3"
    },
    "language_info": {
      "codemirror_mode": {
        "name": "ipython",
        "version": 3
      },
      "file_extension": ".py",
      "mimetype": "text/x-python",
      "name": "python",
      "nbconvert_exporter": "python",
      "pygments_lexer": "ipython3",
      "version": "3.7.2"
    },
    "nbTranslate": {
      "displayLangs": [
        "*"
      ],
      "hotkey": "alt-t",
      "langInMainMenu": true,
      "sourceLang": "en",
      "targetLang": "fr",
      "useGoogleTranslate": true
    },
    "colab": {
      "name": "Chapter18-너비우선 탐색 (BFS)-live.ipynb",
      "provenance": [],
      "include_colab_link": true
    }
  },
  "cells": [
    {
      "cell_type": "markdown",
      "metadata": {
        "id": "view-in-github",
        "colab_type": "text"
      },
      "source": [
        "<a href=\"https://colab.research.google.com/github/aurora32s/python_study/blob/master/%EB%84%88%EB%B9%84%EC%9A%B0%EC%84%A0_%ED%83%90%EC%83%89.ipynb\" target=\"_parent\"><img src=\"https://colab.research.google.com/assets/colab-badge.svg\" alt=\"Open In Colab\"/></a>"
      ]
    },
    {
      "cell_type": "markdown",
      "metadata": {
        "id": "-lyPweXYifzS"
      },
      "source": [
        "## 너비 우선 탐색 (Breadth-First Search)"
      ]
    },
    {
      "cell_type": "markdown",
      "metadata": {
        "id": "oUJhNr-9ifzV"
      },
      "source": [
        "### 1. BFS 와 DFS 란?\n",
        "* 대표적인 그래프 **탐색** 알고리즘\n",
        "  - 너비 우선 탐색 (Breadth First Search): 정점들과 같은 레벨에 있는 노드들 (형제 노드들)을 먼저 탐색하는 방식\n",
        "  - 깊이 우선 탐색 (Depth First Search): 정점의 자식들을 먼저 탐색하는 방식"
      ]
    },
    {
      "cell_type": "markdown",
      "metadata": {
        "id": "A99nUE8LifzW"
      },
      "source": [
        "#### BFS/DFS 방식 이해를 위한 예제\n",
        "- BFS 방식: A - B - C - D - G - H - I - E - F - J \n",
        "  - 한 단계씩 내려가면서, 해당 노드와 같은 레벨에 있는 노드들 (형제 노드들)을 먼저 순회함\n",
        "- DFS 방식: A - B - D - E - F - C - G - H - I - J \n",
        "  - 한 노드의 자식을 타고 끝까지 순회한 후, 다시 돌아와서 다른 형제들의 자식을 타고 내려가며 순화함\n",
        "\n",
        "<img src=\"https://www.fun-coding.org/00_Images/BFSDFS.png\" width=700>"
      ]
    },
    {
      "cell_type": "markdown",
      "metadata": {
        "id": "oKe8K5hoifzW"
      },
      "source": [
        "### 2. 파이썬으로 그래프를 표현하는 방법\n",
        "- 파이썬에서 제공하는 딕셔너리와 리스트 자료 구조를 활용해서 그래프를 표현할 수 있음"
      ]
    },
    {
      "cell_type": "markdown",
      "metadata": {
        "id": "bIJb_nXTifzW"
      },
      "source": [
        "### 그래프 예와 파이썬 표현\n",
        "<img src=\"https://www.fun-coding.org/00_Images/bfsgraph.png\" width=700>"
      ]
    },
    {
      "cell_type": "code",
      "metadata": {
        "id": "s3BxpE4qifzX"
      },
      "source": [
        "graph = dict()\n",
        "\n",
        "graph['A'] = ['B', 'C']\n",
        "graph['B'] = ['A', 'D']\n",
        "graph['C'] = ['A', 'G', 'H', 'I']\n",
        "graph['D'] = ['B', 'E', 'F']\n",
        "graph['E'] = ['D']\n",
        "graph['F'] = ['D']\n",
        "graph['G'] = ['C']\n",
        "graph['H'] = ['C']\n",
        "graph['I'] = ['C', 'J']\n",
        "graph['J'] = ['I']"
      ],
      "execution_count": null,
      "outputs": []
    },
    {
      "cell_type": "code",
      "metadata": {
        "id": "kkoDFa1gifzY",
        "outputId": "e1eb7f4c-c1e5-4201-8443-5cf67a49dd81"
      },
      "source": [
        "graph"
      ],
      "execution_count": null,
      "outputs": [
        {
          "data": {
            "text/plain": [
              "{'A': ['B', 'C'],\n",
              " 'B': ['A', 'D'],\n",
              " 'C': ['A', 'G', 'H', 'I'],\n",
              " 'D': ['B', 'E', 'F'],\n",
              " 'E': ['D'],\n",
              " 'F': ['D'],\n",
              " 'G': ['C'],\n",
              " 'H': ['C'],\n",
              " 'I': ['C', 'J'],\n",
              " 'J': ['I']}"
            ]
          },
          "execution_count": 5,
          "metadata": {},
          "output_type": "execute_result"
        }
      ]
    },
    {
      "cell_type": "markdown",
      "metadata": {
        "id": "ttuinJQRifzY"
      },
      "source": [
        "### 3. BFS 알고리즘 구현\n",
        "\n",
        "- 자료구조 큐를 활용함\n",
        "  - need_visit 큐와 visited 큐, 두 개의 큐를 생성\n",
        "  \n",
        "<img src=\"https://www.fun-coding.org/00_Images/bfsqueue.png\" width=700>"
      ]
    },
    {
      "cell_type": "markdown",
      "metadata": {
        "id": "c9vOitjzifzZ"
      },
      "source": [
        "- 큐의 구현은 간단히 파이썬 리스트를 활용"
      ]
    },
    {
      "cell_type": "code",
      "metadata": {
        "id": "ioCrf0GhifzZ",
        "outputId": "5af58e3a-43fd-4f2b-9626-cb1db57dd645"
      },
      "source": [
        "data = [1, 2, 3]\n",
        "data.extend([4, 5])\n",
        "data"
      ],
      "execution_count": null,
      "outputs": [
        {
          "data": {
            "text/plain": [
              "[1, 2, 3, 4, 5]"
            ]
          },
          "execution_count": 9,
          "metadata": {},
          "output_type": "execute_result"
        }
      ]
    },
    {
      "cell_type": "code",
      "metadata": {
        "id": "gi4VdQpWifza"
      },
      "source": [
        "def bfs(graph, start_node):\n",
        "    visited = list()\n",
        "    need_visit = list()\n",
        "    \n",
        "    need_visit.append(start_node)\n",
        "    \n",
        "    while need_visit:\n",
        "        node = need_visit.pop(0)\n",
        "        if node not in visited:\n",
        "            visited.append(node)\n",
        "            need_visit.extend(graph[node])\n",
        "    \n",
        "    return visited"
      ],
      "execution_count": null,
      "outputs": []
    },
    {
      "cell_type": "code",
      "metadata": {
        "id": "FrhIwRSbifza",
        "outputId": "f0926042-1653-4274-89b7-bf634770d0b2"
      },
      "source": [
        "bfs(graph, 'A')"
      ],
      "execution_count": null,
      "outputs": [
        {
          "data": {
            "text/plain": [
              "['A', 'B', 'C', 'D', 'G', 'H', 'I', 'E', 'F', 'J']"
            ]
          },
          "execution_count": 13,
          "metadata": {},
          "output_type": "execute_result"
        }
      ]
    },
    {
      "cell_type": "markdown",
      "metadata": {
        "id": "K2arrU_qifza"
      },
      "source": [
        "<img src=\"https://www.fun-coding.org/00_Images/bfsgraph.png\" width=700>"
      ]
    },
    {
      "cell_type": "markdown",
      "metadata": {
        "id": "sqT20PEsifzb"
      },
      "source": [
        "### 4. 시간 복잡도\n",
        "- 일반적인 BFS 시간 복잡도\n",
        "  - 노드 수: V\n",
        "  - 간선 수: E\n",
        "    - 위 코드에서 while need_visit 은 V + E 번 만큼 수행함\n",
        "  - 시간 복잡도: O(V + E)\n",
        "  "
      ]
    },
    {
      "cell_type": "code",
      "metadata": {
        "id": "g0ErDkvGifzb"
      },
      "source": [
        "def bfs(graph, start_node):\n",
        "    visited = list()\n",
        "    need_visit = list()\n",
        "    \n",
        "    need_visit.append(start_node)\n",
        "    count = 0\n",
        "    while need_visit:\n",
        "        count += 1\n",
        "        node = need_visit.pop(0)\n",
        "        if node not in visited:\n",
        "            visited.append(node)\n",
        "            need_visit.extend(graph[node])\n",
        "    print (count)\n",
        "    return visited"
      ],
      "execution_count": null,
      "outputs": []
    },
    {
      "cell_type": "code",
      "metadata": {
        "id": "k8kgVKfHifzb",
        "outputId": "e80261b0-2b03-4657-da0d-db1b75945dd5"
      },
      "source": [
        "bfs(graph, 'A')"
      ],
      "execution_count": null,
      "outputs": [
        {
          "name": "stdout",
          "output_type": "stream",
          "text": [
            "19\n"
          ]
        },
        {
          "data": {
            "text/plain": [
              "['A', 'B', 'C', 'D', 'G', 'H', 'I', 'E', 'F', 'J']"
            ]
          },
          "execution_count": 16,
          "metadata": {},
          "output_type": "execute_result"
        }
      ]
    },
    {
      "cell_type": "code",
      "metadata": {
        "id": "2tURAhTDifzb"
      },
      "source": [
        ""
      ],
      "execution_count": null,
      "outputs": []
    }
  ]
}